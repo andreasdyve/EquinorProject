{
 "cells": [
  {
   "cell_type": "markdown",
   "metadata": {},
   "source": [
    "# Leser inn begge filene og setter de sammen til ett datasett"
   ]
  },
  {
   "cell_type": "code",
   "execution_count": 2,
   "metadata": {},
   "outputs": [
    {
     "name": "stdout",
     "output_type": "stream",
     "text": [
      "        timeVectRelMinutes_Dataset 1  battery_0__actualPower  \\\n",
      "0                           0.000000                       0   \n",
      "1                           0.016650                       0   \n",
      "2                           0.033317                       0   \n",
      "3                           0.049983                       1   \n",
      "4                           0.066667                       1   \n",
      "...                              ...                     ...   \n",
      "604795                  10079.916783                     -20   \n",
      "604796                  10079.933483                      11   \n",
      "604797                  10079.950117                      11   \n",
      "604798                  10079.966800                      17   \n",
      "604799                  10079.983450                      -1   \n",
      "\n",
      "        thrusterAndPropulsion  sumEngMdoPower  hotelLoad  shorePowerEstimated  \\\n",
      "0                         0.0               0      250.0                  250   \n",
      "1                         0.0               0      250.0                  250   \n",
      "2                         0.0               0      250.0                  250   \n",
      "3                         0.0               0      250.0                  249   \n",
      "4                         0.0               0      250.0                  249   \n",
      "...                       ...             ...        ...                  ...   \n",
      "604795                 1386.0            2037      631.0                    0   \n",
      "604796                 1408.0            2009      612.0                    0   \n",
      "604797                 1430.0            2116      697.0                    0   \n",
      "604798                 1430.0            2015      602.0                    0   \n",
      "604799                 1386.0            1954      567.0                    0   \n",
      "\n",
      "        numberOfMdoEnginesRunning  operationId  dpMode  engMdoPower_0_  ...  \\\n",
      "0                               0            6       0               0  ...   \n",
      "1                               0            6       0               0  ...   \n",
      "2                               0            6       0               0  ...   \n",
      "3                               0            6       0               0  ...   \n",
      "4                               0            6       0               0  ...   \n",
      "...                           ...          ...     ...             ...  ...   \n",
      "604795                          2            3       0               0  ...   \n",
      "604796                          2            3       0               0  ...   \n",
      "604797                          2            3       0               0  ...   \n",
      "604798                          2            3       0               0  ...   \n",
      "604799                          2            3       0               0  ...   \n",
      "\n",
      "        engMdoPower_3_  timeVectRelMinutes_Dataset 2  engMdoPerformance_0_  \\\n",
      "0                    0                      0.000000                   0.0   \n",
      "1                    0                      0.016650                   0.0   \n",
      "2                    0                      0.033317                   0.0   \n",
      "3                    0                      0.049983                   0.0   \n",
      "4                    0                      0.066667                   0.0   \n",
      "...                ...                           ...                   ...   \n",
      "604795            1043                  10079.916783                   0.0   \n",
      "604796             952                  10079.933483                   0.0   \n",
      "604797            1062                  10079.950117                   0.0   \n",
      "604798             996                  10079.966800                   0.0   \n",
      "604799             969                  10079.983450                   0.0   \n",
      "\n",
      "        engMdoPerformance_1_  engMdoPerformance_2_  engMdoPerformance_3_  \\\n",
      "0                      0.000                     0                 0.000   \n",
      "1                      0.000                     0                 0.000   \n",
      "2                      0.000                     0                 0.000   \n",
      "3                      0.000                     0                 0.000   \n",
      "4                      0.000                     0                 0.000   \n",
      "...                      ...                   ...                   ...   \n",
      "604795               222.037                     0               210.362   \n",
      "604796               212.690                     0               235.104   \n",
      "604797               216.045                     0               213.359   \n",
      "604798               223.550                     0               222.416   \n",
      "604799               226.261                     0               223.972   \n",
      "\n",
      "        engMdoConsumption_0_  engMdoConsumption_1_  engMdoConsumption_2_  \\\n",
      "0                        0.0                  0.00                   0.0   \n",
      "1                        0.0                  0.00                   0.0   \n",
      "2                        0.0                  0.00                   0.0   \n",
      "3                        0.0                  0.00                   0.0   \n",
      "4                        0.0                  0.00                   0.0   \n",
      "...                      ...                   ...                   ...   \n",
      "604795                   0.0                255.15                   0.0   \n",
      "604796                   0.0                259.90                   0.0   \n",
      "604797                   0.0                263.25                   0.0   \n",
      "604798                   0.0                263.35                   0.0   \n",
      "604799                   0.0                257.65                   0.0   \n",
      "\n",
      "        engMdoConsumption_3_  \n",
      "0                       0.00  \n",
      "1                       0.00  \n",
      "2                       0.00  \n",
      "3                       0.00  \n",
      "4                       0.00  \n",
      "...                      ...  \n",
      "604795                253.65  \n",
      "604796                258.75  \n",
      "604797                261.95  \n",
      "604798                256.10  \n",
      "604799                250.90  \n",
      "\n",
      "[604800 rows x 22 columns]\n"
     ]
    }
   ],
   "source": [
    "import pandas as pd\n",
    "df = pd.read_excel('dataTableStudents_I.xlsx')\n",
    "df2 = pd.read_excel('dataTableStudents_II.xlsx')\n",
    "df = df.join(df2, lsuffix='_Dataset 1', rsuffix='_Dataset 2')\n",
    "print(df)"
   ]
  },
  {
   "cell_type": "code",
   "execution_count": 4,
   "metadata": {},
   "outputs": [
    {
     "name": "stdout",
     "output_type": "stream",
     "text": [
      "Index(['timeVectRelMinutes_Dataset 1', 'battery_0__actualPower',\n",
      "       'thrusterAndPropulsion', 'sumEngMdoPower', 'hotelLoad',\n",
      "       'shorePowerEstimated', 'numberOfMdoEnginesRunning', 'operationId',\n",
      "       'dpMode', 'engMdoPower_0_', 'engMdoPower_1_', 'engMdoPower_2_',\n",
      "       'engMdoPower_3_', 'timeVectRelMinutes_Dataset 2',\n",
      "       'engMdoPerformance_0_', 'engMdoPerformance_1_', 'engMdoPerformance_2_',\n",
      "       'engMdoPerformance_3_', 'engMdoConsumption_0_', 'engMdoConsumption_1_',\n",
      "       'engMdoConsumption_2_', 'engMdoConsumption_3_'],\n",
      "      dtype='object')\n"
     ]
    }
   ],
   "source": [
    "print(df.columns)"
   ]
  },
  {
   "cell_type": "markdown",
   "metadata": {},
   "source": [
    "# Nøkkeltall for kolonnene i de 9 neste cellene"
   ]
  },
  {
   "cell_type": "code",
   "execution_count": 6,
   "metadata": {},
   "outputs": [
    {
     "data": {
      "text/plain": [
       "count    604800.000000\n",
       "mean         -0.380103\n",
       "std          78.325232\n",
       "min        -863.000000\n",
       "25%          -5.000000\n",
       "50%           0.000000\n",
       "75%           8.000000\n",
       "max         725.000000\n",
       "Name: battery_0__actualPower, dtype: float64"
      ]
     },
     "execution_count": 6,
     "metadata": {},
     "output_type": "execute_result"
    }
   ],
   "source": [
    "df.battery_0__actualPower.describe()"
   ]
  },
  {
   "cell_type": "code",
   "execution_count": 8,
   "metadata": {},
   "outputs": [
    {
     "data": {
      "text/plain": [
       "count    604800.000000\n",
       "mean        595.090588\n",
       "std         544.110951\n",
       "min           0.000000\n",
       "25%           0.000000\n",
       "50%         480.810000\n",
       "75%        1144.000000\n",
       "max        3741.740000\n",
       "Name: thrusterAndPropulsion, dtype: float64"
      ]
     },
     "execution_count": 8,
     "metadata": {},
     "output_type": "execute_result"
    }
   ],
   "source": [
    "df.thrusterAndPropulsion.describe()"
   ]
  },
  {
   "cell_type": "code",
   "execution_count": 3,
   "metadata": {},
   "outputs": [
    {
     "data": {
      "text/plain": [
       "count    604800.000000\n",
       "mean        432.619608\n",
       "std         167.741535\n",
       "min        -431.740000\n",
       "25%         250.000000\n",
       "50%         416.000000\n",
       "75%         553.000000\n",
       "max        1823.040000\n",
       "Name: hotelLoad, dtype: float64"
      ]
     },
     "execution_count": 3,
     "metadata": {},
     "output_type": "execute_result"
    }
   ],
   "source": [
    "df.hotelLoad.describe()"
   ]
  },
  {
   "cell_type": "code",
   "execution_count": 10,
   "metadata": {},
   "outputs": [
    {
     "data": {
      "text/plain": [
       "count    604800.000000\n",
       "mean        953.869813\n",
       "std         761.212179\n",
       "min           0.000000\n",
       "25%           0.000000\n",
       "50%         961.000000\n",
       "75%        1657.000000\n",
       "max        4455.000000\n",
       "Name: sumEngMdoPower, dtype: float64"
      ]
     },
     "execution_count": 10,
     "metadata": {},
     "output_type": "execute_result"
    }
   ],
   "source": [
    "df.sumEngMdoPower.describe()"
   ]
  },
  {
   "cell_type": "code",
   "execution_count": 11,
   "metadata": {},
   "outputs": [
    {
     "data": {
      "text/plain": [
       "count    604800.000000\n",
       "mean         74.220486\n",
       "std         119.264523\n",
       "min           0.000000\n",
       "25%           0.000000\n",
       "50%           0.000000\n",
       "75%         249.000000\n",
       "max         354.000000\n",
       "Name: shorePowerEstimated, dtype: float64"
      ]
     },
     "execution_count": 11,
     "metadata": {},
     "output_type": "execute_result"
    }
   ],
   "source": [
    "df.shorePowerEstimated.describe()"
   ]
  },
  {
   "cell_type": "code",
   "execution_count": 13,
   "metadata": {},
   "outputs": [
    {
     "data": {
      "text/plain": [
       "count    604800.000000\n",
       "mean        111.577940\n",
       "std         274.123313\n",
       "min           0.000000\n",
       "25%           0.000000\n",
       "50%           0.000000\n",
       "75%           0.000000\n",
       "max        2072.000000\n",
       "Name: engMdoPower_0_, dtype: float64"
      ]
     },
     "execution_count": 13,
     "metadata": {},
     "output_type": "execute_result"
    }
   ],
   "source": [
    "df.engMdoPower_0_.describe()"
   ]
  },
  {
   "cell_type": "code",
   "execution_count": 14,
   "metadata": {},
   "outputs": [
    {
     "data": {
      "text/plain": [
       "count    604800.000000\n",
       "mean        500.024058\n",
       "std         626.336058\n",
       "min           0.000000\n",
       "25%           0.000000\n",
       "50%         304.000000\n",
       "75%         741.000000\n",
       "max        2182.000000\n",
       "Name: engMdoPower_1_, dtype: float64"
      ]
     },
     "execution_count": 14,
     "metadata": {},
     "output_type": "execute_result"
    }
   ],
   "source": [
    "df.engMdoPower_1_.describe()"
   ]
  },
  {
   "cell_type": "code",
   "execution_count": 15,
   "metadata": {},
   "outputs": [
    {
     "data": {
      "text/plain": [
       "count    604800.0\n",
       "mean          0.0\n",
       "std           0.0\n",
       "min           0.0\n",
       "25%           0.0\n",
       "50%           0.0\n",
       "75%           0.0\n",
       "max           0.0\n",
       "Name: engMdoPower_2_, dtype: float64"
      ]
     },
     "execution_count": 15,
     "metadata": {},
     "output_type": "execute_result"
    }
   ],
   "source": [
    "df.engMdoPower_2_.describe()"
   ]
  },
  {
   "cell_type": "code",
   "execution_count": 16,
   "metadata": {},
   "outputs": [
    {
     "data": {
      "text/plain": [
       "count    604800.000000\n",
       "mean        342.267816\n",
       "std         472.450531\n",
       "min           0.000000\n",
       "25%           0.000000\n",
       "50%           0.000000\n",
       "75%         567.000000\n",
       "max        2145.000000\n",
       "Name: engMdoPower_3_, dtype: float64"
      ]
     },
     "execution_count": 16,
     "metadata": {},
     "output_type": "execute_result"
    }
   ],
   "source": [
    "df.engMdoPower_3_.describe()"
   ]
  },
  {
   "cell_type": "code",
   "execution_count": 25,
   "metadata": {},
   "outputs": [
    {
     "data": {
      "text/plain": [
       "-229886"
      ]
     },
     "execution_count": 25,
     "metadata": {},
     "output_type": "execute_result"
    }
   ],
   "source": [
    "# summen av batteri input og output\n",
    "df.battery_0__actualPower.sum()"
   ]
  },
  {
   "cell_type": "code",
   "execution_count": 38,
   "metadata": {},
   "outputs": [
    {
     "data": {
      "text/html": [
       "<div>\n",
       "<style scoped>\n",
       "    .dataframe tbody tr th:only-of-type {\n",
       "        vertical-align: middle;\n",
       "    }\n",
       "\n",
       "    .dataframe tbody tr th {\n",
       "        vertical-align: top;\n",
       "    }\n",
       "\n",
       "    .dataframe thead th {\n",
       "        text-align: right;\n",
       "    }\n",
       "</style>\n",
       "<table border=\"1\" class=\"dataframe\">\n",
       "  <thead>\n",
       "    <tr style=\"text-align: right;\">\n",
       "      <th></th>\n",
       "      <th>timeVectRelMinutes</th>\n",
       "      <th>battery_0__actualPower</th>\n",
       "      <th>thrusterAndPropulsion</th>\n",
       "      <th>sumEngMdoPower</th>\n",
       "      <th>hotelLoad</th>\n",
       "      <th>shorePowerEstimated</th>\n",
       "      <th>numberOfMdoEnginesRunning</th>\n",
       "      <th>operationId</th>\n",
       "      <th>dpMode</th>\n",
       "      <th>engMdoPower_0_</th>\n",
       "      <th>engMdoPower_1_</th>\n",
       "      <th>engMdoPower_2_</th>\n",
       "      <th>engMdoPower_3_</th>\n",
       "    </tr>\n",
       "  </thead>\n",
       "  <tbody>\n",
       "    <tr>\n",
       "      <th>7</th>\n",
       "      <td>0.116650</td>\n",
       "      <td>-1</td>\n",
       "      <td>0.0</td>\n",
       "      <td>0</td>\n",
       "      <td>250.0</td>\n",
       "      <td>251</td>\n",
       "      <td>0</td>\n",
       "      <td>6</td>\n",
       "      <td>0</td>\n",
       "      <td>0</td>\n",
       "      <td>0</td>\n",
       "      <td>0</td>\n",
       "      <td>0</td>\n",
       "    </tr>\n",
       "    <tr>\n",
       "      <th>8</th>\n",
       "      <td>0.133333</td>\n",
       "      <td>-1</td>\n",
       "      <td>0.0</td>\n",
       "      <td>0</td>\n",
       "      <td>250.0</td>\n",
       "      <td>251</td>\n",
       "      <td>0</td>\n",
       "      <td>6</td>\n",
       "      <td>0</td>\n",
       "      <td>0</td>\n",
       "      <td>0</td>\n",
       "      <td>0</td>\n",
       "      <td>0</td>\n",
       "    </tr>\n",
       "    <tr>\n",
       "      <th>16</th>\n",
       "      <td>0.266650</td>\n",
       "      <td>-1</td>\n",
       "      <td>0.0</td>\n",
       "      <td>0</td>\n",
       "      <td>250.0</td>\n",
       "      <td>251</td>\n",
       "      <td>0</td>\n",
       "      <td>6</td>\n",
       "      <td>0</td>\n",
       "      <td>0</td>\n",
       "      <td>0</td>\n",
       "      <td>0</td>\n",
       "      <td>0</td>\n",
       "    </tr>\n",
       "    <tr>\n",
       "      <th>17</th>\n",
       "      <td>0.283317</td>\n",
       "      <td>-1</td>\n",
       "      <td>0.0</td>\n",
       "      <td>0</td>\n",
       "      <td>250.0</td>\n",
       "      <td>251</td>\n",
       "      <td>0</td>\n",
       "      <td>6</td>\n",
       "      <td>0</td>\n",
       "      <td>0</td>\n",
       "      <td>0</td>\n",
       "      <td>0</td>\n",
       "      <td>0</td>\n",
       "    </tr>\n",
       "    <tr>\n",
       "      <th>18</th>\n",
       "      <td>0.299983</td>\n",
       "      <td>-1</td>\n",
       "      <td>0.0</td>\n",
       "      <td>0</td>\n",
       "      <td>250.0</td>\n",
       "      <td>251</td>\n",
       "      <td>0</td>\n",
       "      <td>6</td>\n",
       "      <td>0</td>\n",
       "      <td>0</td>\n",
       "      <td>0</td>\n",
       "      <td>0</td>\n",
       "      <td>0</td>\n",
       "    </tr>\n",
       "    <tr>\n",
       "      <th>...</th>\n",
       "      <td>...</td>\n",
       "      <td>...</td>\n",
       "      <td>...</td>\n",
       "      <td>...</td>\n",
       "      <td>...</td>\n",
       "      <td>...</td>\n",
       "      <td>...</td>\n",
       "      <td>...</td>\n",
       "      <td>...</td>\n",
       "      <td>...</td>\n",
       "      <td>...</td>\n",
       "      <td>...</td>\n",
       "      <td>...</td>\n",
       "    </tr>\n",
       "    <tr>\n",
       "      <th>604785</th>\n",
       "      <td>10079.750133</td>\n",
       "      <td>-1</td>\n",
       "      <td>1474.0</td>\n",
       "      <td>2047</td>\n",
       "      <td>572.0</td>\n",
       "      <td>0</td>\n",
       "      <td>2</td>\n",
       "      <td>3</td>\n",
       "      <td>0</td>\n",
       "      <td>0</td>\n",
       "      <td>1018</td>\n",
       "      <td>0</td>\n",
       "      <td>1029</td>\n",
       "    </tr>\n",
       "    <tr>\n",
       "      <th>604787</th>\n",
       "      <td>10079.783450</td>\n",
       "      <td>-25</td>\n",
       "      <td>1430.0</td>\n",
       "      <td>2060</td>\n",
       "      <td>605.0</td>\n",
       "      <td>0</td>\n",
       "      <td>2</td>\n",
       "      <td>3</td>\n",
       "      <td>0</td>\n",
       "      <td>0</td>\n",
       "      <td>1063</td>\n",
       "      <td>0</td>\n",
       "      <td>997</td>\n",
       "    </tr>\n",
       "    <tr>\n",
       "      <th>604794</th>\n",
       "      <td>10079.900117</td>\n",
       "      <td>-18</td>\n",
       "      <td>1386.0</td>\n",
       "      <td>1925</td>\n",
       "      <td>521.0</td>\n",
       "      <td>0</td>\n",
       "      <td>2</td>\n",
       "      <td>3</td>\n",
       "      <td>0</td>\n",
       "      <td>0</td>\n",
       "      <td>947</td>\n",
       "      <td>0</td>\n",
       "      <td>978</td>\n",
       "    </tr>\n",
       "    <tr>\n",
       "      <th>604795</th>\n",
       "      <td>10079.916783</td>\n",
       "      <td>-20</td>\n",
       "      <td>1386.0</td>\n",
       "      <td>2037</td>\n",
       "      <td>631.0</td>\n",
       "      <td>0</td>\n",
       "      <td>2</td>\n",
       "      <td>3</td>\n",
       "      <td>0</td>\n",
       "      <td>0</td>\n",
       "      <td>994</td>\n",
       "      <td>0</td>\n",
       "      <td>1043</td>\n",
       "    </tr>\n",
       "    <tr>\n",
       "      <th>604799</th>\n",
       "      <td>10079.983450</td>\n",
       "      <td>-1</td>\n",
       "      <td>1386.0</td>\n",
       "      <td>1954</td>\n",
       "      <td>567.0</td>\n",
       "      <td>0</td>\n",
       "      <td>2</td>\n",
       "      <td>3</td>\n",
       "      <td>0</td>\n",
       "      <td>0</td>\n",
       "      <td>985</td>\n",
       "      <td>0</td>\n",
       "      <td>969</td>\n",
       "    </tr>\n",
       "  </tbody>\n",
       "</table>\n",
       "<p>212594 rows × 13 columns</p>\n",
       "</div>"
      ],
      "text/plain": [
       "        timeVectRelMinutes  battery_0__actualPower  thrusterAndPropulsion  \\\n",
       "7                 0.116650                      -1                    0.0   \n",
       "8                 0.133333                      -1                    0.0   \n",
       "16                0.266650                      -1                    0.0   \n",
       "17                0.283317                      -1                    0.0   \n",
       "18                0.299983                      -1                    0.0   \n",
       "...                    ...                     ...                    ...   \n",
       "604785        10079.750133                      -1                 1474.0   \n",
       "604787        10079.783450                     -25                 1430.0   \n",
       "604794        10079.900117                     -18                 1386.0   \n",
       "604795        10079.916783                     -20                 1386.0   \n",
       "604799        10079.983450                      -1                 1386.0   \n",
       "\n",
       "        sumEngMdoPower  hotelLoad  shorePowerEstimated  \\\n",
       "7                    0      250.0                  251   \n",
       "8                    0      250.0                  251   \n",
       "16                   0      250.0                  251   \n",
       "17                   0      250.0                  251   \n",
       "18                   0      250.0                  251   \n",
       "...                ...        ...                  ...   \n",
       "604785            2047      572.0                    0   \n",
       "604787            2060      605.0                    0   \n",
       "604794            1925      521.0                    0   \n",
       "604795            2037      631.0                    0   \n",
       "604799            1954      567.0                    0   \n",
       "\n",
       "        numberOfMdoEnginesRunning  operationId  dpMode  engMdoPower_0_  \\\n",
       "7                               0            6       0               0   \n",
       "8                               0            6       0               0   \n",
       "16                              0            6       0               0   \n",
       "17                              0            6       0               0   \n",
       "18                              0            6       0               0   \n",
       "...                           ...          ...     ...             ...   \n",
       "604785                          2            3       0               0   \n",
       "604787                          2            3       0               0   \n",
       "604794                          2            3       0               0   \n",
       "604795                          2            3       0               0   \n",
       "604799                          2            3       0               0   \n",
       "\n",
       "        engMdoPower_1_  engMdoPower_2_  engMdoPower_3_  \n",
       "7                    0               0               0  \n",
       "8                    0               0               0  \n",
       "16                   0               0               0  \n",
       "17                   0               0               0  \n",
       "18                   0               0               0  \n",
       "...                ...             ...             ...  \n",
       "604785            1018               0            1029  \n",
       "604787            1063               0             997  \n",
       "604794             947               0             978  \n",
       "604795             994               0            1043  \n",
       "604799             985               0             969  \n",
       "\n",
       "[212594 rows x 13 columns]"
      ]
     },
     "execution_count": 38,
     "metadata": {},
     "output_type": "execute_result"
    }
   ],
   "source": [
    "# Sjekker alle kolonner hvor batteriet lades\n",
    "df.loc[df['battery_0__actualPower'] < 0]"
   ]
  },
  {
   "cell_type": "markdown",
   "metadata": {},
   "source": [
    "# Estimat på virkningsgrad/validering av data"
   ]
  },
  {
   "cell_type": "code",
   "execution_count": 7,
   "metadata": {},
   "outputs": [
    {
     "name": "stdout",
     "output_type": "stream",
     "text": [
      "9408108\n",
      "9178222\n",
      "0.9755651189378354\n"
     ]
    }
   ],
   "source": [
    "battery_input = 0\n",
    "battery_output = 0\n",
    "for value in df['battery_0__actualPower']:\n",
    "    if value >= 0:\n",
    "        battery_output += value\n",
    "    else: battery_input += abs(value)\n",
    "\n",
    "battery_efficiency = float(battery_output/battery_input)\n",
    "print(battery_efficiency)"
   ]
  },
  {
   "cell_type": "markdown",
   "metadata": {},
   "source": [
    "# Estimat på hele systemets virkningsgrad/validering"
   ]
  },
  {
   "cell_type": "code",
   "execution_count": 10,
   "metadata": {},
   "outputs": [
    {
     "name": "stdout",
     "output_type": "stream",
     "text": [
      "1.0003698537918824\n"
     ]
    }
   ],
   "source": [
    "# total efficiency: sumdopower+shore/thruster&prop + hotel\n",
    "system_efficiency = float((df.sumEngMdoPower.sum() + df.shorePowerEstimated.sum())/\\\n",
    "                          (df.thrusterAndPropulsion.sum() + df.hotelLoad.sum()))\n",
    "print(system_efficiency)"
   ]
  },
  {
   "cell_type": "code",
   "execution_count": 1,
   "metadata": {},
   "outputs": [
    {
     "name": "stdout",
     "output_type": "stream",
     "text": [
      "Hei\n"
     ]
    }
   ],
   "source": [
    "print('Hei')"
   ]
  },
  {
   "cell_type": "code",
   "execution_count": null,
   "metadata": {},
   "outputs": [],
   "source": []
  }
 ],
 "metadata": {
  "kernelspec": {
   "display_name": "Python 3",
   "language": "python",
   "name": "python3"
  },
  "language_info": {
   "codemirror_mode": {
    "name": "ipython",
    "version": 3
   },
   "file_extension": ".py",
   "mimetype": "text/x-python",
   "name": "python",
   "nbconvert_exporter": "python",
   "pygments_lexer": "ipython3",
   "version": "3.8.5"
  }
 },
 "nbformat": 4,
 "nbformat_minor": 4
}
