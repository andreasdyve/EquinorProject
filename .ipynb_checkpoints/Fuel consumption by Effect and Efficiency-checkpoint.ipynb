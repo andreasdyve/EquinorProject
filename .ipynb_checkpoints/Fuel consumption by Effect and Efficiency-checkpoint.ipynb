{
 "cells": [
  {
   "cell_type": "code",
   "execution_count": 3,
   "metadata": {},
   "outputs": [],
   "source": [
    "import pandas as pd\n",
    "import numpy as np\n",
    "import matplotlib.pyplot as plt"
   ]
  },
  {
   "cell_type": "code",
   "execution_count": null,
   "metadata": {},
   "outputs": [],
   "source": [
    "df = pd.read_excel('data_full_sekres.xlsx')"
   ]
  },
  {
   "cell_type": "code",
   "execution_count": null,
   "metadata": {},
   "outputs": [],
   "source": [
    "#Sort by sum of power from low to high\n",
    "df.sort_values(by='sumEngMdoPower' , inplace=True)\n",
    "\n",
    "#write new column with sum of consumptions\n",
    "df['sumEngMdoConsumption']=df['engMdoConsumption_0_']+df['engMdoConsumption_1_']+df['engMdoConsumption_2_']+df['engMdoConsumption_3_']\n",
    "\n",
    "#Copy dataframe\n",
    "df_min_max_scaled = df.copy()\n",
    "\n",
    "#Mash together equal rows of power and take average consumption\n",
    "df_min_max_scaled = df_min_max_scaled.groupby('sumEngMdoPower').mean().reset_index()\n",
    "\n",
    "#normalize power\n",
    "df_min_max_scaled['sumEngMdoPower'] = (df_min_max_scaled['sumEngMdoPower'] - df_min_max_scaled['sumEngMdoPower'].min()) / (7500 - df_min_max_scaled['sumEngMdoPower'].min())\n",
    "\n",
    "df_min_max_scaled = df_min_max_scaled.groupby('sumEngMdoPower').mean().reset_index()"
   ]
  },
  {
   "cell_type": "code",
   "execution_count": null,
   "metadata": {},
   "outputs": [],
   "source": [
    "display(df_min_max_scaled)"
   ]
  },
  {
   "cell_type": "code",
   "execution_count": null,
   "metadata": {},
   "outputs": [],
   "source": [
    "df_min_max_scaled.plot(x='sumEngMdoPower', y=['sumEngMdoConsumption'])\n",
    "plt.xlabel('Power')\n",
    "plt.ylabel('Consumption (liters/hour)')\n"
   ]
  },
  {
   "cell_type": "markdown",
   "metadata": {},
   "source": [
    "## Repeat for each engine\n",
    "Except 2 because it is not used"
   ]
  },
  {
   "cell_type": "code",
   "execution_count": null,
   "metadata": {},
   "outputs": [],
   "source": [
    "df_min_max_scaled_0_ = df.copy()\n",
    "\n",
    "df_min_max_scaled_0_['engMdoPower_0_'] = (df_min_max_scaled_0_['engMdoPower_0_'] - df_min_max_scaled_0_['engMdoPower_0_'].min()) / (2500 - df_min_max_scaled_0_['engMdoPower_0_'].min())\n",
    "\n",
    "df_min_max_scaled_0_ = df_min_max_scaled_0_.groupby('engMdoPower_0_').mean().reset_index()\n",
    "\n",
    "df_min_max_scaled_0_.plot(x='engMdoPower_0_', y=['engMdoConsumption_0_'])\n",
    "plt.xlabel('Power')\n",
    "plt.ylabel('Fuel Consumption (liters/hour)')"
   ]
  },
  {
   "cell_type": "code",
   "execution_count": null,
   "metadata": {},
   "outputs": [],
   "source": [
    "df_min_max_scaled_1_ = df.copy()\n",
    "\n",
    "df_min_max_scaled_1_['engMdoPower_1_'] = (df_min_max_scaled_1_['engMdoPower_1_'] - df_min_max_scaled_1_['engMdoPower_1_'].min()) / (2500 - df_min_max_scaled_1_['engMdoPower_1_'].min())\n",
    "\n",
    "df_min_max_scaled_1_ = df_min_max_scaled_1_.groupby('engMdoPower_1_').mean().reset_index()\n",
    "\n",
    "df_min_max_scaled_1_.plot(x='engMdoPower_1_', y=['engMdoConsumption_1_'])\n",
    "plt.xlabel('Power')\n",
    "plt.ylabel('Fuel Consumption (liters/hour)')"
   ]
  },
  {
   "cell_type": "code",
   "execution_count": null,
   "metadata": {},
   "outputs": [],
   "source": [
    "df_min_max_scaled_3_ = df.copy()\n",
    "\n",
    "df_min_max_scaled_3_['engMdoPower_3_'] = (df_min_max_scaled_3_['engMdoPower_3_'] - df_min_max_scaled_3_['engMdoPower_3_'].min()) / (2500 - df_min_max_scaled_3_['engMdoPower_3_'].min())\n",
    "\n",
    "df_min_max_scaled_3_ = df_min_max_scaled_3_.groupby('engMdoPower_3_').mean().reset_index()\n",
    "\n",
    "df_min_max_scaled_3_.plot(x='engMdoPower_3_', y=['engMdoConsumption_3_'])\n",
    "plt.xlabel('Power')\n",
    "plt.ylabel('Fuel Consumption (liters/hour)')"
   ]
  },
  {
   "cell_type": "markdown",
   "metadata": {},
   "source": [
    "# Efficiency calculations"
   ]
  },
  {
   "cell_type": "markdown",
   "metadata": {},
   "source": [
    "Energy density of diesel is 10.93 kWh/l\n",
    "Consumption multiplied by energy density is the theoretical output (l/h * kWh/l = kW)"
   ]
  },
  {
   "cell_type": "code",
   "execution_count": null,
   "metadata": {},
   "outputs": [],
   "source": [
    "#Copy dataframe\n",
    "df_eff = df.copy()\n",
    "\n",
    "#Mash together equal rows of power and take average consumption\n",
    "df_eff = df_eff.groupby('sumEngMdoPower').mean().reset_index()\n",
    "\n",
    "#Multiplying consumption by 10.93 gives max theoretical output\n",
    "df_eff['sumMaxTheoreticPower'] = df_eff['sumEngMdoConsumption']*10.93\n",
    "\n",
    "#Efficiency is theoretic max divided by actual\n",
    "df_eff[\"Efficiency\"] = df_eff['sumEngMdoPower']/df_eff['sumMaxTheoreticPower']\n",
    "\n",
    "#normalize power\n",
    "df_eff['sumEngMdoPower'] = (df_eff['sumEngMdoPower'] - df_eff['sumEngMdoPower'].min()) / (7500 - df_eff['sumEngMdoPower'].min())\n",
    "\n",
    "#plot\n",
    "df_eff.plot(x='sumEngMdoPower', y=['Efficiency'], title='Efficiency of gensets combined')\n",
    "plt.xlabel('Power')\n",
    "plt.ylabel('Efficiency')\n",
    "\n"
   ]
  },
  {
   "cell_type": "markdown",
   "metadata": {},
   "source": [
    "Polynomial regression line of efficiency"
   ]
  },
  {
   "cell_type": "code",
   "execution_count": null,
   "metadata": {},
   "outputs": [],
   "source": [
    "x = df_eff['sumEngMdoPower']\n",
    "y = df_eff['Efficiency']\n",
    "\n",
    "mymodel = np.poly1d(np.polyfit(x, y, 4))\n",
    "\n",
    "myline = np.linspace(0, 0.6, 100)\n",
    "\n",
    "plt.title('Efficiency Curve')\n",
    "plt.xlabel('Power')\n",
    "plt.ylabel('Efficiency')\n",
    "plt.scatter(x, y)\n",
    "plt.plot(myline, mymodel(myline),'r')\n",
    "plt.show() \n",
    "\n"
   ]
  },
  {
   "cell_type": "code",
   "execution_count": null,
   "metadata": {},
   "outputs": [],
   "source": [
    "#Copy dataframe\n",
    "df_eff_0_= df.copy()\n",
    "\n",
    "#Mash together equal rows of power and take average consumption\n",
    "df_eff_0_ = df_eff_0_.groupby('engMdoPower_0_').mean().reset_index()\n",
    "\n",
    "#Multiplying consumption by 10.93 gives max theoretical output\n",
    "df_eff_0_['MaxTheoreticPower_0_'] = df_eff_0_['engMdoConsumption_0_']*10.93\n",
    "\n",
    "#Efficiency is theoretic max divided by actual\n",
    "df_eff_0_[\"Efficiency_0_\"] = df_eff_0_['engMdoPower_0_']/df_eff_0_['MaxTheoreticPower_0_']\n",
    "\n",
    "#normalize power\n",
    "df_eff_0_['engMdoPower_0_'] = (df_eff_0_['engMdoPower_0_'] - df_eff_0_['engMdoPower_0_'].min()) / (2500 - df_eff_0_['engMdoPower_0_'].min())\n",
    "\n",
    "#plot\n",
    "df_eff_0_.plot(x='engMdoPower_0_', y=['Efficiency_0_'], title = 'Fuel efficiency of genset 0')\n",
    "plt.xlabel('Power')\n",
    "plt.ylabel('Efficiency')"
   ]
  },
  {
   "cell_type": "code",
   "execution_count": null,
   "metadata": {},
   "outputs": [],
   "source": []
  }
 ],
 "metadata": {
  "kernelspec": {
   "display_name": "Python 3",
   "language": "python",
   "name": "python3"
  },
  "language_info": {
   "codemirror_mode": {
    "name": "ipython",
    "version": 3
   },
   "file_extension": ".py",
   "mimetype": "text/x-python",
   "name": "python",
   "nbconvert_exporter": "python",
   "pygments_lexer": "ipython3",
   "version": "3.8.5"
  }
 },
 "nbformat": 4,
 "nbformat_minor": 4
}
