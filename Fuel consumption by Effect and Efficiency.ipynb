{
 "cells": [
  {
   "cell_type": "code",
   "execution_count": 62,
   "metadata": {},
   "outputs": [],
   "source": [
    "import pandas as pd\n",
    "import numpy as np\n",
    "import matplotlib.pyplot as plt"
   ]
  },
  {
   "cell_type": "code",
   "execution_count": 63,
   "metadata": {},
   "outputs": [],
   "source": [
    "df = pd.read_excel('data_full_sekres.xlsx')"
   ]
  },
  {
   "cell_type": "code",
   "execution_count": 86,
   "metadata": {},
   "outputs": [],
   "source": [
    "#Sort by sum of power from low to high\n",
    "df.sort_values(by='sumEngMdoPower' , inplace=True)\n",
    "\n",
    "#write new column with sum of consumptions\n",
    "df['sumEngMdoConsumption']=df['engMdoConsumption_0_']+df['engMdoConsumption_1_']+df['engMdoConsumption_2_']+df['engMdoConsumption_3_']\n",
    "\n",
    "#Copy dataframe\n",
    "df_min_max_scaled = df.copy()\n",
    "\n",
    "#Mash together equal rows of power and take average consumption\n",
    "df_min_max_scaled = df_min_max_scaled.groupby('sumEngMdoPower').mean().reset_index()\n",
    "\n",
    "#normalize power\n",
    "df_min_max_scaled['sumEngMdoPower'] = (df_min_max_scaled['sumEngMdoPower'] - df_min_max_scaled['sumEngMdoPower'].min()) / (7500 - df_min_max_scaled['sumEngMdoPower'].min())\n",
    "\n",
    "df_min_max_scaled = df_min_max_scaled.groupby('sumEngMdoPower').mean().reset_index()"
   ]
  },
  {
   "cell_type": "code",
   "execution_count": 83,
   "metadata": {},
   "outputs": [
    {
     "data": {
      "text/html": [
       "<div>\n",
       "<style scoped>\n",
       "    .dataframe tbody tr th:only-of-type {\n",
       "        vertical-align: middle;\n",
       "    }\n",
       "\n",
       "    .dataframe tbody tr th {\n",
       "        vertical-align: top;\n",
       "    }\n",
       "\n",
       "    .dataframe thead th {\n",
       "        text-align: right;\n",
       "    }\n",
       "</style>\n",
       "<table border=\"1\" class=\"dataframe\">\n",
       "  <thead>\n",
       "    <tr style=\"text-align: right;\">\n",
       "      <th></th>\n",
       "      <th>sumEngMdoPower</th>\n",
       "      <th>Unnamed: 0</th>\n",
       "      <th>battery_0__actualPower</th>\n",
       "      <th>thrusterAndPropulsion</th>\n",
       "      <th>hotelLoad</th>\n",
       "      <th>shorePowerEstimated</th>\n",
       "      <th>numberOfMdoEnginesRunning</th>\n",
       "      <th>operationId</th>\n",
       "      <th>dpMode</th>\n",
       "      <th>engMdoPower_0_</th>\n",
       "      <th>engMdoPower_1_</th>\n",
       "      <th>...</th>\n",
       "      <th>engMdoPerformance_0_</th>\n",
       "      <th>engMdoPerformance_1_</th>\n",
       "      <th>engMdoPerformance_2_</th>\n",
       "      <th>engMdoPerformance_3_</th>\n",
       "      <th>engMdoConsumption_0_</th>\n",
       "      <th>engMdoConsumption_1_</th>\n",
       "      <th>engMdoConsumption_2_</th>\n",
       "      <th>engMdoConsumption_3_</th>\n",
       "      <th>sumEngMdoConsumption</th>\n",
       "      <th>sumMaxTheoreticPower</th>\n",
       "      <th>Efficiency</th>\n",
       "    </tr>\n",
       "  </thead>\n",
       "  <tbody>\n",
       "    <tr>\n",
       "      <th>0</th>\n",
       "      <td>0.000000</td>\n",
       "      <td>290828.817056</td>\n",
       "      <td>-11.863397</td>\n",
       "      <td>0.00</td>\n",
       "      <td>250.00</td>\n",
       "      <td>261.863397</td>\n",
       "      <td>0.019282</td>\n",
       "      <td>5.914237</td>\n",
       "      <td>0.0</td>\n",
       "      <td>0.000000</td>\n",
       "      <td>0.000000</td>\n",
       "      <td>...</td>\n",
       "      <td>0.000000</td>\n",
       "      <td>0.000000</td>\n",
       "      <td>0.0</td>\n",
       "      <td>0.000</td>\n",
       "      <td>0.296741</td>\n",
       "      <td>3.442353</td>\n",
       "      <td>0.021943</td>\n",
       "      <td>0.438017</td>\n",
       "      <td>4.199055</td>\n",
       "      <td>45.89567</td>\n",
       "      <td>0.000000</td>\n",
       "    </tr>\n",
       "    <tr>\n",
       "      <th>1</th>\n",
       "      <td>0.005333</td>\n",
       "      <td>219985.000000</td>\n",
       "      <td>71.000000</td>\n",
       "      <td>0.00</td>\n",
       "      <td>250.00</td>\n",
       "      <td>139.000000</td>\n",
       "      <td>2.000000</td>\n",
       "      <td>1.000000</td>\n",
       "      <td>0.0</td>\n",
       "      <td>13.333333</td>\n",
       "      <td>13.333333</td>\n",
       "      <td>...</td>\n",
       "      <td>608.383333</td>\n",
       "      <td>495.573333</td>\n",
       "      <td>0.0</td>\n",
       "      <td>500.620</td>\n",
       "      <td>51.283333</td>\n",
       "      <td>69.216667</td>\n",
       "      <td>0.000000</td>\n",
       "      <td>23.150000</td>\n",
       "      <td>143.650000</td>\n",
       "      <td>1570.09450</td>\n",
       "      <td>0.025476</td>\n",
       "    </tr>\n",
       "    <tr>\n",
       "      <th>2</th>\n",
       "      <td>0.006000</td>\n",
       "      <td>51129.000000</td>\n",
       "      <td>0.000000</td>\n",
       "      <td>0.00</td>\n",
       "      <td>250.00</td>\n",
       "      <td>205.000000</td>\n",
       "      <td>1.000000</td>\n",
       "      <td>1.000000</td>\n",
       "      <td>0.0</td>\n",
       "      <td>0.000000</td>\n",
       "      <td>0.000000</td>\n",
       "      <td>...</td>\n",
       "      <td>0.000000</td>\n",
       "      <td>0.000000</td>\n",
       "      <td>0.0</td>\n",
       "      <td>1333.060</td>\n",
       "      <td>0.000000</td>\n",
       "      <td>69.450000</td>\n",
       "      <td>0.000000</td>\n",
       "      <td>69.350000</td>\n",
       "      <td>138.800000</td>\n",
       "      <td>1517.08400</td>\n",
       "      <td>0.029662</td>\n",
       "    </tr>\n",
       "    <tr>\n",
       "      <th>3</th>\n",
       "      <td>0.006533</td>\n",
       "      <td>217383.000000</td>\n",
       "      <td>0.000000</td>\n",
       "      <td>0.00</td>\n",
       "      <td>250.00</td>\n",
       "      <td>201.000000</td>\n",
       "      <td>1.000000</td>\n",
       "      <td>1.000000</td>\n",
       "      <td>0.0</td>\n",
       "      <td>0.000000</td>\n",
       "      <td>49.000000</td>\n",
       "      <td>...</td>\n",
       "      <td>0.000000</td>\n",
       "      <td>1221.590000</td>\n",
       "      <td>0.0</td>\n",
       "      <td>0.000</td>\n",
       "      <td>0.000000</td>\n",
       "      <td>69.200000</td>\n",
       "      <td>0.000000</td>\n",
       "      <td>0.000000</td>\n",
       "      <td>69.200000</td>\n",
       "      <td>756.35600</td>\n",
       "      <td>0.064784</td>\n",
       "    </tr>\n",
       "    <tr>\n",
       "      <th>4</th>\n",
       "      <td>0.007333</td>\n",
       "      <td>217547.000000</td>\n",
       "      <td>11.000000</td>\n",
       "      <td>0.00</td>\n",
       "      <td>250.00</td>\n",
       "      <td>184.000000</td>\n",
       "      <td>2.000000</td>\n",
       "      <td>1.000000</td>\n",
       "      <td>0.0</td>\n",
       "      <td>55.000000</td>\n",
       "      <td>0.000000</td>\n",
       "      <td>...</td>\n",
       "      <td>1271.550000</td>\n",
       "      <td>0.000000</td>\n",
       "      <td>0.0</td>\n",
       "      <td>0.000</td>\n",
       "      <td>80.850000</td>\n",
       "      <td>69.450000</td>\n",
       "      <td>0.000000</td>\n",
       "      <td>0.000000</td>\n",
       "      <td>150.300000</td>\n",
       "      <td>1642.77900</td>\n",
       "      <td>0.033480</td>\n",
       "    </tr>\n",
       "    <tr>\n",
       "      <th>...</th>\n",
       "      <td>...</td>\n",
       "      <td>...</td>\n",
       "      <td>...</td>\n",
       "      <td>...</td>\n",
       "      <td>...</td>\n",
       "      <td>...</td>\n",
       "      <td>...</td>\n",
       "      <td>...</td>\n",
       "      <td>...</td>\n",
       "      <td>...</td>\n",
       "      <td>...</td>\n",
       "      <td>...</td>\n",
       "      <td>...</td>\n",
       "      <td>...</td>\n",
       "      <td>...</td>\n",
       "      <td>...</td>\n",
       "      <td>...</td>\n",
       "      <td>...</td>\n",
       "      <td>...</td>\n",
       "      <td>...</td>\n",
       "      <td>...</td>\n",
       "      <td>...</td>\n",
       "      <td>...</td>\n",
       "    </tr>\n",
       "    <tr>\n",
       "      <th>3351</th>\n",
       "      <td>0.568933</td>\n",
       "      <td>76174.000000</td>\n",
       "      <td>-8.000000</td>\n",
       "      <td>3551.57</td>\n",
       "      <td>707.43</td>\n",
       "      <td>0.000000</td>\n",
       "      <td>3.000000</td>\n",
       "      <td>100.000000</td>\n",
       "      <td>0.0</td>\n",
       "      <td>1558.000000</td>\n",
       "      <td>1435.000000</td>\n",
       "      <td>...</td>\n",
       "      <td>195.985000</td>\n",
       "      <td>222.037000</td>\n",
       "      <td>0.0</td>\n",
       "      <td>216.725</td>\n",
       "      <td>353.000000</td>\n",
       "      <td>368.350000</td>\n",
       "      <td>0.000000</td>\n",
       "      <td>319.200000</td>\n",
       "      <td>1040.550000</td>\n",
       "      <td>11373.21150</td>\n",
       "      <td>0.375180</td>\n",
       "    </tr>\n",
       "    <tr>\n",
       "      <th>3352</th>\n",
       "      <td>0.571867</td>\n",
       "      <td>76175.000000</td>\n",
       "      <td>2.000000</td>\n",
       "      <td>3480.12</td>\n",
       "      <td>810.88</td>\n",
       "      <td>0.000000</td>\n",
       "      <td>3.000000</td>\n",
       "      <td>100.000000</td>\n",
       "      <td>0.0</td>\n",
       "      <td>1465.000000</td>\n",
       "      <td>1435.000000</td>\n",
       "      <td>...</td>\n",
       "      <td>199.334000</td>\n",
       "      <td>202.145000</td>\n",
       "      <td>0.0</td>\n",
       "      <td>226.432</td>\n",
       "      <td>337.600000</td>\n",
       "      <td>335.350000</td>\n",
       "      <td>0.000000</td>\n",
       "      <td>363.600000</td>\n",
       "      <td>1036.550000</td>\n",
       "      <td>11329.49150</td>\n",
       "      <td>0.378570</td>\n",
       "    </tr>\n",
       "    <tr>\n",
       "      <th>3353</th>\n",
       "      <td>0.580533</td>\n",
       "      <td>139047.000000</td>\n",
       "      <td>28.000000</td>\n",
       "      <td>3380.69</td>\n",
       "      <td>1001.31</td>\n",
       "      <td>0.000000</td>\n",
       "      <td>3.000000</td>\n",
       "      <td>100.000000</td>\n",
       "      <td>0.0</td>\n",
       "      <td>1392.000000</td>\n",
       "      <td>1456.000000</td>\n",
       "      <td>...</td>\n",
       "      <td>214.728000</td>\n",
       "      <td>222.577000</td>\n",
       "      <td>0.0</td>\n",
       "      <td>148.187</td>\n",
       "      <td>345.550000</td>\n",
       "      <td>374.650000</td>\n",
       "      <td>0.000000</td>\n",
       "      <td>258.000000</td>\n",
       "      <td>978.200000</td>\n",
       "      <td>10691.72600</td>\n",
       "      <td>0.407231</td>\n",
       "    </tr>\n",
       "    <tr>\n",
       "      <th>3354</th>\n",
       "      <td>0.582667</td>\n",
       "      <td>76392.000000</td>\n",
       "      <td>39.000000</td>\n",
       "      <td>3223.92</td>\n",
       "      <td>1185.08</td>\n",
       "      <td>0.000000</td>\n",
       "      <td>3.000000</td>\n",
       "      <td>100.000000</td>\n",
       "      <td>0.0</td>\n",
       "      <td>1532.000000</td>\n",
       "      <td>1401.000000</td>\n",
       "      <td>...</td>\n",
       "      <td>180.764000</td>\n",
       "      <td>214.737000</td>\n",
       "      <td>0.0</td>\n",
       "      <td>207.913</td>\n",
       "      <td>320.150000</td>\n",
       "      <td>347.800000</td>\n",
       "      <td>0.000000</td>\n",
       "      <td>345.400000</td>\n",
       "      <td>1013.350000</td>\n",
       "      <td>11075.91550</td>\n",
       "      <td>0.394550</td>\n",
       "    </tr>\n",
       "    <tr>\n",
       "      <th>3355</th>\n",
       "      <td>0.594000</td>\n",
       "      <td>126975.000000</td>\n",
       "      <td>33.000000</td>\n",
       "      <td>3565.97</td>\n",
       "      <td>922.03</td>\n",
       "      <td>0.000000</td>\n",
       "      <td>3.000000</td>\n",
       "      <td>100.000000</td>\n",
       "      <td>1.0</td>\n",
       "      <td>1300.000000</td>\n",
       "      <td>1601.000000</td>\n",
       "      <td>...</td>\n",
       "      <td>236.012000</td>\n",
       "      <td>197.097000</td>\n",
       "      <td>0.0</td>\n",
       "      <td>204.644</td>\n",
       "      <td>354.700000</td>\n",
       "      <td>364.800000</td>\n",
       "      <td>0.000000</td>\n",
       "      <td>367.650000</td>\n",
       "      <td>1087.150000</td>\n",
       "      <td>11882.54950</td>\n",
       "      <td>0.374920</td>\n",
       "    </tr>\n",
       "  </tbody>\n",
       "</table>\n",
       "<p>3356 rows × 24 columns</p>\n",
       "</div>"
      ],
      "text/plain": [
       "      sumEngMdoPower     Unnamed: 0  battery_0__actualPower  \\\n",
       "0           0.000000  290828.817056              -11.863397   \n",
       "1           0.005333  219985.000000               71.000000   \n",
       "2           0.006000   51129.000000                0.000000   \n",
       "3           0.006533  217383.000000                0.000000   \n",
       "4           0.007333  217547.000000               11.000000   \n",
       "...              ...            ...                     ...   \n",
       "3351        0.568933   76174.000000               -8.000000   \n",
       "3352        0.571867   76175.000000                2.000000   \n",
       "3353        0.580533  139047.000000               28.000000   \n",
       "3354        0.582667   76392.000000               39.000000   \n",
       "3355        0.594000  126975.000000               33.000000   \n",
       "\n",
       "      thrusterAndPropulsion  hotelLoad  shorePowerEstimated  \\\n",
       "0                      0.00     250.00           261.863397   \n",
       "1                      0.00     250.00           139.000000   \n",
       "2                      0.00     250.00           205.000000   \n",
       "3                      0.00     250.00           201.000000   \n",
       "4                      0.00     250.00           184.000000   \n",
       "...                     ...        ...                  ...   \n",
       "3351                3551.57     707.43             0.000000   \n",
       "3352                3480.12     810.88             0.000000   \n",
       "3353                3380.69    1001.31             0.000000   \n",
       "3354                3223.92    1185.08             0.000000   \n",
       "3355                3565.97     922.03             0.000000   \n",
       "\n",
       "      numberOfMdoEnginesRunning  operationId  dpMode  engMdoPower_0_  \\\n",
       "0                      0.019282     5.914237     0.0        0.000000   \n",
       "1                      2.000000     1.000000     0.0       13.333333   \n",
       "2                      1.000000     1.000000     0.0        0.000000   \n",
       "3                      1.000000     1.000000     0.0        0.000000   \n",
       "4                      2.000000     1.000000     0.0       55.000000   \n",
       "...                         ...          ...     ...             ...   \n",
       "3351                   3.000000   100.000000     0.0     1558.000000   \n",
       "3352                   3.000000   100.000000     0.0     1465.000000   \n",
       "3353                   3.000000   100.000000     0.0     1392.000000   \n",
       "3354                   3.000000   100.000000     0.0     1532.000000   \n",
       "3355                   3.000000   100.000000     1.0     1300.000000   \n",
       "\n",
       "      engMdoPower_1_  ...  engMdoPerformance_0_  engMdoPerformance_1_  \\\n",
       "0           0.000000  ...              0.000000              0.000000   \n",
       "1          13.333333  ...            608.383333            495.573333   \n",
       "2           0.000000  ...              0.000000              0.000000   \n",
       "3          49.000000  ...              0.000000           1221.590000   \n",
       "4           0.000000  ...           1271.550000              0.000000   \n",
       "...              ...  ...                   ...                   ...   \n",
       "3351     1435.000000  ...            195.985000            222.037000   \n",
       "3352     1435.000000  ...            199.334000            202.145000   \n",
       "3353     1456.000000  ...            214.728000            222.577000   \n",
       "3354     1401.000000  ...            180.764000            214.737000   \n",
       "3355     1601.000000  ...            236.012000            197.097000   \n",
       "\n",
       "      engMdoPerformance_2_  engMdoPerformance_3_  engMdoConsumption_0_  \\\n",
       "0                      0.0                 0.000              0.296741   \n",
       "1                      0.0               500.620             51.283333   \n",
       "2                      0.0              1333.060              0.000000   \n",
       "3                      0.0                 0.000              0.000000   \n",
       "4                      0.0                 0.000             80.850000   \n",
       "...                    ...                   ...                   ...   \n",
       "3351                   0.0               216.725            353.000000   \n",
       "3352                   0.0               226.432            337.600000   \n",
       "3353                   0.0               148.187            345.550000   \n",
       "3354                   0.0               207.913            320.150000   \n",
       "3355                   0.0               204.644            354.700000   \n",
       "\n",
       "      engMdoConsumption_1_  engMdoConsumption_2_  engMdoConsumption_3_  \\\n",
       "0                 3.442353              0.021943              0.438017   \n",
       "1                69.216667              0.000000             23.150000   \n",
       "2                69.450000              0.000000             69.350000   \n",
       "3                69.200000              0.000000              0.000000   \n",
       "4                69.450000              0.000000              0.000000   \n",
       "...                    ...                   ...                   ...   \n",
       "3351            368.350000              0.000000            319.200000   \n",
       "3352            335.350000              0.000000            363.600000   \n",
       "3353            374.650000              0.000000            258.000000   \n",
       "3354            347.800000              0.000000            345.400000   \n",
       "3355            364.800000              0.000000            367.650000   \n",
       "\n",
       "      sumEngMdoConsumption  sumMaxTheoreticPower  Efficiency  \n",
       "0                 4.199055              45.89567    0.000000  \n",
       "1               143.650000            1570.09450    0.025476  \n",
       "2               138.800000            1517.08400    0.029662  \n",
       "3                69.200000             756.35600    0.064784  \n",
       "4               150.300000            1642.77900    0.033480  \n",
       "...                    ...                   ...         ...  \n",
       "3351           1040.550000           11373.21150    0.375180  \n",
       "3352           1036.550000           11329.49150    0.378570  \n",
       "3353            978.200000           10691.72600    0.407231  \n",
       "3354           1013.350000           11075.91550    0.394550  \n",
       "3355           1087.150000           11882.54950    0.374920  \n",
       "\n",
       "[3356 rows x 24 columns]"
      ]
     },
     "metadata": {},
     "output_type": "display_data"
    }
   ],
   "source": [
    "display(df_min_max_scaled)"
   ]
  },
  {
   "cell_type": "code",
   "execution_count": 88,
   "metadata": {},
   "outputs": [
    {
     "data": {
      "text/plain": [
       "Text(0, 0.5, 'Consumption (liters/hour)')"
      ]
     },
     "execution_count": 88,
     "metadata": {},
     "output_type": "execute_result"
    },
    {
     "data": {
      "image/png": "[encoded data removed]",
      "text/plain": [
       "<Figure size 432x288 with 1 Axes>"
      ]
     },
     "metadata": {
      "needs_background": "light"
     },
     "output_type": "display_data"
    }
   ],
   "source": [
    "df_min_max_scaled.plot(x='sumEngMdoPower', y=['sumEngMdoConsumption'])\n",
    "plt.xlabel('Power')\n",
    "plt.ylabel('Consumption (liters/hour)')\n"
   ]
  },
  {
   "cell_type": "markdown",
   "metadata": {},
   "source": [
    "## Repeat for each engine\n",
    "Except 2 because it is not used"
   ]
  },
  {
   "cell_type": "code",
   "execution_count": null,
   "metadata": {},
   "outputs": [],
   "source": [
    "df_min_max_scaled_0_ = df.copy()\n",
    "\n",
    "df_min_max_scaled_0_['engMdoPower_0_'] = (df_min_max_scaled_0_['engMdoPower_0_'] - df_min_max_scaled_0_['engMdoPower_0_'].min()) / (2500 - df_min_max_scaled_0_['engMdoPower_0_'].min())\n",
    "\n",
    "df_min_max_scaled_0_ = df_min_max_scaled_0_.groupby('engMdoPower_0_').mean().reset_index()\n",
    "\n",
    "df_min_max_scaled_0_.plot(x='engMdoPower_0_', y=['engMdoConsumption_0_'])\n",
    "plt.xlabel('Power')\n",
    "plt.ylabel('Fuel Consumption (liters/hour)')"
   ]
  },
  {
   "cell_type": "code",
   "execution_count": 69,
   "metadata": {},
   "outputs": [
    {
     "data": {
      "text/plain": [
       "Text(0, 0.5, 'Fuel Consumption (liters/hour)')"
      ]
     },
     "execution_count": 69,
     "metadata": {},
     "output_type": "execute_result"
    },
    {
     "data": {
      "image/png": "[encoded data removed]",
      "text/plain": [
       "<Figure size 432x288 with 1 Axes>"
      ]
     },
     "metadata": {
      "needs_background": "light"
     },
     "output_type": "display_data"
    }
   ],
   "source": [
    "df_min_max_scaled_1_ = df.copy()\n",
    "\n",
    "df_min_max_scaled_1_['engMdoPower_1_'] = (df_min_max_scaled_1_['engMdoPower_1_'] - df_min_max_scaled_1_['engMdoPower_1_'].min()) / (2500 - df_min_max_scaled_1_['engMdoPower_1_'].min())\n",
    "\n",
    "df_min_max_scaled_1_ = df_min_max_scaled_1_.groupby('engMdoPower_1_').mean().reset_index()\n",
    "\n",
    "df_min_max_scaled_1_.plot(x='engMdoPower_1_', y=['engMdoConsumption_1_'])\n",
    "plt.xlabel('Power')\n",
    "plt.ylabel('Fuel Consumption (liters/hour)')"
   ]
  },
  {
   "cell_type": "code",
   "execution_count": 72,
   "metadata": {},
   "outputs": [
    {
     "data": {
      "text/plain": [
       "Text(0, 0.5, 'Fuel Consumption (liters/hour)')"
      ]
     },
     "execution_count": 72,
     "metadata": {},
     "output_type": "execute_result"
    },
    {
     "data": {
      "image/png": "[encoded data removed]",
      "text/plain": [
       "<Figure size 432x288 with 1 Axes>"
      ]
     },
     "metadata": {
      "needs_background": "light"
     },
     "output_type": "display_data"
    }
   ],
   "source": [
    "df_min_max_scaled_3_ = df.copy()\n",
    "\n",
    "df_min_max_scaled_3_['engMdoPower_3_'] = (df_min_max_scaled_3_['engMdoPower_3_'] - df_min_max_scaled_3_['engMdoPower_3_'].min()) / (2500 - df_min_max_scaled_3_['engMdoPower_3_'].min())\n",
    "\n",
    "df_min_max_scaled_3_ = df_min_max_scaled_3_.groupby('engMdoPower_3_').mean().reset_index()\n",
    "\n",
    "df_min_max_scaled_3_.plot(x='engMdoPower_3_', y=['engMdoConsumption_3_'])\n",
    "plt.xlabel('Power')\n",
    "plt.ylabel('Fuel Consumption (liters/hour)')"
   ]
  },
  {
   "cell_type": "markdown",
   "metadata": {},
   "source": [
    "# Efficiency calculations"
   ]
  },
  {
   "cell_type": "markdown",
   "metadata": {},
   "source": [
    "Energy density of diesel is 10.93 kWh/l\n",
    "Consumption multiplied by energy density is the theoretical output (l/h * kWh/l = kW)"
   ]
  },
  {
   "cell_type": "code",
   "execution_count": 158,
   "metadata": {},
   "outputs": [
    {
     "data": {
      "text/plain": [
       "Text(0, 0.5, 'Efficiency')"
      ]
     },
     "execution_count": 158,
     "metadata": {},
     "output_type": "execute_result"
    },
    {
     "data": {
      "image/png": "[encoded data removed]",
      "text/plain": [
       "<Figure size 432x288 with 1 Axes>"
      ]
     },
     "metadata": {
      "needs_background": "light"
     },
     "output_type": "display_data"
    }
   ],
   "source": [
    "#Copy dataframe\n",
    "df_eff = df.copy()\n",
    "\n",
    "#Mash together equal rows of power and take average consumption\n",
    "df_eff = df_eff.groupby('sumEngMdoPower').mean().reset_index()\n",
    "\n",
    "#Multiplying consumption by 10.93 gives max theoretical output\n",
    "df_eff['sumMaxTheoreticPower'] = df_eff['sumEngMdoConsumption']*10.93\n",
    "\n",
    "#Efficiency is theoretic max divided by actual\n",
    "df_eff[\"Efficiency\"] = df_eff['sumEngMdoPower']/df_eff['sumMaxTheoreticPower']\n",
    "\n",
    "#normalize power\n",
    "df_eff['sumEngMdoPower'] = (df_eff['sumEngMdoPower'] - df_eff['sumEngMdoPower'].min()) / (7500 - df_eff['sumEngMdoPower'].min())\n",
    "\n",
    "#plot\n",
    "df_eff.plot(x='sumEngMdoPower', y=['Efficiency'], title='Efficiency of gensets combined')\n",
    "plt.xlabel('Power')\n",
    "plt.ylabel('Efficiency')\n",
    "\n"
   ]
  },
  {
   "cell_type": "markdown",
   "metadata": {},
   "source": [
    "Polynomial regression line of efficiency"
   ]
  },
  {
   "cell_type": "code",
   "execution_count": 157,
   "metadata": {},
   "outputs": [
    {
     "data": {
      "image/png": "[encoded data removed]",
      "text/plain": [
       "<Figure size 432x288 with 1 Axes>"
      ]
     },
     "metadata": {
      "needs_background": "light"
     },
     "output_type": "display_data"
    }
   ],
   "source": [
    "x = df_eff['sumEngMdoPower']\n",
    "y = df_eff['Efficiency']\n",
    "\n",
    "mymodel = np.poly1d(np.polyfit(x, y, 4))\n",
    "\n",
    "myline = np.linspace(0, 0.6, 100)\n",
    "\n",
    "plt.title('Efficiency Curve')\n",
    "plt.xlabel('Power')\n",
    "plt.ylabel('Efficiency')\n",
    "plt.scatter(x, y)\n",
    "plt.plot(myline, mymodel(myline),'r')\n",
    "plt.show() \n",
    "\n"
   ]
  },
  {
   "cell_type": "code",
   "execution_count": 160,
   "metadata": {},
   "outputs": [
    {
     "data": {
      "text/plain": [
       "Text(0, 0.5, 'Efficiency')"
      ]
     },
     "execution_count": 160,
     "metadata": {},
     "output_type": "execute_result"
    },
    {
     "data": {
      "image/png": "[encoded data removed]",
      "text/plain": [
       "<Figure size 432x288 with 1 Axes>"
      ]
     },
     "metadata": {
      "needs_background": "light"
     },
     "output_type": "display_data"
    }
   ],
   "source": [
    "#Copy dataframe\n",
    "df_eff_0_= df.copy()\n",
    "\n",
    "#Mash together equal rows of power and take average consumption\n",
    "df_eff_0_ = df_eff_0_.groupby('engMdoPower_0_').mean().reset_index()\n",
    "\n",
    "#Multiplying consumption by 10.93 gives max theoretical output\n",
    "df_eff_0_['MaxTheoreticPower_0_'] = df_eff_0_['engMdoConsumption_0_']*10.93\n",
    "\n",
    "#Efficiency is theoretic max divided by actual\n",
    "df_eff_0_[\"Efficiency_0_\"] = df_eff_0_['engMdoPower_0_']/df_eff_0_['MaxTheoreticPower_0_']\n",
    "\n",
    "#normalize power\n",
    "df_eff_0_['engMdoPower_0_'] = (df_eff_0_['engMdoPower_0_'] - df_eff_0_['engMdoPower_0_'].min()) / (2500 - df_eff_0_['engMdoPower_0_'].min())\n",
    "\n",
    "#plot\n",
    "df_eff_0_.plot(x='engMdoPower_0_', y=['Efficiency_0_'], title = 'Fuel efficiency of genset 0')\n",
    "plt.xlabel('Power')\n",
    "plt.ylabel('Efficiency')"
   ]
  },
  {
   "cell_type": "code",
   "execution_count": null,
   "metadata": {},
   "outputs": [],
   "source": []
  }
 ],
 "metadata": {
  "kernelspec": {
   "display_name": "Python 3",
   "language": "python",
   "name": "python3"
  },
  "language_info": {
   "codemirror_mode": {
    "name": "ipython",
    "version": 3
   },
   "file_extension": ".py",
   "mimetype": "text/x-python",
   "name": "python",
   "nbconvert_exporter": "python",
   "pygments_lexer": "ipython3",
   "version": "3.8.5"
  }
 },
 "nbformat": 4,
 "nbformat_minor": 4
}
