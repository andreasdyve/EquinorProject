{
 "cells": [
  {
   "cell_type": "code",
   "execution_count": 1,
   "metadata": {},
   "outputs": [],
   "source": [
    "import pandas as pd\n",
    "import numpy as np\n",
    "import matplotlib.pyplot as plt"
   ]
  },
  {
   "cell_type": "code",
   "execution_count": 2,
   "metadata": {},
   "outputs": [],
   "source": [
    "df = pd.read_excel('data_full_5sekres.xlsx')"
   ]
  },
  {
   "cell_type": "code",
   "execution_count": 3,
   "metadata": {},
   "outputs": [],
   "source": [
    "df1 = df.copy()"
   ]
  },
  {
   "cell_type": "code",
   "execution_count": 87,
   "metadata": {},
   "outputs": [
    {
     "data": {
      "text/html": [
       "<div>\n",
       "<style scoped>\n",
       "    .dataframe tbody tr th:only-of-type {\n",
       "        vertical-align: middle;\n",
       "    }\n",
       "\n",
       "    .dataframe tbody tr th {\n",
       "        vertical-align: top;\n",
       "    }\n",
       "\n",
       "    .dataframe thead th {\n",
       "        text-align: right;\n",
       "    }\n",
       "</style>\n",
       "<table border=\"1\" class=\"dataframe\">\n",
       "  <thead>\n",
       "    <tr style=\"text-align: right;\">\n",
       "      <th></th>\n",
       "      <th>datetime</th>\n",
       "      <th>Load</th>\n",
       "      <th>engMdoPower_0_</th>\n",
       "      <th>engMdoPower_1_</th>\n",
       "      <th>engMdoPower_2_</th>\n",
       "      <th>engMdoPower_3_</th>\n",
       "      <th>operationId</th>\n",
       "      <th>BaseLoad</th>\n",
       "      <th>Battery</th>\n",
       "      <th>SOC</th>\n",
       "    </tr>\n",
       "  </thead>\n",
       "  <tbody>\n",
       "    <tr>\n",
       "      <th>0</th>\n",
       "      <td>2020-01-30 00:00:00</td>\n",
       "      <td>300.0</td>\n",
       "      <td>0.0</td>\n",
       "      <td>0.0</td>\n",
       "      <td>0</td>\n",
       "      <td>0.0</td>\n",
       "      <td>6.0</td>\n",
       "      <td>300</td>\n",
       "      <td>0</td>\n",
       "      <td>0</td>\n",
       "    </tr>\n",
       "    <tr>\n",
       "      <th>1</th>\n",
       "      <td>2020-01-30 00:00:05</td>\n",
       "      <td>300.0</td>\n",
       "      <td>0.0</td>\n",
       "      <td>0.0</td>\n",
       "      <td>0</td>\n",
       "      <td>0.0</td>\n",
       "      <td>6.0</td>\n",
       "      <td>300</td>\n",
       "      <td>0</td>\n",
       "      <td>0</td>\n",
       "    </tr>\n",
       "    <tr>\n",
       "      <th>2</th>\n",
       "      <td>2020-01-30 00:00:10</td>\n",
       "      <td>300.0</td>\n",
       "      <td>0.0</td>\n",
       "      <td>0.0</td>\n",
       "      <td>0</td>\n",
       "      <td>0.0</td>\n",
       "      <td>6.0</td>\n",
       "      <td>300</td>\n",
       "      <td>0</td>\n",
       "      <td>0</td>\n",
       "    </tr>\n",
       "    <tr>\n",
       "      <th>3</th>\n",
       "      <td>2020-01-30 00:00:15</td>\n",
       "      <td>300.0</td>\n",
       "      <td>0.0</td>\n",
       "      <td>0.0</td>\n",
       "      <td>0</td>\n",
       "      <td>0.0</td>\n",
       "      <td>6.0</td>\n",
       "      <td>300</td>\n",
       "      <td>0</td>\n",
       "      <td>0</td>\n",
       "    </tr>\n",
       "    <tr>\n",
       "      <th>4</th>\n",
       "      <td>2020-01-30 00:00:20</td>\n",
       "      <td>300.0</td>\n",
       "      <td>0.0</td>\n",
       "      <td>0.0</td>\n",
       "      <td>0</td>\n",
       "      <td>0.0</td>\n",
       "      <td>6.0</td>\n",
       "      <td>300</td>\n",
       "      <td>0</td>\n",
       "      <td>0</td>\n",
       "    </tr>\n",
       "    <tr>\n",
       "      <th>...</th>\n",
       "      <td>...</td>\n",
       "      <td>...</td>\n",
       "      <td>...</td>\n",
       "      <td>...</td>\n",
       "      <td>...</td>\n",
       "      <td>...</td>\n",
       "      <td>...</td>\n",
       "      <td>...</td>\n",
       "      <td>...</td>\n",
       "      <td>...</td>\n",
       "    </tr>\n",
       "    <tr>\n",
       "      <th>120955</th>\n",
       "      <td>2020-02-05 23:59:35</td>\n",
       "      <td>1796.0</td>\n",
       "      <td>0.0</td>\n",
       "      <td>0.0</td>\n",
       "      <td>0</td>\n",
       "      <td>0.0</td>\n",
       "      <td>3.0</td>\n",
       "      <td>300</td>\n",
       "      <td>0</td>\n",
       "      <td>0</td>\n",
       "    </tr>\n",
       "    <tr>\n",
       "      <th>120956</th>\n",
       "      <td>2020-02-05 23:59:40</td>\n",
       "      <td>1743.2</td>\n",
       "      <td>0.0</td>\n",
       "      <td>0.0</td>\n",
       "      <td>0</td>\n",
       "      <td>0.0</td>\n",
       "      <td>3.0</td>\n",
       "      <td>300</td>\n",
       "      <td>0</td>\n",
       "      <td>0</td>\n",
       "    </tr>\n",
       "    <tr>\n",
       "      <th>120957</th>\n",
       "      <td>2020-02-05 23:59:45</td>\n",
       "      <td>1725.6</td>\n",
       "      <td>0.0</td>\n",
       "      <td>0.0</td>\n",
       "      <td>0</td>\n",
       "      <td>0.0</td>\n",
       "      <td>3.0</td>\n",
       "      <td>300</td>\n",
       "      <td>0</td>\n",
       "      <td>0</td>\n",
       "    </tr>\n",
       "    <tr>\n",
       "      <th>120958</th>\n",
       "      <td>2020-02-05 23:59:50</td>\n",
       "      <td>1760.8</td>\n",
       "      <td>0.0</td>\n",
       "      <td>0.0</td>\n",
       "      <td>0</td>\n",
       "      <td>0.0</td>\n",
       "      <td>3.0</td>\n",
       "      <td>300</td>\n",
       "      <td>0</td>\n",
       "      <td>0</td>\n",
       "    </tr>\n",
       "    <tr>\n",
       "      <th>120959</th>\n",
       "      <td>2020-02-05 23:59:55</td>\n",
       "      <td>1708.0</td>\n",
       "      <td>0.0</td>\n",
       "      <td>0.0</td>\n",
       "      <td>0</td>\n",
       "      <td>0.0</td>\n",
       "      <td>3.0</td>\n",
       "      <td>300</td>\n",
       "      <td>0</td>\n",
       "      <td>0</td>\n",
       "    </tr>\n",
       "  </tbody>\n",
       "</table>\n",
       "<p>120960 rows × 10 columns</p>\n",
       "</div>"
      ],
      "text/plain": [
       "                  datetime    Load  engMdoPower_0_  engMdoPower_1_  \\\n",
       "0      2020-01-30 00:00:00   300.0             0.0             0.0   \n",
       "1      2020-01-30 00:00:05   300.0             0.0             0.0   \n",
       "2      2020-01-30 00:00:10   300.0             0.0             0.0   \n",
       "3      2020-01-30 00:00:15   300.0             0.0             0.0   \n",
       "4      2020-01-30 00:00:20   300.0             0.0             0.0   \n",
       "...                    ...     ...             ...             ...   \n",
       "120955 2020-02-05 23:59:35  1796.0             0.0             0.0   \n",
       "120956 2020-02-05 23:59:40  1743.2             0.0             0.0   \n",
       "120957 2020-02-05 23:59:45  1725.6             0.0             0.0   \n",
       "120958 2020-02-05 23:59:50  1760.8             0.0             0.0   \n",
       "120959 2020-02-05 23:59:55  1708.0             0.0             0.0   \n",
       "\n",
       "        engMdoPower_2_  engMdoPower_3_  operationId  BaseLoad  Battery  SOC  \n",
       "0                    0             0.0          6.0       300        0    0  \n",
       "1                    0             0.0          6.0       300        0    0  \n",
       "2                    0             0.0          6.0       300        0    0  \n",
       "3                    0             0.0          6.0       300        0    0  \n",
       "4                    0             0.0          6.0       300        0    0  \n",
       "...                ...             ...          ...       ...      ...  ...  \n",
       "120955               0             0.0          3.0       300        0    0  \n",
       "120956               0             0.0          3.0       300        0    0  \n",
       "120957               0             0.0          3.0       300        0    0  \n",
       "120958               0             0.0          3.0       300        0    0  \n",
       "120959               0             0.0          3.0       300        0    0  \n",
       "\n",
       "[120960 rows x 10 columns]"
      ]
     },
     "metadata": {},
     "output_type": "display_data"
    }
   ],
   "source": [
    "#Create a column of load profile\n",
    "df1['Load'] = df1['thrusterAndPropulsion']\n",
    "df1['BaseLoad'] = 300\n",
    "df1['Load'] = df1['thrusterAndPropulsion'] + df1['BaseLoad']\n",
    "\n",
    "df1['Battery'] = 0\n",
    "df1['SOC'] = 0\n",
    "#Create dataset with only relevant columns\n",
    "df2 = df1[['datetime', 'Load', 'engMdoPower_0_','engMdoPower_1_','engMdoPower_2_', 'engMdoPower_3_', 'operationId', 'BaseLoad', 'Battery', 'SOC']]\n",
    "\n",
    "#Set engine powers to zero\n",
    "num = df2['engMdoPower_0_']._get_numeric_data()\n",
    "num[num != 0] = 0\n",
    "\n",
    "num = df2['engMdoPower_1_']._get_numeric_data()\n",
    "num[num != 0] = 0\n",
    "\n",
    "num = df2['engMdoPower_2_']._get_numeric_data()\n",
    "num[num != 0] = 0\n",
    "\n",
    "num = df2['engMdoPower_3_']._get_numeric_data()\n",
    "num[num != 0] = 0\n",
    "\n",
    "\n",
    "display(df2)"
   ]
  },
  {
   "cell_type": "code",
   "execution_count": 88,
   "metadata": {},
   "outputs": [],
   "source": [
    "load = df2['Load'].values\n",
    "dg0 = df2['engMdoPower_0_'].values\n",
    "dg1 = df2['engMdoPower_1_'].values\n",
    "dg2 = df2['engMdoPower_2_'].values\n",
    "dg3 = df2['engMdoPower_3_'].values\n",
    "bat = df2['Battery'].values\n",
    "soc = df2['SOC'].values\n",
    "soc[0:100] = 496 #124 empty\n",
    "#soc[10] = 496\n",
    "opid = df2['operationId'].values\n",
    "\n",
    "for i in range(len(load)):\n",
    "    if i <= 5:\n",
    "        pass\n",
    "    elif i == 120959:\n",
    "        pass\n",
    "    elif load[i] <= 2100:\n",
    "        if load[i]/load[i-2] > 1.5 or load[i] > 2000:\n",
    "            if soc[i] > 124:\n",
    "                bat[i] = 100\n",
    "                soc[i+1] = soc[i] - (bat[i]/720)\n",
    "                dg0[i] = load[i]-bat[i]\n",
    "            else:\n",
    "                dg0[i] = load[i]\n",
    "                soc[i+1] = soc[i]\n",
    "        else:\n",
    "            dg0[i] = load[i]\n",
    "            soc[i+1] = soc[i]\n",
    "    else:\n",
    "        soc[i+1] = soc[i] \n",
    "        "
   ]
  },
  {
   "cell_type": "code",
   "execution_count": 89,
   "metadata": {},
   "outputs": [
    {
     "data": {
      "text/plain": [
       "[<matplotlib.lines.Line2D at 0x148f553af10>]"
      ]
     },
     "execution_count": 89,
     "metadata": {},
     "output_type": "execute_result"
    },
    {
     "data": {
      "image/png": "[encoded data removed]",
      "text/plain": [
       "<Figure size 432x288 with 1 Axes>"
      ]
     },
     "metadata": {
      "needs_background": "light"
     },
     "output_type": "display_data"
    }
   ],
   "source": [
    "x = df2.iloc[14200:14500]['datetime']\n",
    "plt.plot(x, bat[14200:14500])\n",
    "plt.plot(x, load[14200:14500])\n",
    "#plt.plot(x, dg0)"
   ]
  },
  {
   "cell_type": "code",
   "execution_count": 106,
   "metadata": {},
   "outputs": [
    {
     "data": {
      "text/plain": [
       "[<matplotlib.lines.Line2D at 0x148ed66bdf0>]"
      ]
     },
     "execution_count": 106,
     "metadata": {},
     "output_type": "execute_result"
    },
    {
     "data": {
      "image/png": "[encoded data removed]",
      "text/plain": [
       "<Figure size 432x288 with 1 Axes>"
      ]
     },
     "metadata": {
      "needs_background": "light"
     },
     "output_type": "display_data"
    }
   ],
   "source": [
    "plt.plot(soc[0:50500])"
   ]
  },
  {
   "cell_type": "code",
   "execution_count": 104,
   "metadata": {},
   "outputs": [
    {
     "data": {
      "image/png": "[encoded data removed]",
      "text/plain": [
       "<Figure size 432x288 with 1 Axes>"
      ]
     },
     "metadata": {
      "needs_background": "light"
     },
     "output_type": "display_data"
    }
   ],
   "source": [
    "x = df2.iloc[14410:14440]['datetime']\n",
    "plt.plot(x, bat[14410:14440])\n",
    "plt.plot(x, load[14410:14440])\n",
    "plt.grid()"
   ]
  },
  {
   "cell_type": "code",
   "execution_count": null,
   "metadata": {},
   "outputs": [],
   "source": []
  }
 ],
 "metadata": {
  "kernelspec": {
   "display_name": "Python 3",
   "language": "python",
   "name": "python3"
  },
  "language_info": {
   "codemirror_mode": {
    "name": "ipython",
    "version": 3
   },
   "file_extension": ".py",
   "mimetype": "text/x-python",
   "name": "python",
   "nbconvert_exporter": "python",
   "pygments_lexer": "ipython3",
   "version": "3.8.5"
  }
 },
 "nbformat": 4,
 "nbformat_minor": 4
}
