{
 "cells": [
  {
   "cell_type": "code",
   "execution_count": 78,
   "metadata": {},
   "outputs": [],
   "source": [
    "import pandas as pd\n",
    "import numpy as np\n",
    "import matplotlib.pyplot as plt"
   ]
  },
  {
   "cell_type": "code",
   "execution_count": 79,
   "metadata": {},
   "outputs": [],
   "source": [
    "df = pd.read_excel('data_full_5sekres.xlsx')"
   ]
  },
  {
   "cell_type": "code",
   "execution_count": 80,
   "metadata": {},
   "outputs": [],
   "source": [
    "df1 = df.copy()\n"
   ]
  },
  {
   "cell_type": "markdown",
   "metadata": {},
   "source": [
    "# Firsly create a time series total load profile and generation"
   ]
  },
  {
   "cell_type": "code",
   "execution_count": 81,
   "metadata": {},
   "outputs": [],
   "source": [
    "#Create a column of load profile\n",
    "df1['BaseLoad'] = 300\n",
    "df1.loc[df1['operationId'] == 100, 'BaseLoad'] = 500\n",
    "df1.loc[df1['operationId'] == 3, 'BaseLoad'] = 550\n",
    "df1.loc[df1['operationId'] == 5, 'BaseLoad'] = 510\n",
    "df1.loc[df1['operationId'] == 6, 'BaseLoad'] = 250\n",
    "df1.loc[df1['operationId'] == 1, 'BaseLoad'] = 250\n",
    "df1.loc[df1['operationId'] == 7, 'BaseLoad'] = 380\n",
    "df1['Load'] = df1['thrusterAndPropulsion'] + df1['BaseLoad']"
   ]
  },
  {
   "cell_type": "code",
   "execution_count": 82,
   "metadata": {},
   "outputs": [],
   "source": [
    "#Create dataset with only relevant columns\n",
    "df2 = df1[['datetime', 'Load', 'engMdoPower_0_','engMdoPower_1_','engMdoPower_2_', 'engMdoPower_3_', 'operationId', 'BaseLoad']]\n",
    "\n",
    "#Set engine powers to zero\n",
    "num = df2['engMdoPower_0_']._get_numeric_data()\n",
    "num[num != 0] = 0\n",
    "\n",
    "num = df2['engMdoPower_1_']._get_numeric_data()\n",
    "num[num != 0] = 0\n",
    "\n",
    "num = df2['engMdoPower_2_']._get_numeric_data()\n",
    "num[num != 0] = 0\n",
    "\n",
    "num = df2['engMdoPower_3_']._get_numeric_data()\n",
    "num[num != 0] = 0\n",
    "\n"
   ]
  },
  {
   "cell_type": "code",
   "execution_count": 96,
   "metadata": {},
   "outputs": [],
   "source": [
    "df4 = df2.copy()\n",
    "\n",
    "load = df4['Load'].values\n",
    "dg0 = df4['engMdoPower_0_'].values\n",
    "dg1 = df4['engMdoPower_1_'].values\n",
    "dg2 = df4['engMdoPower_2_'].values\n",
    "dg3 = df4['engMdoPower_3_'].values\n",
    "opid = df4['operationId'].values\n",
    "\n",
    "for i in range(len(load)):\n",
    "    if opid[i] == 100:\n",
    "        if load[i] <= 2100:\n",
    "            dg0[i] = dg1[i] = load[i]/2\n",
    "        elif load[i] > 2100 and load[i] <= 4200:\n",
    "            dg0[i] = dg1[i] = dg3[i] = load[i]/3\n",
    "    elif opid[i] != 100:\n",
    "        if load[i] <= 2100:\n",
    "            dg0[i] = load[i]\n",
    "        elif load[i] > 2100 and load[i] <= 4200:\n",
    "            dg0[i] = dg1[i] = load[i]/2\n",
    "    "
   ]
  },
  {
   "cell_type": "code",
   "execution_count": 97,
   "metadata": {},
   "outputs": [],
   "source": [
    "# Normalize Generators\n",
    "dg0n = (dg0) / (2100)\n",
    "dg1n = (dg1-dg1.min()) / (2100 - dg1.min())\n",
    "dg2n = (dg2-dg2.min()) / (2100 - dg2.min())\n",
    "dg3n = (dg3-dg3.min()) / (2100 - dg3.min())\n",
    "\n"
   ]
  },
  {
   "cell_type": "code",
   "execution_count": 98,
   "metadata": {},
   "outputs": [],
   "source": [
    "fc_dg0 = np.zeros(120960)\n",
    "fc_dg1 = np.zeros(120960)\n",
    "fc_dg2 = np.zeros(120960)\n",
    "fc_dg3 = np.zeros(120960)\n",
    "\n",
    "for i in range(len(dg0)):\n",
    "    if dg0[i] == 0:\n",
    "        fc_dg0[i] = 0\n",
    "    else:\n",
    "        fc_dg0[i] = (445*dg0n[i] + 47)/720\n",
    "        \n",
    "for i in range(len(dg1)):\n",
    "    if dg1[i] == 0:\n",
    "        fc_dg1[i] = 0\n",
    "    else:\n",
    "        fc_dg1[i] = (445*dg1n[i] + 47)/720\n",
    "        \n",
    "for i in range(len(dg2)):\n",
    "    if dg2[i] == 0:\n",
    "        fc_dg2[i] = 0\n",
    "    else:\n",
    "        fc_dg2[i] = (445*dg2n[i] + 47)/720\n",
    "        \n",
    "for i in range(len(dg3)):\n",
    "    if dg3[i] == 0:\n",
    "        fc_dg3[i] = 0\n",
    "    else:\n",
    "        fc_dg3[i] = (445*dg3n[i] + 47)/720"
   ]
  },
  {
   "cell_type": "code",
   "execution_count": 99,
   "metadata": {},
   "outputs": [
    {
     "name": "stdout",
     "output_type": "stream",
     "text": [
      "Total fuel consumption of BASECASE uten batteri er:  46474.13143311996 liter\n"
     ]
    }
   ],
   "source": [
    "fc = sum(fc_dg0) + sum(fc_dg1) + sum(fc_dg2) + sum(fc_dg3)\n",
    "print('Total fuel consumption of BASECASE uten batteri er: ', fc, 'liter')"
   ]
  },
  {
   "cell_type": "markdown",
   "metadata": {},
   "source": [
    "# SAmme med hotel load dekket av shore"
   ]
  },
  {
   "cell_type": "code",
   "execution_count": 100,
   "metadata": {},
   "outputs": [],
   "source": [
    "df5 = df2.copy()\n",
    "\n",
    "load = df5['Load'].values\n",
    "dg0 = df5['engMdoPower_0_'].values\n",
    "dg1 = df5['engMdoPower_1_'].values\n",
    "dg2 = df5['engMdoPower_2_'].values\n",
    "dg3 = df5['engMdoPower_3_'].values\n",
    "opid = df5['operationId'].values\n",
    "shore = [0]*120960\n",
    "\n",
    "for i in range(len(load)):\n",
    "    if opid[i] == 100:\n",
    "        if load[i] <= 2100:\n",
    "            dg0[i] = dg1[i] = load[i]/2\n",
    "        elif load[i] > 2100 and load[i] <= 4200:\n",
    "            dg0[i] = dg1[i] = dg3[i] = load[i]/3\n",
    "    elif opid[i] == 6:\n",
    "        shore[i] = load[i]\n",
    "        dg0[i] = 0\n",
    "        dg1[i] = 0\n",
    "        dg3[i] = 0\n",
    "    elif opid[i] != 100 and opid[i] != 6:\n",
    "        if load[i] <= 2100:\n",
    "            dg0[i] = load[i]\n",
    "        elif load[i] > 2100 and load[i] <= 4200:\n",
    "            dg0[i] = dg1[i] = load[i]/2\n",
    "    "
   ]
  },
  {
   "cell_type": "code",
   "execution_count": 101,
   "metadata": {},
   "outputs": [],
   "source": [
    "# Normalize Generators\n",
    "dg0n = (dg0-dg0.min()) / (2100 - dg0.min())\n",
    "dg1n = (dg1-dg1.min()) / (2100 - dg1.min())\n",
    "dg2n = (dg2-dg2.min()) / (2100 - dg2.min())\n",
    "dg3n = (dg3-dg3.min()) / (2100 - dg3.min())"
   ]
  },
  {
   "cell_type": "code",
   "execution_count": 102,
   "metadata": {},
   "outputs": [],
   "source": [
    "fc_dg0 = np.zeros(120960)\n",
    "fc_dg1 = np.zeros(120960)\n",
    "fc_dg2 = np.zeros(120960)\n",
    "fc_dg3 = np.zeros(120960)\n",
    "\n",
    "for i in range(len(dg0)):\n",
    "    if dg0[i] == 0:\n",
    "        fc_dg0[i] = 0\n",
    "    else:\n",
    "        fc_dg0[i] = (445*dg0n[i] + 47)/720\n",
    "        \n",
    "for i in range(len(dg1)):\n",
    "    if dg1[i] == 0:\n",
    "        fc_dg1[i] = 0\n",
    "    else:\n",
    "        fc_dg1[i] = (445*dg1n[i] + 47)/720\n",
    "        \n",
    "for i in range(len(dg2)):\n",
    "    if dg2[i] == 0:\n",
    "        fc_dg2[i] = 0\n",
    "    else:\n",
    "        fc_dg2[i] = (445*dg2n[i] + 47)/720\n",
    "        \n",
    "for i in range(len(dg3)):\n",
    "    if dg3[i] == 0:\n",
    "        fc_dg3[i] = 0\n",
    "    else:\n",
    "        fc_dg3[i] = (445*dg3n[i] + 47)/720"
   ]
  },
  {
   "cell_type": "code",
   "execution_count": 103,
   "metadata": {},
   "outputs": [
    {
     "name": "stdout",
     "output_type": "stream",
     "text": [
      "Total fuel consumption of BASECASE uten batteri med shore connection er:  41795.69342657306 liter\n"
     ]
    }
   ],
   "source": [
    "fc = sum(fc_dg0) + sum(fc_dg1) + sum(fc_dg2) + sum(fc_dg3)\n",
    "print('Total fuel consumption of BASECASE uten batteri med shore connection er: ', fc, 'liter')"
   ]
  },
  {
   "cell_type": "markdown",
   "metadata": {},
   "source": [
    "# Emissions"
   ]
  },
  {
   "cell_type": "code",
   "execution_count": 104,
   "metadata": {},
   "outputs": [
    {
     "name": "stdout",
     "output_type": "stream",
     "text": [
      "CO2-utslipp uten shore connection:  124550.32 kg\n",
      "CO2-utslipp med shore connection:  112010.6 kg\n"
     ]
    }
   ],
   "source": [
    "uten_shore_connection = 2.68 * 46474 # (kg/liter) * liter\n",
    "med_shore_connection = 2.68 * 41795\n",
    "\n",
    "print('CO2-utslipp uten shore connection: ', uten_shore_connection, 'kg')\n",
    "print('CO2-utslipp med shore connection: ', med_shore_connection, 'kg')"
   ]
  }
 ],
 "metadata": {
  "kernelspec": {
   "display_name": "Python 3",
   "language": "python",
   "name": "python3"
  },
  "language_info": {
   "codemirror_mode": {
    "name": "ipython",
    "version": 3
   },
   "file_extension": ".py",
   "mimetype": "text/x-python",
   "name": "python",
   "nbconvert_exporter": "python",
   "pygments_lexer": "ipython3",
   "version": "3.8.5"
  }
 },
 "nbformat": 4,
 "nbformat_minor": 4
}
