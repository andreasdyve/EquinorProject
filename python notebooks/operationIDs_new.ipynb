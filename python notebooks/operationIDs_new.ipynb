{
 "cells": [
  {
   "cell_type": "code",
   "execution_count": 1,
   "metadata": {},
   "outputs": [],
   "source": [
    "import pandas as pd\n",
    "df = pd.read_excel('data_full_sekres.xlsx')"
   ]
  },
  {
   "cell_type": "code",
   "execution_count": 3,
   "metadata": {},
   "outputs": [],
   "source": [
    "df_port = df.loc[df['operationId'] == 1]\n",
    "df_ecotransit = df.loc[df['operationId'] == 3]\n",
    "df_fasttransit = df.loc[df['operationId'] == 5]\n",
    "df_standby = df.loc[df['operationId'] == 7]\n",
    "df_dp = df.loc[df['operationId'] == 100]"
   ]
  },
  {
   "cell_type": "code",
   "execution_count": 4,
   "metadata": {},
   "outputs": [],
   "source": [
    "df_port.to_excel('op1_port.xlsx')\n",
    "df_ecotransit.to_excel('op3_ecotransit.xlsx')\n",
    "df_fasttransit.to_excel('op5_fasttransit.xlsx')\n",
    "df_standby.to_excel('op7_standby.xlsx')\n",
    "df_dp.to_excel('op100_dp.xlsx')"
   ]
  },
  {
   "cell_type": "code",
   "execution_count": null,
   "metadata": {},
   "outputs": [],
   "source": []
  }
 ],
 "metadata": {
  "kernelspec": {
   "display_name": "Python 3",
   "language": "python",
   "name": "python3"
  },
  "language_info": {
   "codemirror_mode": {
    "name": "ipython",
    "version": 3
   },
   "file_extension": ".py",
   "mimetype": "text/x-python",
   "name": "python",
   "nbconvert_exporter": "python",
   "pygments_lexer": "ipython3",
   "version": "3.8.5"
  }
 },
 "nbformat": 4,
 "nbformat_minor": 4
}
