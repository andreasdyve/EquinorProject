{
 "cells": [
  {
   "cell_type": "code",
   "execution_count": 1,
   "metadata": {},
   "outputs": [],
   "source": [
    "import pandas as pd\n",
    "import numpy as np\n",
    "import matplotlib.pyplot as plt\n",
    "df = pd.read_excel('data_full_5sekres.xlsx')"
   ]
  },
  {
   "cell_type": "code",
   "execution_count": 2,
   "metadata": {},
   "outputs": [],
   "source": [
    "df1 = df.copy()"
   ]
  },
  {
   "cell_type": "code",
   "execution_count": 3,
   "metadata": {},
   "outputs": [],
   "source": [
    "#Create a column of load profile\n",
    "df1['Load'] = df1['thrusterAndPropulsion']\n",
    "df1['BaseLoad'] = 300\n",
    "df1.loc[df1['operationId'] == 100, 'BaseLoad'] = 500\n",
    "df1.loc[df1['operationId'] == 3, 'BaseLoad'] = 550\n",
    "df1.loc[df1['operationId'] == 5, 'BaseLoad'] = 510\n",
    "df1.loc[df1['operationId'] == 6, 'BaseLoad'] = 250\n",
    "df1.loc[df1['operationId'] == 1, 'BaseLoad'] = 250\n",
    "df1.loc[df1['operationId'] == 7, 'BaseLoad'] = 380\n",
    "\n",
    "df1['Load'] = df1['thrusterAndPropulsion'] + df1['BaseLoad']\n",
    "\n",
    "df1['Battery'] = 0\n",
    "df1['SOC'] = 0\n",
    "#Create dataset with only relevant columns\n",
    "df3 = df1[['datetime', 'Load', 'engMdoPower_0_','engMdoPower_1_','engMdoPower_2_', 'engMdoPower_3_', 'operationId', 'BaseLoad', 'Battery', 'SOC']]\n",
    "\n",
    "#Set engine powers to zero\n",
    "num = df3['engMdoPower_0_']._get_numeric_data()\n",
    "num[num != 0] = 0\n",
    "\n",
    "num = df3['engMdoPower_1_']._get_numeric_data()\n",
    "num[num != 0] = 0\n",
    "\n",
    "num = df3['engMdoPower_2_']._get_numeric_data()\n",
    "num[num != 0] = 0\n",
    "\n",
    "num = df3['engMdoPower_3_']._get_numeric_data()\n",
    "num[num != 0] = 0\n"
   ]
  },
  {
   "cell_type": "markdown",
   "metadata": {},
   "source": [
    "# Peakshaving for 5-10 seconds over 2100"
   ]
  },
  {
   "cell_type": "code",
   "execution_count": 57,
   "metadata": {},
   "outputs": [],
   "source": [
    "df6 = df3.copy()\n",
    "\n",
    "load = df6['Load'].values\n",
    "dg0 = df6['engMdoPower_0_'].values\n",
    "dg1 = df6['engMdoPower_1_'].values\n",
    "dg2 = df6['engMdoPower_2_'].values\n",
    "dg3 = df6['engMdoPower_3_'].values\n",
    "bat = df6['Battery'].values\n",
    "soc = [0]*120960\n",
    "soc[0] = 496 #124 empty (20%) 496(80%)\n",
    "opid = df6['operationId'].values\n",
    "shore = [0]*120960\n",
    "\n",
    "# DP mode, battery is used for spinning reserve \n",
    "for i in range(len(load)):\n",
    "    if i == 120959:\n",
    "        pass\n",
    "    elif opid[i] == 100:\n",
    "        \n",
    "        if load[i] <= 2100 and soc[i] >= 200:\n",
    "            dg0[i] = load[i]\n",
    "            soc[i+1] = soc[i]\n",
    "        elif load[i] <= 2100 and soc[i] < 200:\n",
    "            dg0[i] = dg1[i] = load[i]/2\n",
    "            soc[i+1] = soc[i]\n",
    "            \n",
    "        elif load[i] > 2100 and soc[i] >= 200:\n",
    "            dg0[i] = dg1[i] = load[i]/2\n",
    "            soc[i+1] = soc[i]\n",
    "        elif load[i] > 2100 and soc[i] < 200:\n",
    "            dg0[i] = dg1[i] = dg3[i] = load[i]/3\n",
    "            soc[i+1] = soc[i]         \n",
    "\n",
    "        else:\n",
    "            soc[i+1] = soc[i]\n",
    "            \n",
    "#Transit mode\n",
    "    elif opid[i] == 3 or opid[i] == 5:\n",
    "        if load[i] <= 2100 and load[i+1] <= 2100:\n",
    "            dg0[i] = load[i]\n",
    "            soc[i+1] = soc[i]\n",
    "        elif load[i] <= 2100 and load[i+1] > 2100:\n",
    "            dg0[i] = load[i]\n",
    "            soc[i+1] = soc[i]\n",
    "        elif load[i] > 2100 and load[i-1] < 2100 and soc[i] > 124: # if the load is over 2100 for less than 5 seconds battery covers\n",
    "            dg0[i] = 2100\n",
    "            bat[i] = load[i] - dg0[i]\n",
    "            soc[i+1] = soc[i] - bat[i]/720\n",
    "        elif load[i] > 2100 and load[i-2] < 2100 and soc[i] > 124: # if the load is over 2100 for less than 10 seconds battery covers\n",
    "            dg0[i] = 2100\n",
    "            bat[i] = load[i] - dg0[i]\n",
    "            soc[i+1] = soc[i] - bat[i]/720            \n",
    "        elif load[i] > 2100 and load[i-1] < 2100 and soc[i] <= 124: # if the load is over 2100 for less than 5 seconds battery covers\n",
    "            dg0[i] = dg1[i] = load[i]/2\n",
    "            soc[i+1] = soc[i]\n",
    "        elif load[i] > 2100 and load[i-2] < 2100 and soc[i] <= 124: # if the load is over 2100 for less than 10 seconds battery covers\n",
    "            dg0[i] = dg1[i] = load[i]/2\n",
    "            soc[i+1] = soc[i]           \n",
    "        elif load[i] <= 4200 and load[i-1] > 2100:\n",
    "            dg0[i] = dg1[i] = load[i]/2\n",
    "            soc[i+1] = soc[i]\n",
    "        elif load[i] > 4200:\n",
    "            dg0[i] = dg1[i] = 2100\n",
    "            bat[i] = load[i] - dg0[i] - dg1[i]\n",
    "            soc[i+1] = soc[i] - bat[i]/720\n",
    "        else:\n",
    "            soc[i+1] = soc[i]\n",
    "        \n",
    "#Standby mode\n",
    "    elif opid[i] == 7:\n",
    "        if load[i] <= 2100 and load[i+1] <= 2100:\n",
    "            dg0[i] = load[i]\n",
    "            soc[i+1] = soc[i]\n",
    "        elif load[i] <= 2100 and load[i+1] > 2100:\n",
    "            dg0[i] = load[i]\n",
    "            soc[i+1] = soc[i]\n",
    "        elif load[i] > 2100 and load[i-1] < 2100 and soc[i] > 124: # if the load is over 2100 for less than 5 seconds battery covers\n",
    "            dg0[i] = 2100\n",
    "            bat[i] = load[i] - dg0[i]\n",
    "            soc[i+1] = soc[i] - bat[i]/720\n",
    "        elif load[i] > 2100 and load[i-2] < 2100 and soc[i] > 124: # if the load is over 2100 for less than 10 seconds battery covers\n",
    "            dg0[i] = 2100\n",
    "            bat[i] = load[i] - dg0[i]\n",
    "            soc[i+1] = soc[i] - bat[i]/720\n",
    "            \n",
    "        elif load[i] > 2100 and load[i-1] < 2100 and soc[i] <= 124: # if the load is over 2100 for less than 5 seconds battery covers\n",
    "            dg0[i] = dg1[i] = load[i]/2\n",
    "            soc[i+1] = soc[i]\n",
    "        elif load[i] > 2100 and load[i-2] < 2100 and soc[i] <= 124: # if the load is over 2100 for less than 10 seconds battery covers\n",
    "            dg0[i] = dg1[i] = load[i]/2\n",
    "            soc[i+1] = soc[i]          \n",
    "            \n",
    "        elif load[i] <= 4200 and load[i-1] > 2100:\n",
    "            dg0[i] = dg1[i] = load[i]/2\n",
    "            soc[i+1] = soc[i]\n",
    "        elif load[i] > 4200:\n",
    "            dg0[i] = dg1[i] = 2100\n",
    "            bat[i] = load[i] - dg0[i] - dg1[i]\n",
    "            soc[i+1] = soc[i] - bat[i]/720\n",
    "        else:\n",
    "            soc[i+1] = soc[i]\n",
    "            \n",
    "# port\n",
    "    elif opid[i] == 1 and soc[i] < 496:\n",
    "        #bat[i] = -100\n",
    "        dg0[i] = load[i]# - bat[i]*1.08\n",
    "        soc[i+1] = soc[i]# - bat[i]/720\n",
    "    elif opid[i] == 1 and soc[i] >= 496:\n",
    "        dg0[i] = load[i]\n",
    "        soc[i+1] = soc[i]    \n",
    "    elif opid[i] == 6 and soc[i] < 496:\n",
    "        bat[i] = -100\n",
    "        shore[i] = load[i]\n",
    "        dg0[i] = -bat[i]*1.08\n",
    "        soc[i+1] = soc[i] - bat[i]/720\n",
    "    elif opid[i] == 6 and soc[i] >= 496:\n",
    "        shore[i] = load[i]\n",
    "        soc[i+1] = soc[i] \n",
    "    else:\n",
    "        soc[i+1] = soc[i]\n",
    "\n",
    "    "
   ]
  },
  {
   "cell_type": "code",
   "execution_count": 58,
   "metadata": {},
   "outputs": [
    {
     "data": {
      "text/plain": [
       "[<matplotlib.lines.Line2D at 0x22735915df0>]"
      ]
     },
     "execution_count": 58,
     "metadata": {},
     "output_type": "execute_result"
    },
    {
     "data": {
      "image/png": "[encoded data removed]",
      "text/plain": [
       "<Figure size 432x288 with 1 Axes>"
      ]
     },
     "metadata": {
      "needs_background": "light"
     },
     "output_type": "display_data"
    }
   ],
   "source": [
    "plt.plot(soc)#[18500:20530])\n",
    "#plt.plot(opid[18500:20530])"
   ]
  },
  {
   "cell_type": "code",
   "execution_count": 59,
   "metadata": {},
   "outputs": [],
   "source": [
    "# Normalize Generators\n",
    "dg0n = (dg0-dg0.min()) / (2100 - dg0.min())\n",
    "dg1n = (dg1-dg1.min()) / (2100 - dg1.min())\n",
    "dg2n = (dg2-dg2.min()) / (2100 - dg2.min())\n",
    "dg3n = (dg3-dg3.min()) / (2100 - dg3.min())\n"
   ]
  },
  {
   "cell_type": "code",
   "execution_count": 60,
   "metadata": {},
   "outputs": [],
   "source": [
    "fc_dg0 = np.zeros(120960)\n",
    "fc_dg1 = np.zeros(120960)\n",
    "fc_dg2 = np.zeros(120960)\n",
    "fc_dg3 = np.zeros(120960)\n",
    "\n",
    "for i in range(len(dg0)):\n",
    "    if dg0[i] == 0:\n",
    "        fc_dg0[i] = 0\n",
    "    else:\n",
    "        fc_dg0[i] = (445*dg0n[i] + 47)/720\n",
    "        \n",
    "for i in range(len(dg1)):\n",
    "    if dg1[i] == 0:\n",
    "        fc_dg1[i] = 0\n",
    "    else:\n",
    "        fc_dg1[i] = (445*dg1n[i] + 47)/720\n",
    "        \n",
    "for i in range(len(dg2)):\n",
    "    if dg2[i] == 0:\n",
    "        fc_dg2[i] = 0\n",
    "    else:\n",
    "        fc_dg2[i] = (445*dg2n[i] + 47)/720\n",
    "        \n",
    "for i in range(len(dg3)):\n",
    "    if dg3[i] == 0:\n",
    "        fc_dg3[i] = 0\n",
    "    else:\n",
    "        fc_dg3[i] = (445*dg3n[i] + 47)/720"
   ]
  },
  {
   "cell_type": "code",
   "execution_count": 61,
   "metadata": {},
   "outputs": [
    {
     "name": "stdout",
     "output_type": "stream",
     "text": [
      "Total fuel consumption of BASECASE med batteri 20% batteri start er:  39825.51084336214 liter\n"
     ]
    }
   ],
   "source": [
    "fc = sum(fc_dg0) + sum(fc_dg1) + sum(fc_dg2) + sum(fc_dg3)\n",
    "print('Total fuel consumption of BASECASE med batteri 20% batteri start er: ', fc, 'liter')"
   ]
  },
  {
   "cell_type": "markdown",
   "metadata": {},
   "source": [
    "# Battery peak shaves between 1 and 2 generators\n",
    "\n",
    "Change soc[0] on line 10 for different scenarios"
   ]
  },
  {
   "cell_type": "code",
   "execution_count": 25,
   "metadata": {},
   "outputs": [],
   "source": [
    "df4 = df3.copy()\n",
    "\n",
    "load = df4['Load'].values\n",
    "dg0 = df4['engMdoPower_0_'].values\n",
    "dg1 = df4['engMdoPower_1_'].values\n",
    "dg2 = df4['engMdoPower_2_'].values\n",
    "dg3 = df4['engMdoPower_3_'].values\n",
    "bat = df4['Battery'].values\n",
    "soc = [0]*120960\n",
    "soc[0] = 310 #124 empty (20%) 496(80%)\n",
    "opid = df4['operationId'].values\n",
    "shore = [0]*120960\n",
    "\n",
    "\n",
    "# DP mode, battery is used for spinning reserve \n",
    "for i in range(len(load)):\n",
    "    if i == 120959:\n",
    "        pass\n",
    "    elif opid[i] == 100:\n",
    "        \n",
    "        if load[i] <= 2100 and soc[i] >= 200:\n",
    "            dg0[i] = load[i]\n",
    "            soc[i+1] = soc[i]\n",
    "        elif load[i] <= 2100 and soc[i] < 200:\n",
    "            dg0[i] = dg1[i] = load[i]/2\n",
    "            soc[i+1] = soc[i]\n",
    "            \n",
    "        elif load[i] > 2100 and soc[i] >= 200:\n",
    "            dg0[i] = dg1[i] = load[i]/2\n",
    "            soc[i+1] = soc[i]\n",
    "        elif load[i] > 2100 and soc[i] < 200:\n",
    "            dg0[i] = dg1[i] = dg3[i] = load[i]/3\n",
    "            soc[i+1] = soc[i]         \n",
    "\n",
    "        else:\n",
    "            soc[i+1] = soc[i]\n",
    "\n",
    "#Transit mode\n",
    "    elif opid[i] == 3 or opid[i] == 5:\n",
    "        if load[i] <= 1000 and soc[i] < 496:\n",
    "            dg0[i] = 1000\n",
    "            bat[i] = load[i] - dg0[i]\n",
    "            soc[i+1] = soc[i] - bat[i]/720\n",
    "        elif load[i] <= 1000 and soc[i] >= 496:\n",
    "            dg0[i] = load[i]\n",
    "            soc[i+1] = soc[i]\n",
    "        elif load[i] <= 2100 and load[i] > 1000:\n",
    "            dg0[i] = load[i]\n",
    "            soc[i+1] = soc[i]\n",
    "        elif load[i] > 2100 and load[i] <= 3000 and soc[i] > 124: # if the load is over 2100 for less than 5 seconds battery covers\n",
    "            dg0[i] = 2100\n",
    "            bat[i] = load[i] - dg0[i]\n",
    "            soc[i+1] = soc[i] - bat[i]/720\n",
    "        elif load[i] > 2100 and load[i] <= 3000 and soc[i] <= 124: # if the load is over 2100 for less than 5 seconds battery covers\n",
    "            dg0[i] = dg1[i] = load[i]/2\n",
    "            soc[i+1] = soc[i]\n",
    "        elif load[i] > 3000: # if the load is over 2100 for less than 5 seconds battery covers\n",
    "            dg0[i] = dg1[i] = load[i]/2\n",
    "            soc[i+1] = soc[i]\n",
    "        else:\n",
    "            soc[i+1] = soc[i]\n",
    "        \n",
    "#Standby mode\n",
    "    elif opid[i] == 7:\n",
    "        if load[i] <= 1000 and soc[i] < 496:\n",
    "            dg0[i] = 1000\n",
    "            bat[i] = load[i] - dg0[i]\n",
    "            soc[i+1] = soc[i] - bat[i]/720\n",
    "        elif load[i] <= 1000 and soc[i] >= 496:\n",
    "            dg0[i] = load[i]\n",
    "            soc[i+1] = soc[i]\n",
    "        elif load[i] <= 2100 and load[i] > 1000:\n",
    "            dg0[i] = load[i]\n",
    "            soc[i+1] = soc[i]\n",
    "        elif load[i] > 2100 and load[i] <= 3000 and soc[i] > 124: # if the load is over 2100 for less than 5 seconds battery covers\n",
    "            dg0[i] = 2100\n",
    "            bat[i] = load[i] - dg0[i]\n",
    "            soc[i+1] = soc[i] - bat[i]/720\n",
    "        elif load[i] > 2100 and load[i] <= 3000 and soc[i] <= 124: # if the load is over 2100 for less than 5 seconds battery covers\n",
    "            dg0[i] = dg1[i] = load[i]/2\n",
    "            soc[i+1] = soc[i]\n",
    "        elif load[i] > 3000: # if the load is over 2100 for less than 5 seconds battery covers\n",
    "            dg0[i] = dg1[i] = load[i]/2\n",
    "            soc[i+1] = soc[i]\n",
    "        else:\n",
    "            soc[i+1] = soc[i]\n",
    "            \n",
    "# port\n",
    "    elif opid[i] == 1 and soc[i] < 496:\n",
    "        #bat[i] = -100\n",
    "        dg0[i] = load[i]# - bat[i]*1.08\n",
    "        soc[i+1] = soc[i]# - bat[i]/720\n",
    "    elif opid[i] == 1 and soc[i] >= 496:\n",
    "        dg0[i] = load[i]\n",
    "        soc[i+1] = soc[i]    \n",
    "    elif opid[i] == 6 and soc[i] < 496:\n",
    "        bat[i] = -100\n",
    "        shore[i] = load[i]\n",
    "        dg0[i] = -bat[i]*1.08                #1.08 because 92% efficiency\n",
    "        soc[i+1] = soc[i] - bat[i]/720\n",
    "    elif opid[i] == 6 and soc[i] >= 496:\n",
    "        shore[i] = load[i]\n",
    "        soc[i+1] = soc[i] \n",
    "    else:\n",
    "        soc[i+1] = soc[i]\n",
    "\n"
   ]
  },
  {
   "cell_type": "code",
   "execution_count": 26,
   "metadata": {},
   "outputs": [
    {
     "name": "stdout",
     "output_type": "stream",
     "text": [
      "Total fuel consumption of BASECASE med batteri 20% batteri start er:  39889.192524751685 liter\n"
     ]
    }
   ],
   "source": [
    "# Normalize Generators\n",
    "dg0n = (dg0-dg0.min()) / (2100 - dg0.min())\n",
    "dg1n = (dg1-dg1.min()) / (2100 - dg1.min())\n",
    "dg2n = (dg2-dg2.min()) / (2100 - dg2.min())\n",
    "dg3n = (dg3-dg3.min()) / (2100 - dg3.min())\n",
    "\n",
    "fc_dg0 = np.zeros(120960)\n",
    "fc_dg1 = np.zeros(120960)\n",
    "fc_dg2 = np.zeros(120960)\n",
    "fc_dg3 = np.zeros(120960)\n",
    "\n",
    "for i in range(len(dg0)):\n",
    "    if dg0[i] == 0:\n",
    "        fc_dg0[i] = 0\n",
    "    else:\n",
    "        fc_dg0[i] = (445*dg0n[i] + 47)/720\n",
    "        \n",
    "for i in range(len(dg1)):\n",
    "    if dg1[i] == 0:\n",
    "        fc_dg1[i] = 0\n",
    "    else:\n",
    "        fc_dg1[i] = (445*dg1n[i] + 47)/720\n",
    "        \n",
    "for i in range(len(dg2)):\n",
    "    if dg2[i] == 0:\n",
    "        fc_dg2[i] = 0\n",
    "    else:\n",
    "        fc_dg2[i] = (445*dg2n[i] + 47)/720\n",
    "        \n",
    "for i in range(len(dg3)):\n",
    "    if dg3[i] == 0:\n",
    "        fc_dg3[i] = 0\n",
    "    else:\n",
    "        fc_dg3[i] = (445*dg3n[i] + 47)/720\n",
    "        \n",
    "fc = sum(fc_dg0) + sum(fc_dg1) + sum(fc_dg2) + sum(fc_dg3)\n",
    "print('Total fuel consumption of BASECASE med batteri 20% batteri start er: ', fc, 'liter')"
   ]
  },
  {
   "cell_type": "code",
   "execution_count": 24,
   "metadata": {},
   "outputs": [
    {
     "data": {
      "text/plain": [
       "[<matplotlib.lines.Line2D at 0x227326814c0>]"
      ]
     },
     "execution_count": 24,
     "metadata": {},
     "output_type": "execute_result"
    },
    {
     "data": {
      "image/png": "[encoded data removed]",
      "text/plain": [
       "<Figure size 432x288 with 1 Axes>"
      ]
     },
     "metadata": {
      "needs_background": "light"
     },
     "output_type": "display_data"
    }
   ],
   "source": [
    "plt.plot(soc)"
   ]
  },
  {
   "cell_type": "markdown",
   "metadata": {},
   "source": [
    "# Emissions"
   ]
  },
  {
   "cell_type": "code",
   "execution_count": 62,
   "metadata": {},
   "outputs": [
    {
     "name": "stdout",
     "output_type": "stream",
     "text": [
      "CO2-utslipp med batteri på 20% fra start:  107427.8  kg\n",
      "CO2-utslipp med batteri på 50% fra start:  107371.52  kg\n",
      "CO2-utslipp med batteri på 80% fra start:  106731.0  kg\n",
      "CO2-utslipp med batteri på 20% fra start:  107250.92000000001  kg\n",
      "CO2-utslipp med batteri på 50% fra start:  106902.52  kg\n",
      "CO2-utslipp med batteri på 80% fra start:  106554.12000000001  kg\n"
     ]
    }
   ],
   "source": [
    "bat_old20 = 2.68 * 40085 # (kg/l)*l\n",
    "bat_old50 = 2.68 * 40064 \n",
    "bat_old80 = 2.68 * 39825 \n",
    "bat_new20 = 2.68 * 40019 \n",
    "bat_new50 = 2.68 * 39889 \n",
    "bat_new80 = 2.68 * 39759 \n",
    "\n",
    "print('CO2-utslipp med batteri på 20% fra start: ',bat_old20,' kg')\n",
    "print('CO2-utslipp med batteri på 50% fra start: ',bat_old50,' kg')\n",
    "print('CO2-utslipp med batteri på 80% fra start: ',bat_old80,' kg')\n",
    "\n",
    "print('CO2-utslipp med batteri på 20% fra start: ',bat_new20,' kg')\n",
    "print('CO2-utslipp med batteri på 50% fra start: ',bat_new50,' kg')\n",
    "print('CO2-utslipp med batteri på 80% fra start: ',bat_new80,' kg')"
   ]
  },
  {
   "cell_type": "code",
   "execution_count": null,
   "metadata": {},
   "outputs": [],
   "source": []
  }
 ],
 "metadata": {
  "kernelspec": {
   "display_name": "Python 3",
   "language": "python",
   "name": "python3"
  },
  "language_info": {
   "codemirror_mode": {
    "name": "ipython",
    "version": 3
   },
   "file_extension": ".py",
   "mimetype": "text/x-python",
   "name": "python",
   "nbconvert_exporter": "python",
   "pygments_lexer": "ipython3",
   "version": "3.8.5"
  }
 },
 "nbformat": 4,
 "nbformat_minor": 4
}
