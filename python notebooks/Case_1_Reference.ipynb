{
 "cells": [
  {
   "cell_type": "code",
   "execution_count": 1,
   "metadata": {},
   "outputs": [],
   "source": [
    "import pandas as pd\n",
    "import numpy as np\n",
    "import matplotlib.pyplot as plt"
   ]
  },
  {
   "cell_type": "code",
   "execution_count": 2,
   "metadata": {},
   "outputs": [],
   "source": [
    "df = pd.read_excel('data_full_5sekres.xlsx')"
   ]
  },
  {
   "cell_type": "code",
   "execution_count": 3,
   "metadata": {},
   "outputs": [],
   "source": [
    "df1 = df.copy()"
   ]
  },
  {
   "cell_type": "code",
   "execution_count": 154,
   "metadata": {},
   "outputs": [
    {
     "data": {
      "text/html": [
       "<div>\n",
       "<style scoped>\n",
       "    .dataframe tbody tr th:only-of-type {\n",
       "        vertical-align: middle;\n",
       "    }\n",
       "\n",
       "    .dataframe tbody tr th {\n",
       "        vertical-align: top;\n",
       "    }\n",
       "\n",
       "    .dataframe thead th {\n",
       "        text-align: right;\n",
       "    }\n",
       "</style>\n",
       "<table border=\"1\" class=\"dataframe\">\n",
       "  <thead>\n",
       "    <tr style=\"text-align: right;\">\n",
       "      <th></th>\n",
       "      <th>datetime</th>\n",
       "      <th>Load</th>\n",
       "      <th>engMdoPower_0_</th>\n",
       "      <th>engMdoPower_1_</th>\n",
       "      <th>engMdoPower_2_</th>\n",
       "      <th>engMdoPower_3_</th>\n",
       "      <th>operationId</th>\n",
       "      <th>BaseLoad</th>\n",
       "      <th>Battery</th>\n",
       "      <th>SOC</th>\n",
       "    </tr>\n",
       "  </thead>\n",
       "  <tbody>\n",
       "    <tr>\n",
       "      <th>0</th>\n",
       "      <td>2020-01-30 00:00:00</td>\n",
       "      <td>250.0</td>\n",
       "      <td>0.0</td>\n",
       "      <td>0.0</td>\n",
       "      <td>0</td>\n",
       "      <td>0.0</td>\n",
       "      <td>6.0</td>\n",
       "      <td>250</td>\n",
       "      <td>0</td>\n",
       "      <td>0</td>\n",
       "    </tr>\n",
       "    <tr>\n",
       "      <th>1</th>\n",
       "      <td>2020-01-30 00:00:05</td>\n",
       "      <td>250.0</td>\n",
       "      <td>0.0</td>\n",
       "      <td>0.0</td>\n",
       "      <td>0</td>\n",
       "      <td>0.0</td>\n",
       "      <td>6.0</td>\n",
       "      <td>250</td>\n",
       "      <td>0</td>\n",
       "      <td>0</td>\n",
       "    </tr>\n",
       "    <tr>\n",
       "      <th>2</th>\n",
       "      <td>2020-01-30 00:00:10</td>\n",
       "      <td>250.0</td>\n",
       "      <td>0.0</td>\n",
       "      <td>0.0</td>\n",
       "      <td>0</td>\n",
       "      <td>0.0</td>\n",
       "      <td>6.0</td>\n",
       "      <td>250</td>\n",
       "      <td>0</td>\n",
       "      <td>0</td>\n",
       "    </tr>\n",
       "    <tr>\n",
       "      <th>3</th>\n",
       "      <td>2020-01-30 00:00:15</td>\n",
       "      <td>250.0</td>\n",
       "      <td>0.0</td>\n",
       "      <td>0.0</td>\n",
       "      <td>0</td>\n",
       "      <td>0.0</td>\n",
       "      <td>6.0</td>\n",
       "      <td>250</td>\n",
       "      <td>0</td>\n",
       "      <td>0</td>\n",
       "    </tr>\n",
       "    <tr>\n",
       "      <th>4</th>\n",
       "      <td>2020-01-30 00:00:20</td>\n",
       "      <td>250.0</td>\n",
       "      <td>0.0</td>\n",
       "      <td>0.0</td>\n",
       "      <td>0</td>\n",
       "      <td>0.0</td>\n",
       "      <td>6.0</td>\n",
       "      <td>250</td>\n",
       "      <td>0</td>\n",
       "      <td>0</td>\n",
       "    </tr>\n",
       "    <tr>\n",
       "      <th>...</th>\n",
       "      <td>...</td>\n",
       "      <td>...</td>\n",
       "      <td>...</td>\n",
       "      <td>...</td>\n",
       "      <td>...</td>\n",
       "      <td>...</td>\n",
       "      <td>...</td>\n",
       "      <td>...</td>\n",
       "      <td>...</td>\n",
       "      <td>...</td>\n",
       "    </tr>\n",
       "    <tr>\n",
       "      <th>120955</th>\n",
       "      <td>2020-02-05 23:59:35</td>\n",
       "      <td>2046.0</td>\n",
       "      <td>0.0</td>\n",
       "      <td>0.0</td>\n",
       "      <td>0</td>\n",
       "      <td>0.0</td>\n",
       "      <td>3.0</td>\n",
       "      <td>550</td>\n",
       "      <td>0</td>\n",
       "      <td>0</td>\n",
       "    </tr>\n",
       "    <tr>\n",
       "      <th>120956</th>\n",
       "      <td>2020-02-05 23:59:40</td>\n",
       "      <td>1993.2</td>\n",
       "      <td>0.0</td>\n",
       "      <td>0.0</td>\n",
       "      <td>0</td>\n",
       "      <td>0.0</td>\n",
       "      <td>3.0</td>\n",
       "      <td>550</td>\n",
       "      <td>0</td>\n",
       "      <td>0</td>\n",
       "    </tr>\n",
       "    <tr>\n",
       "      <th>120957</th>\n",
       "      <td>2020-02-05 23:59:45</td>\n",
       "      <td>1975.6</td>\n",
       "      <td>0.0</td>\n",
       "      <td>0.0</td>\n",
       "      <td>0</td>\n",
       "      <td>0.0</td>\n",
       "      <td>3.0</td>\n",
       "      <td>550</td>\n",
       "      <td>0</td>\n",
       "      <td>0</td>\n",
       "    </tr>\n",
       "    <tr>\n",
       "      <th>120958</th>\n",
       "      <td>2020-02-05 23:59:50</td>\n",
       "      <td>2010.8</td>\n",
       "      <td>0.0</td>\n",
       "      <td>0.0</td>\n",
       "      <td>0</td>\n",
       "      <td>0.0</td>\n",
       "      <td>3.0</td>\n",
       "      <td>550</td>\n",
       "      <td>0</td>\n",
       "      <td>0</td>\n",
       "    </tr>\n",
       "    <tr>\n",
       "      <th>120959</th>\n",
       "      <td>2020-02-05 23:59:55</td>\n",
       "      <td>1958.0</td>\n",
       "      <td>0.0</td>\n",
       "      <td>0.0</td>\n",
       "      <td>0</td>\n",
       "      <td>0.0</td>\n",
       "      <td>3.0</td>\n",
       "      <td>550</td>\n",
       "      <td>0</td>\n",
       "      <td>0</td>\n",
       "    </tr>\n",
       "  </tbody>\n",
       "</table>\n",
       "<p>120960 rows × 10 columns</p>\n",
       "</div>"
      ],
      "text/plain": [
       "                  datetime    Load  engMdoPower_0_  engMdoPower_1_  \\\n",
       "0      2020-01-30 00:00:00   250.0             0.0             0.0   \n",
       "1      2020-01-30 00:00:05   250.0             0.0             0.0   \n",
       "2      2020-01-30 00:00:10   250.0             0.0             0.0   \n",
       "3      2020-01-30 00:00:15   250.0             0.0             0.0   \n",
       "4      2020-01-30 00:00:20   250.0             0.0             0.0   \n",
       "...                    ...     ...             ...             ...   \n",
       "120955 2020-02-05 23:59:35  2046.0             0.0             0.0   \n",
       "120956 2020-02-05 23:59:40  1993.2             0.0             0.0   \n",
       "120957 2020-02-05 23:59:45  1975.6             0.0             0.0   \n",
       "120958 2020-02-05 23:59:50  2010.8             0.0             0.0   \n",
       "120959 2020-02-05 23:59:55  1958.0             0.0             0.0   \n",
       "\n",
       "        engMdoPower_2_  engMdoPower_3_  operationId  BaseLoad  Battery  SOC  \n",
       "0                    0             0.0          6.0       250        0    0  \n",
       "1                    0             0.0          6.0       250        0    0  \n",
       "2                    0             0.0          6.0       250        0    0  \n",
       "3                    0             0.0          6.0       250        0    0  \n",
       "4                    0             0.0          6.0       250        0    0  \n",
       "...                ...             ...          ...       ...      ...  ...  \n",
       "120955               0             0.0          3.0       550        0    0  \n",
       "120956               0             0.0          3.0       550        0    0  \n",
       "120957               0             0.0          3.0       550        0    0  \n",
       "120958               0             0.0          3.0       550        0    0  \n",
       "120959               0             0.0          3.0       550        0    0  \n",
       "\n",
       "[120960 rows x 10 columns]"
      ]
     },
     "metadata": {},
     "output_type": "display_data"
    }
   ],
   "source": [
    "#Create a column of load profile\n",
    "df1['Load'] = df1['thrusterAndPropulsion']\n",
    "df1['BaseLoad'] = 300\n",
    "df1.loc[df1['operationId'] == 100, 'BaseLoad'] = 500\n",
    "df1.loc[df1['operationId'] == 3, 'BaseLoad'] = 550\n",
    "df1.loc[df1['operationId'] == 5, 'BaseLoad'] = 510\n",
    "df1.loc[df1['operationId'] == 6, 'BaseLoad'] = 250\n",
    "df1.loc[df1['operationId'] == 1, 'BaseLoad'] = 250\n",
    "df1.loc[df1['operationId'] == 7, 'BaseLoad'] = 380\n",
    "df1['Load'] = df1['thrusterAndPropulsion'] + df1['BaseLoad']\n",
    "\n",
    "df1['Battery'] = 0\n",
    "df1['SOC'] = 0\n",
    "#Create dataset with only relevant columns\n",
    "df3 = df1[['datetime', 'Load', 'engMdoPower_0_','engMdoPower_1_','engMdoPower_2_', 'engMdoPower_3_', 'operationId', 'BaseLoad', 'Battery', 'SOC']]\n",
    "\n",
    "#Set engine powers to zero\n",
    "num = df3['engMdoPower_0_']._get_numeric_data()\n",
    "num[num != 0] = 0\n",
    "\n",
    "num = df3['engMdoPower_1_']._get_numeric_data()\n",
    "num[num != 0] = 0\n",
    "\n",
    "num = df3['engMdoPower_2_']._get_numeric_data()\n",
    "num[num != 0] = 0\n",
    "\n",
    "num = df3['engMdoPower_3_']._get_numeric_data()\n",
    "num[num != 0] = 0\n",
    "\n",
    "\n",
    "display(df3)"
   ]
  },
  {
   "cell_type": "code",
   "execution_count": 24,
   "metadata": {},
   "outputs": [],
   "source": [
    "df2 = df3.copy()\n",
    "\n",
    "load = df2['Load'].values\n",
    "dg0 = df2['engMdoPower_0_'].values\n",
    "dg1 = df2['engMdoPower_1_'].values\n",
    "dg2 = df2['engMdoPower_2_'].values\n",
    "dg3 = df2['engMdoPower_3_'].values\n",
    "bat = df2['Battery'].values\n",
    "soc = [0]*120960\n",
    "soc[0] = 124 #124 empty (20%)\n",
    "opid = df2['operationId'].values\n",
    "\n",
    "for i in range(len(load)):\n",
    "    if i == 120959:\n",
    "        pass\n",
    "    elif opid[i] == 6 and soc[i] <= 496:\n",
    "        bat[i] = - 20\n",
    "        soc[i+1] = soc[i] - bat[i]/720\n",
    "    elif load[i] <= 2100 and load[i+1] <= 2100:\n",
    "        if load[i] > 1900:\n",
    "            if soc[i] > 124:\n",
    "                bat[i] = 2100 - load[i]\n",
    "                soc[i+1] = soc[i] - (bat[i]/720)\n",
    "                dg0[i] = load[i]-bat[i]\n",
    "            else:\n",
    "                dg0[i] = load[i]\n",
    "                soc[i+1] = soc[i]\n",
    "        else:\n",
    "            dg0[i] = load[i]\n",
    "            soc[i+1] = soc[i]\n",
    "    elif load[i] >= 2100 and load[i+1] < 2100:\n",
    "        dg0[i] = dg1[i] = load[i]/2\n",
    "        soc[i+1] = soc[i]\n",
    "    elif load[i] <= 2100 and load[i+1] > 2100:\n",
    "        dg0[i] = dg1[i] = load[i]/2\n",
    "        soc[i+1] = soc[i]\n",
    "    elif load[i] <= 4200:\n",
    "        if load[i] > 3800:\n",
    "            if soc[i] > 124:\n",
    "                bat[i] = 4200 - load[i]\n",
    "                soc[i+1] = soc[i] - (bat[i]/720)\n",
    "                dg0[i] = dg1[i] = (load[i]-bat[i])/2\n",
    "            else:\n",
    "                dg0[i] = dg1[i] = load[i]/2\n",
    "                soc[i+1] = soc[i]\n",
    "        else:\n",
    "            dg0[i] = dg1[i] = load[i]/2\n",
    "            soc[i+1] = soc[i]\n",
    "    else:\n",
    "        soc[i+1] = soc[i] \n",
    "        "
   ]
  },
  {
   "cell_type": "code",
   "execution_count": 25,
   "metadata": {},
   "outputs": [
    {
     "data": {
      "text/plain": [
       "[<matplotlib.lines.Line2D at 0x200137a7790>]"
      ]
     },
     "execution_count": 25,
     "metadata": {},
     "output_type": "execute_result"
    },
    {
     "data": {
      "image/png": "[encoded data removed]",
      "text/plain": [
       "<Figure size 432x288 with 1 Axes>"
      ]
     },
     "metadata": {
      "needs_background": "light"
     },
     "output_type": "display_data"
    }
   ],
   "source": [
    "plt.plot(soc)"
   ]
  },
  {
   "cell_type": "code",
   "execution_count": 27,
   "metadata": {},
   "outputs": [
    {
     "data": {
      "text/plain": [
       "[<matplotlib.lines.Line2D at 0x200112c00d0>]"
      ]
     },
     "execution_count": 27,
     "metadata": {},
     "output_type": "execute_result"
    },
    {
     "data": {
      "image/png": "[encoded data removed]",
      "text/plain": [
       "<Figure size 432x288 with 1 Axes>"
      ]
     },
     "metadata": {
      "needs_background": "light"
     },
     "output_type": "display_data"
    }
   ],
   "source": [
    "plt.plot(bat[20600:21000])\n",
    "#plt.plot(load[18500:19000])\n",
    "#plt.plot(dg0[18500:19000])"
   ]
  },
  {
   "cell_type": "code",
   "execution_count": 46,
   "metadata": {},
   "outputs": [],
   "source": [
    "df4 = df3.copy()\n",
    "\n",
    "load = df4['Load'].values\n",
    "dg0 = df4['engMdoPower_0_'].values\n",
    "dg1 = df4['engMdoPower_1_'].values\n",
    "dg2 = df4['engMdoPower_2_'].values\n",
    "dg3 = df4['engMdoPower_3_'].values\n",
    "bat = df4['Battery'].values\n",
    "soc = [0]*120960\n",
    "soc[0] = 124 #124 empty (20%)\n",
    "opid = df4['operationId'].values\n",
    "\n",
    "for i in range(len(load)):\n",
    "    if i == 120959:\n",
    "        pass\n",
    "    elif opid[i] == 6 and soc[i] <= 496:\n",
    "        bat[i] = - 100\n",
    "        soc[i+1] = soc[i] - bat[i]/720\n",
    "    elif load[i] <= 600 and load[i+1] <= 600:\n",
    "        if soc[i] > 124:\n",
    "            bat[i] = load[i]\n",
    "            soc[i+1] = soc[i] - (bat[i]/720)\n",
    "        else:\n",
    "            dg0[i] = load[i]\n",
    "            soc[i+1] = soc[i]\n",
    "    elif load[i] <= 2600 and load[i+1] <= 2600:\n",
    "        if load[i] > 2000:\n",
    "            if soc[i] > 124:\n",
    "                bat[i] = 2600 - load[i]\n",
    "                soc[i+1] = soc[i] - (bat[i]/720)\n",
    "                dg0[i] = load[i]-bat[i]\n",
    "            elif soc[i] <= 124:\n",
    "                dg0[i] = dg1[i] = load[i]/2\n",
    "                soc[i+1] = soc[i]\n",
    "        else:\n",
    "            dg0[i] = load[i]\n",
    "            soc[i+1] = soc[i]\n",
    "   # elif load[i] >= 2600 and load[i+1] < 2600:\n",
    "   #     dg0[i] = dg1[i] = load[i]/2\n",
    "   #     soc[i+1] = soc[i]\n",
    "   # elif load[i] <= 2600 and load[i+1] > 2600:\n",
    "   #     dg0[i] = dg1[i] = load[i]/2\n",
    "   #     soc[i+1] = soc[i]\n",
    "    elif load[i] <= 4200:\n",
    "        if load[i] > 3800:\n",
    "            if soc[i] > 124:\n",
    "                bat[i] = 4200 - load[i]\n",
    "                soc[i+1] = soc[i] - (bat[i]/720)\n",
    "                dg0[i] = dg1[i] = (load[i]-bat[i])/2\n",
    "            else:\n",
    "                dg0[i] = dg1[i] = load[i]/2\n",
    "                soc[i+1] = soc[i]\n",
    "        else:\n",
    "            dg0[i] = dg1[i] = load[i]/2\n",
    "            soc[i+1] = soc[i]\n",
    "    else:\n",
    "        soc[i+1] = soc[i] "
   ]
  },
  {
   "cell_type": "code",
   "execution_count": 47,
   "metadata": {},
   "outputs": [
    {
     "data": {
      "text/plain": [
       "[<matplotlib.lines.Line2D at 0x200133451c0>]"
      ]
     },
     "execution_count": 47,
     "metadata": {},
     "output_type": "execute_result"
    },
    {
     "data": {
      "image/png": "[encoded data removed]",
      "text/plain": [
       "<Figure size 432x288 with 1 Axes>"
      ]
     },
     "metadata": {
      "needs_background": "light"
     },
     "output_type": "display_data"
    }
   ],
   "source": [
    "plt.plot(soc)"
   ]
  },
  {
   "cell_type": "code",
   "execution_count": 48,
   "metadata": {},
   "outputs": [
    {
     "data": {
      "text/plain": [
       "[<matplotlib.lines.Line2D at 0x200134d17f0>]"
      ]
     },
     "execution_count": 48,
     "metadata": {},
     "output_type": "execute_result"
    },
    {
     "data": {
      "image/png": "[encoded data removed]",
      "text/plain": [
       "<Figure size 432x288 with 1 Axes>"
      ]
     },
     "metadata": {
      "needs_background": "light"
     },
     "output_type": "display_data"
    }
   ],
   "source": [
    "plt.plot(load)\n",
    "plt.plot(bat)\n",
    "plt.plot(dg0)\n",
    "#plt.plot(dg1)"
   ]
  },
  {
   "cell_type": "code",
   "execution_count": 49,
   "metadata": {},
   "outputs": [
    {
     "data": {
      "text/plain": [
       "-173475"
      ]
     },
     "execution_count": 49,
     "metadata": {},
     "output_type": "execute_result"
    }
   ],
   "source": [
    "sum(bat)"
   ]
  },
  {
   "cell_type": "code",
   "execution_count": 53,
   "metadata": {},
   "outputs": [
    {
     "data": {
      "text/plain": [
       "904425"
      ]
     },
     "execution_count": 53,
     "metadata": {},
     "output_type": "execute_result"
    }
   ],
   "source": [
    "sumbat = 0\n",
    "\n",
    "for a in range(len(bat)):\n",
    "    if bat[a] > 0:\n",
    "        sumbat += bat[a]\n",
    "\n",
    "sumbat"
   ]
  },
  {
   "cell_type": "markdown",
   "metadata": {},
   "source": [
    "# Shore charging, spinning reserve and peakshaving"
   ]
  },
  {
   "cell_type": "code",
   "execution_count": 186,
   "metadata": {},
   "outputs": [],
   "source": [
    "df5 = df3.copy()\n",
    "\n",
    "load = df5['Load'].values\n",
    "dg0 = df5['engMdoPower_0_'].values\n",
    "dg1 = df5['engMdoPower_1_'].values\n",
    "dg2 = df5['engMdoPower_2_'].values\n",
    "dg3 = df5['engMdoPower_3_'].values\n",
    "bat = df5['Battery'].values\n",
    "soc = [0]*120960\n",
    "soc[0] = 124 #124 empty (20%)\n",
    "opid = df5['operationId'].values\n",
    "shore = [0]*120960\n",
    "\n",
    "\n",
    "\n",
    "# DP mode, battery is used for spinning reserve \n",
    "for i in range(len(load)):\n",
    "    if i == 120959:\n",
    "        pass\n",
    "    elif opid[i] == 100:\n",
    "        if load[i] <= 2100 and load[i+1] <= 2100 and soc[i] >= 310:\n",
    "            dg0[i] = load[i]\n",
    "            soc[i+1] = soc[i]\n",
    "        elif load[i] <= 2100 and load[i+1] > 2100 and soc[i] >= 310:\n",
    "            dg0[i] = load[i]\n",
    "            soc[i+1] = soc[i]\n",
    "            \n",
    "        elif load[i] <= 2100 and load[i+1] <= 2100 and soc[i] < 310:\n",
    "            dg0[i] = dg1[i] = load[i]/2\n",
    "            soc[i+1] = soc[i]\n",
    "        elif load[i] <= 2100 and load[i+1] > 2100 and soc[i] < 310:\n",
    "            dg0[i] = dg1[i] = load[i]/2\n",
    "            soc[i+1] = soc[i]            \n",
    "            \n",
    "        elif load[i] > 2100 and load[i-1] < 2100 and soc[i] > 124: # if the load is over 2100 for less than 5 seconds battery covers\n",
    "            dg0[i] = 2100\n",
    "            bat[i] = load[i] - dg0[i]\n",
    "            soc[i+1] = soc[i] - bat[i]/720\n",
    "        elif load[i] > 2100 and load[i-1] < 2100 and soc[i] <= 124: # if the load is over 2100 for less than 5 seconds battery covers\n",
    "            dg0[i] = dg1[i] = load[i]\n",
    "            soc[i+1] = soc[i]\n",
    "        elif load[i] > 2100 and load[i-1] > 2100:\n",
    "            dg0[i] = dg1[i] = load[i]/2\n",
    "            soc[i+1] = soc[i]\n",
    "        else:\n",
    "            soc[i+1] = soc[i]\n",
    "\n",
    "#Transit mode\n",
    "    elif opid[i] == 3 or opid[i] == 5:\n",
    "#        if load[i] < 840 and soc[i] < 496:\n",
    "#            bat[i] = -100\n",
    "#            dg0[i] = load[i] - bat[i]\n",
    "#            soc[i+1] = soc[i] - bat[i]/720 \n",
    "        if load[i] <= 2100 and load[i+1] <= 2100:\n",
    "            dg0[i] = load[i]\n",
    "            soc[i+1] = soc[i]\n",
    "        elif load[i] <= 2100 and load[i+1] > 2100:\n",
    "            dg0[i] = load[i]\n",
    "            soc[i+1] = soc[i]\n",
    "        elif load[i] > 2100 and load[i-1] < 2100 and soc[i] > 124: # if the load is over 2100 for less than 5 seconds battery covers\n",
    "            dg0[i] = 2100\n",
    "            bat[i] = load[i] - dg0[i]\n",
    "            soc[i+1] = soc[i] - bat[i]/720\n",
    "        elif load[i] > 2100 and load[i-2] < 2100 and soc[i] > 124: # if the load is over 2100 for less than 10 seconds battery covers\n",
    "            dg0[i] = 2100\n",
    "            bat[i] = load[i] - dg0[i]\n",
    "            soc[i+1] = soc[i] - bat[i]/720            \n",
    "        elif load[i] > 2100 and load[i-1] < 2100 and soc[i] <= 124: # if the load is over 2100 for less than 5 seconds battery covers\n",
    "            dg0[i] = dg1[i] = load[i]/2\n",
    "            soc[i+1] = soc[i]\n",
    "        elif load[i] > 2100 and load[i-2] < 2100 and soc[i] <= 124: # if the load is over 2100 for less than 10 seconds battery covers\n",
    "            dg0[i] = dg1[i] = load[i]/2\n",
    "            soc[i+1] = soc[i]           \n",
    "        elif load[i] <= 4200 and load[i-1] > 2100:\n",
    "            dg0[i] = dg1[i] = load[i]/2\n",
    "            soc[i+1] = soc[i]\n",
    "        elif load[i] > 4200:\n",
    "            dg0[i] = dg1[i] = 2100\n",
    "            bat[i] = load[i] - dg0[i] - dg1[i]\n",
    "            soc[i+1] = soc[i] - bat[i]/720\n",
    "        else:\n",
    "            soc[i+1] = soc[i]\n",
    "        \n",
    "#Standby mode\n",
    "    elif opid[i] == 7:\n",
    "#        if load[i] < 840 and soc[i] < 496:\n",
    "#            bat[i] = -100\n",
    "#            dg0[i] = load[i] - bat[i]\n",
    "#            soc[i+1] = soc[i] - bat[i]/720\n",
    "#        elif load[i] < 840 and soc[i] >= 496:\n",
    "#            dg0[i] = load[i]\n",
    "#            soc[i+1] = soc[i]\n",
    "        if load[i] <= 2100 and load[i+1] <= 2100:\n",
    "            dg0[i] = load[i]\n",
    "            soc[i+1] = soc[i]\n",
    "        elif load[i] <= 2100 and load[i+1] > 2100:\n",
    "            dg0[i] = load[i]\n",
    "            soc[i+1] = soc[i]\n",
    "        elif load[i] > 2100 and load[i-1] < 2100 and soc[i] > 124: # if the load is over 2100 for less than 5 seconds battery covers\n",
    "            dg0[i] = 2100\n",
    "            bat[i] = load[i] - dg0[i]\n",
    "            soc[i+1] = soc[i] - bat[i]/720\n",
    "        elif load[i] > 2100 and load[i-2] < 2100 and soc[i] > 124: # if the load is over 2100 for less than 10 seconds battery covers\n",
    "            dg0[i] = 2100\n",
    "            bat[i] = load[i] - dg0[i]\n",
    "            soc[i+1] = soc[i] - bat[i]/720\n",
    "            \n",
    "        elif load[i] > 2100 and load[i-1] < 2100 and soc[i] <= 124: # if the load is over 2100 for less than 5 seconds battery covers\n",
    "            dg0[i] = dg1[i] = load[i]/2\n",
    "            soc[i+1] = soc[i]\n",
    "        elif load[i] > 2100 and load[i-2] < 2100 and soc[i] <= 124: # if the load is over 2100 for less than 10 seconds battery covers\n",
    "            dg0[i] = dg1[i] = load[i]/2\n",
    "            soc[i+1] = soc[i]          \n",
    "            \n",
    "        elif load[i] <= 4200 and load[i-1] > 2100:\n",
    "            dg0[i] = dg1[i] = load[i]/2\n",
    "            soc[i+1] = soc[i]\n",
    "        elif load[i] > 4200:\n",
    "            dg0[i] = dg1[i] = 2100\n",
    "            bat[i] = load[i] - dg0[i] - dg1[i]\n",
    "            soc[i+1] = soc[i] - bat[i]/720\n",
    "        else:\n",
    "            soc[i+1] = soc[i]\n",
    "            \n",
    "# port\n",
    "    elif opid[i] == 1 and soc[i] < 496:\n",
    "        dg0[i] = load[i]# - bat[i]*1.08\n",
    "        soc[i+1] = soc[i]# - bat[i]/720\n",
    "    elif opid[i] == 1 and soc[i] >= 496:\n",
    "        dg0[i] = load[i]\n",
    "        soc[i+1] = soc[i]    \n",
    "    elif opid[i] == 6 and soc[i] < 496:\n",
    "        bat[i] = -50\n",
    "        shore[i] = load[i] - bat[i]*1.08\n",
    "        soc[i+1] = soc[i] - bat[i]/720\n",
    "    elif opid[i] == 6 and soc[i] >= 496:\n",
    "        shore[i] = load[i]\n",
    "        soc[i+1] = soc[i] \n",
    "    else:\n",
    "        soc[i+1] = soc[i]\n",
    "        dg0[i] = load[i]\n"
   ]
  },
  {
   "cell_type": "code",
   "execution_count": 190,
   "metadata": {},
   "outputs": [
    {
     "data": {
      "text/plain": [
       "[<matplotlib.lines.Line2D at 0x15d27a40520>]"
      ]
     },
     "execution_count": 190,
     "metadata": {},
     "output_type": "execute_result"
    },
    {
     "data": {
      "image/png": "[encoded data removed]",
      "text/plain": [
       "<Figure size 432x288 with 1 Axes>"
      ]
     },
     "metadata": {
      "needs_background": "light"
     },
     "output_type": "display_data"
    }
   ],
   "source": [
    "bal = dg0 + dg1 + dg2 + dg3 + bat + shore - load\n",
    "plt.plot(bal)"
   ]
  },
  {
   "cell_type": "code",
   "execution_count": 191,
   "metadata": {},
   "outputs": [],
   "source": [
    "# Normalize Generators\n",
    "dg0n = (dg0-dg0.min()) / (2100 - dg0.min())\n",
    "dg1n = (dg1-dg1.min()) / (2100 - dg1.min())\n",
    "dg2n = (dg2-dg2.min()) / (2100 - dg2.min())\n",
    "dg3n = (dg3-dg3.min()) / (2100 - dg3.min())\n"
   ]
  },
  {
   "cell_type": "code",
   "execution_count": 192,
   "metadata": {},
   "outputs": [],
   "source": [
    "fc_dg0 = np.zeros(120960)\n",
    "fc_dg1 = np.zeros(120960)\n",
    "fc_dg2 = np.zeros(120960)\n",
    "fc_dg3 = np.zeros(120960)\n",
    "\n",
    "for i in range(len(dg0)):\n",
    "    if dg0[i] == 0:\n",
    "        fc_dg0[i] = 0\n",
    "    else:\n",
    "        fc_dg0[i] = (445*dg0n[i] + 47)/720\n",
    "        \n",
    "for i in range(len(dg1)):\n",
    "    if dg1[i] == 0:\n",
    "        fc_dg1[i] = 0\n",
    "    else:\n",
    "        fc_dg1[i] = (445*dg1n[i] + 47)/720\n",
    "        \n",
    "for i in range(len(dg2)):\n",
    "    if dg2[i] == 0:\n",
    "        fc_dg2[i] = 0\n",
    "    else:\n",
    "        fc_dg2[i] = (445*dg2n[i] + 47)/720\n",
    "        \n",
    "for i in range(len(dg3)):\n",
    "    if dg3[i] == 0:\n",
    "        fc_dg3[i] = 0\n",
    "    else:\n",
    "        fc_dg3[i] = (445*dg3n[i] + 47)/720"
   ]
  },
  {
   "cell_type": "code",
   "execution_count": 193,
   "metadata": {},
   "outputs": [
    {
     "name": "stdout",
     "output_type": "stream",
     "text": [
      "Total fuel consumption of CASE 1 batteri 20% batteri start er:  39879.84935877495 liter\n"
     ]
    }
   ],
   "source": [
    "fc = sum(fc_dg0) + sum(fc_dg1) + sum(fc_dg2) + sum(fc_dg3)\n",
    "print('Total fuel consumption of CASE 1 batteri 20% batteri start er: ', fc, 'liter')"
   ]
  },
  {
   "cell_type": "markdown",
   "metadata": {},
   "source": [
    "# bruk batteri 1000kW med en gang og lad i port"
   ]
  },
  {
   "cell_type": "code",
   "execution_count": 199,
   "metadata": {},
   "outputs": [],
   "source": [
    "df6 = df3.copy()\n",
    "\n",
    "load = df6['Load'].values\n",
    "dg0 = df6['engMdoPower_0_'].values\n",
    "dg1 = df6['engMdoPower_1_'].values\n",
    "dg2 = df6['engMdoPower_2_'].values\n",
    "dg3 = df6['engMdoPower_3_'].values\n",
    "bat = df6['Battery'].values\n",
    "soc = [0]*120960\n",
    "soc[0] = 124 #124 empty (20%)\n",
    "opid = df6['operationId'].values\n",
    "shore = [0]*120960\n",
    "\n",
    "# DP mode, battery is used for spinning reserve \n",
    "for i in range(len(load)):\n",
    "    if i == 120959:\n",
    "        pass\n",
    "    \n",
    "    # DP-mode\n",
    "    elif opid[i] == 100:\n",
    "        if load[i] <= 2100 and load[i+1] <= 2100 and soc[i] >= 310:\n",
    "            dg0[i] = load[i]\n",
    "            soc[i+1] = soc[i]\n",
    "        elif load[i] <= 2100 and load[i+1] > 2100 and soc[i] >= 310:\n",
    "            dg0[i] = load[i]\n",
    "            soc[i+1] = soc[i]\n",
    "            \n",
    "        elif load[i] <= 2100 and load[i+1] <= 2100 and soc[i] < 310:\n",
    "            dg0[i] = dg1[i] = load[i]/2\n",
    "            soc[i+1] = soc[i]\n",
    "        elif load[i] <= 2100 and load[i+1] > 2100 and soc[i] < 310:\n",
    "            dg0[i] = dg1[i] = load[i]/2\n",
    "            soc[i+1] = soc[i]            \n",
    "            \n",
    "        elif load[i] > 2100 and load[i-1] < 2100 and soc[i] > 124: # if the load is over 2100 for less than 5 seconds battery covers\n",
    "            dg0[i] = 2100\n",
    "            bat[i] = load[i] - dg0[i]\n",
    "            soc[i+1] = soc[i] - bat[i]/720\n",
    "        elif load[i] > 2100 and load[i-1] < 2100 and soc[i] <= 124: # if the load is over 2100 for less than 5 seconds battery covers\n",
    "            dg0[i] = dg1[i] = load[i]/2\n",
    "            soc[i+1] = soc[i]\n",
    "        elif load[i] > 2100 and load[i-1] > 2100:\n",
    "            dg0[i] = dg1[i] = load[i]/2\n",
    "            soc[i+1] = soc[i]\n",
    "        else:\n",
    "            soc[i+1] = soc[i]\n",
    "        \n",
    "#Transit mode\n",
    "    elif opid[i] == 3 or opid[i] == 5:\n",
    "        if soc[i] > 124 and load[i] <= 1000:\n",
    "            bat[i] = load[i]\n",
    "            soc[i+1] = soc[i] - bat[i]/720\n",
    "        elif soc[i] > 124 and load[i] > 1000 and load[i] <= 3100:\n",
    "            bat[i] = 1000\n",
    "            dg0[i] = load[i] - bat[i]\n",
    "            soc[i+1] = soc[i] - bat[i]/720\n",
    "        elif soc[i] > 124 and load[i] > 3100:\n",
    "            bat[i] = 1000\n",
    "            dg0[i] = dg1[i] = (load[i]-bat[i])/2\n",
    "        elif soc[i] <= 124 and load[i] <= 2100:\n",
    "            dg0[i] = load[i]\n",
    "            soc[i+1] = soc[i]\n",
    "        elif soc[i] <= 124 and load[i] > 2100:\n",
    "            dg0[i] = dg1[i] = load[i]/2\n",
    "            soc[i+1] = soc[i]\n",
    "        else:\n",
    "            soc[i+1] = soc[i]\n",
    "        \n",
    "# Standby mode\n",
    "    elif opid[i] == 7:\n",
    "        if soc[i] > 124 and load[i] <= 1000:\n",
    "            bat[i] = load[i]\n",
    "            soc[i+1] = soc[i] - bat[i]/720\n",
    "        elif soc[i] > 124 and load[i] > 1000 and load[i] <= 3100:\n",
    "            bat[i] = 1000\n",
    "            dg0[i] = load[i] - bat[i]\n",
    "            soc[i+1] = soc[i] - bat[i]/720\n",
    "        elif soc[i] > 124 and load[i] > 3100:\n",
    "            bat[i] = 1000\n",
    "            dg0[i] = dg1[i] = (load[i]-bat[i])/2\n",
    "        elif soc[i] <= 124 and load[i] <= 2100:\n",
    "            dg0[i] = load[i]\n",
    "            soc[i+1] = soc[i]\n",
    "        elif soc[i] <= 124 and load[i] > 2100:\n",
    "            dg0[i] = dg1[i] = load[i]/2\n",
    "            soc[i+1] = soc[i]\n",
    "        else:\n",
    "            soc[i+1] = soc[i]\n",
    "            \n",
    "#Port\n",
    "    elif opid[i] == 1:\n",
    "        if soc[i] > 124 and load[i] <= 1000:\n",
    "            bat[i] = load[i]\n",
    "            soc[i+1] = soc[i] - bat[i]/720\n",
    "        elif soc[i] > 124 and load[i] > 1000 and load[i] <= 3100:\n",
    "            bat[i] = 1000\n",
    "            dg0[i] = load[i] - bat[i]\n",
    "            soc[i+1] = soc[i] - bat[i]/720\n",
    "        elif soc[i] > 124 and load[i] > 3100:\n",
    "            bat[i] = 1000\n",
    "            dg0[i] = dg1[i] = (load[i]-bat[i])/2\n",
    "        elif soc[i] <= 124 and load[i] <= 2100:\n",
    "            dg0[i] = load[i]\n",
    "            soc[i+1] = soc[i]\n",
    "        elif soc[i] <= 124 and load[i] > 2100:\n",
    "            dg0[i] = dg1[i] = load[i]/2\n",
    "            soc[i+1] = soc[i]\n",
    "        else:\n",
    "            soc[i+1] = soc[i]\n",
    "    elif opid[i] == 6:\n",
    "        if soc[i] < 496:\n",
    "            bat[i] = -100\n",
    "            soc[i+1] = soc[i] - bat[i]/720\n",
    "            shore[i] = load[i] - bat[i]\n",
    "        elif soc[i] >= 496:\n",
    "            shore[i] = load[i]\n",
    "            soc[i+1] = soc[i]\n",
    "        else:\n",
    "            soc[i+1] = soc[i]\n",
    "    else:\n",
    "        soc[i+1] = soc[i]\n",
    "        dg0[i] = load[i]"
   ]
  },
  {
   "cell_type": "code",
   "execution_count": 200,
   "metadata": {},
   "outputs": [],
   "source": [
    "# Normalize Generators\n",
    "dg0n = (dg0-dg0.min()) / (2100 - dg0.min())\n",
    "dg1n = (dg1-dg1.min()) / (2100 - dg1.min())\n",
    "dg2n = (dg2-dg2.min()) / (2100 - dg2.min())\n",
    "dg3n = (dg3-dg3.min()) / (2100 - dg3.min())"
   ]
  },
  {
   "cell_type": "code",
   "execution_count": 201,
   "metadata": {},
   "outputs": [],
   "source": [
    "fc_dg0 = np.zeros(120960)\n",
    "fc_dg1 = np.zeros(120960)\n",
    "fc_dg2 = np.zeros(120960)\n",
    "fc_dg3 = np.zeros(120960)\n",
    "\n",
    "for i in range(len(dg0)):\n",
    "    if dg0[i] == 0:\n",
    "        fc_dg0[i] = 0\n",
    "    else:\n",
    "        fc_dg0[i] = (445*dg0n[i] + 47)/720\n",
    "        \n",
    "for i in range(len(dg1)):\n",
    "    if dg1[i] == 0:\n",
    "        fc_dg1[i] = 0\n",
    "    else:\n",
    "        fc_dg1[i] = (445*dg1n[i] + 47)/720\n",
    "        \n",
    "for i in range(len(dg2)):\n",
    "    if dg2[i] == 0:\n",
    "        fc_dg2[i] = 0\n",
    "    else:\n",
    "        fc_dg2[i] = (445*dg2n[i] + 47)/720\n",
    "        \n",
    "for i in range(len(dg3)):\n",
    "    if dg3[i] == 0:\n",
    "        fc_dg3[i] = 0\n",
    "    else:\n",
    "        fc_dg3[i] = (445*dg3n[i] + 47)/720"
   ]
  },
  {
   "cell_type": "code",
   "execution_count": 202,
   "metadata": {},
   "outputs": [
    {
     "name": "stdout",
     "output_type": "stream",
     "text": [
      "Total fuel consumption of CASE 1 batteri 20% batteri start og gønn battery er:  41311.26711080368 liter\n"
     ]
    }
   ],
   "source": [
    "fc = sum(fc_dg0) + sum(fc_dg1) + sum(fc_dg2) + sum(fc_dg3)\n",
    "print('Total fuel consumption of CASE 1 batteri 20% batteri start og gønn battery er: ', fc, 'liter')"
   ]
  },
  {
   "cell_type": "code",
   "execution_count": 203,
   "metadata": {},
   "outputs": [
    {
     "data": {
      "text/plain": [
       "[<matplotlib.lines.Line2D at 0x15d29f3e730>]"
      ]
     },
     "execution_count": 203,
     "metadata": {},
     "output_type": "execute_result"
    },
    {
     "data": {
      "image/png": "[encoded data removed]",
      "text/plain": [
       "<Figure size 432x288 with 1 Axes>"
      ]
     },
     "metadata": {
      "needs_background": "light"
     },
     "output_type": "display_data"
    }
   ],
   "source": [
    "plt.plot(soc)#[9200:11600])\n",
    "plt.plot(bat)#[9200:11600])"
   ]
  },
  {
   "cell_type": "code",
   "execution_count": 204,
   "metadata": {},
   "outputs": [
    {
     "data": {
      "text/plain": [
       "[<matplotlib.lines.Line2D at 0x15d2a710e80>]"
      ]
     },
     "execution_count": 204,
     "metadata": {},
     "output_type": "execute_result"
    },
    {
     "data": {
      "image/png": "[encoded data removed]",
      "text/plain": [
       "<Figure size 432x288 with 1 Axes>"
      ]
     },
     "metadata": {
      "needs_background": "light"
     },
     "output_type": "display_data"
    }
   ],
   "source": [
    "plt.plot(dg0)\n",
    "plt.plot(dg1)"
   ]
  },
  {
   "cell_type": "code",
   "execution_count": 205,
   "metadata": {},
   "outputs": [
    {
     "data": {
      "text/plain": [
       "[<matplotlib.lines.Line2D at 0x15d2a7325b0>]"
      ]
     },
     "execution_count": 205,
     "metadata": {},
     "output_type": "execute_result"
    },
    {
     "data": {
      "image/png": "[encoded data removed]",
      "text/plain": [
       "<Figure size 432x288 with 1 Axes>"
      ]
     },
     "metadata": {
      "needs_background": "light"
     },
     "output_type": "display_data"
    }
   ],
   "source": [
    "bal = dg0 + dg1 + bat + shore - load\n",
    "#plt.plot(shore[15000:20000])\n",
    "#plt.plot(bal[15400:15500])\n",
    "plt.plot(load[15410:15460], color = 'r')\n",
    "plt.plot(bal[15410:15460], color = 'b')\n",
    "plt.plot(dg0[15410:15460], color = 'y')"
   ]
  },
  {
   "cell_type": "code",
   "execution_count": 208,
   "metadata": {},
   "outputs": [
    {
     "data": {
      "text/plain": [
       "[<matplotlib.lines.Line2D at 0x15d2d284d60>]"
      ]
     },
     "execution_count": 208,
     "metadata": {},
     "output_type": "execute_result"
    },
    {
     "data": {
      "image/png": "[encoded data removed]",
      "text/plain": [
       "<Figure size 432x288 with 1 Axes>"
      ]
     },
     "metadata": {
      "needs_background": "light"
     },
     "output_type": "display_data"
    }
   ],
   "source": [
    "plt.plot(opid[59000:60000])\n",
    "plt.plot(dg0[59000:60000])\n",
    "plt.plot(dg1[59000:60000])\n",
    "plt.plot(soc[59000:60000])"
   ]
  },
  {
   "cell_type": "markdown",
   "metadata": {},
   "source": [
    "# Batteri kjører 100 kW stadig vekk"
   ]
  },
  {
   "cell_type": "code",
   "execution_count": 246,
   "metadata": {},
   "outputs": [],
   "source": [
    "df7 = df3.copy()\n",
    "\n",
    "load = df7['Load'].values\n",
    "dg0 = df7['engMdoPower_0_'].values\n",
    "dg1 = df7['engMdoPower_1_'].values\n",
    "dg2 = df7['engMdoPower_2_'].values\n",
    "dg3 = df7['engMdoPower_3_'].values\n",
    "bat = df7['Battery'].values\n",
    "soc = [0]*120960\n",
    "soc[0] = 124 #124 empty (20%)\n",
    "opid = df7['operationId'].values\n",
    "shore = [0]*120960\n",
    "\n",
    "# DP mode, battery is used for spinning reserve \n",
    "for i in range(len(load)):\n",
    "    if i == 120959:\n",
    "        pass\n",
    "    \n",
    "    # DP-mode\n",
    "    elif opid[i] == 100:\n",
    "        if load[i] <= 2100 and load[i+1] <= 2100 and soc[i] >= 310:\n",
    "            dg0[i] = load[i]\n",
    "            soc[i+1] = soc[i]\n",
    "        elif load[i] <= 2100 and load[i+1] > 2100 and soc[i] >= 310:\n",
    "            dg0[i] = load[i]\n",
    "            soc[i+1] = soc[i]\n",
    "            \n",
    "        elif load[i] <= 2100 and load[i+1] <= 2100 and soc[i] < 310:\n",
    "            dg0[i] = dg1[i] = load[i]/2\n",
    "            soc[i+1] = soc[i]\n",
    "        elif load[i] <= 2100 and load[i+1] > 2100 and soc[i] < 310:\n",
    "            dg0[i] = dg1[i] = load[i]/2\n",
    "            soc[i+1] = soc[i]            \n",
    "            \n",
    "        elif load[i] > 2100 and load[i-1] < 2100 and soc[i] > 124: # if the load is over 2100 for less than 5 seconds battery covers\n",
    "            dg0[i] = 2100\n",
    "            bat[i] = load[i] - dg0[i]\n",
    "            soc[i+1] = soc[i] - bat[i]/720\n",
    "        elif load[i] > 2100 and load[i-1] < 2100 and soc[i] <= 124: # if the load is over 2100 for less than 5 seconds battery covers\n",
    "            dg0[i] = dg1[i] = load[i]/2\n",
    "            soc[i+1] = soc[i]\n",
    "        elif load[i] > 2100 and load[i-1] > 2100:\n",
    "            dg0[i] = dg1[i] = load[i]/2\n",
    "            soc[i+1] = soc[i]\n",
    "        else:\n",
    "            soc[i+1] = soc[i]\n",
    "        \n",
    "#Transit mode\n",
    "    elif opid[i] == 3 or opid[i] == 5:\n",
    "        if soc[i] > 124 and load[i] <= 2200:\n",
    "            bat[i] = 100\n",
    "            dg0[i] = load[i] - bat[i]\n",
    "            soc[i+1] = soc[i] - bat[i]/720\n",
    "        elif soc[i] > 124 and load[i] > 2200 and load[i] < 4300:\n",
    "            bat[i] = 100\n",
    "            dg0[i] = dg1[i] = (load[i]-bat[i])/2\n",
    "            soc[i+1] = soc[i]\n",
    "        elif soc[i] <= 124 and load[i] <= 2100:\n",
    "            dg0[i] = load[i]\n",
    "            soc[i+1] = soc[i]\n",
    "        elif soc[i] <= 124 and load[i] > 2100:\n",
    "            dg0[i] = dg1[i] = load[i]/2\n",
    "            soc[i+1] = soc[i]\n",
    "        else:\n",
    "            soc[i+1] = soc[i]\n",
    "        \n",
    "# Standby mode\n",
    "    elif opid[i] == 7:\n",
    "        if soc[i] > 124 and load[i] <= 2200:\n",
    "            bat[i] = 100\n",
    "            dg0[i] = load[i] - bat[i]\n",
    "            soc[i+1] = soc[i] - bat[i]/720\n",
    "        elif soc[i] > 124 and load[i] > 2200 and load[i] < 4300:\n",
    "            bat[i] = 100\n",
    "            dg0[i] = dg1[i] = (load[i]-bat[i])/2\n",
    "            soc[i+1] = soc[i]\n",
    "        elif soc[i] <= 124 and load[i] <= 2100:\n",
    "            dg0[i] = load[i]\n",
    "            soc[i+1] = soc[i]\n",
    "        elif soc[i] <= 124 and load[i] > 2100:\n",
    "            dg0[i] = dg1[i] = load[i]/2\n",
    "            soc[i+1] = soc[i]\n",
    "        else:\n",
    "            soc[i+1] = soc[i]\n",
    "#Port\n",
    "    elif opid[i] == 1:\n",
    "        if soc[i] > 124 and load[i] <= 2200:\n",
    "            bat[i] = 100\n",
    "            dg0[i] = load[i] - bat[i]\n",
    "            soc[i+1] = soc[i] - bat[i]/720\n",
    "        elif soc[i] > 124 and load[i] > 2200 and load[i] < 4300:\n",
    "            bat[i] = 100\n",
    "            dg0[i] = dg1[i] = (load[i]-bat[i])/2\n",
    "            soc[i+1] = soc[i]\n",
    "        elif soc[i] <= 124 and load[i] <= 2100:\n",
    "            dg0[i] = load[i]\n",
    "            soc[i+1] = soc[i]\n",
    "        elif soc[i] <= 124 and load[i] > 2100:\n",
    "            dg0[i] = dg1[i] = load[i]/2\n",
    "            soc[i+1] = soc[i]\n",
    "        else:\n",
    "            soc[i+1] = soc[i]\n",
    "    elif opid[i] == 6:\n",
    "        if soc[i] < 496:\n",
    "            bat[i] = -100\n",
    "            soc[i+1] = soc[i] - bat[i]/720\n",
    "            shore[i] = load[i] - bat[i]\n",
    "        elif soc[i] >= 496:\n",
    "            shore[i] = load[i]\n",
    "            soc[i+1] = soc[i]\n",
    "        else:\n",
    "            soc[i+1] = soc[i]\n",
    "    else:\n",
    "        soc[i+1] = soc[i]\n",
    "        dg0[i] = load[i]"
   ]
  },
  {
   "cell_type": "code",
   "execution_count": 242,
   "metadata": {},
   "outputs": [],
   "source": []
  },
  {
   "cell_type": "code",
   "execution_count": 245,
   "metadata": {},
   "outputs": [
    {
     "data": {
      "image/png": "[encoded data removed]",
      "text/plain": [
       "<Figure size 432x288 with 1 Axes>"
      ]
     },
     "metadata": {
      "needs_background": "light"
     },
     "output_type": "display_data"
    }
   ],
   "source": [
    "#plt.plot(soc[97470:97485])\n",
    "#plt.plot(opid[97470:97485])\n",
    "#plt.plot(bat[97470:97485])\n",
    "plt.plot(load[97470:97485])\n",
    "plt.grid()"
   ]
  },
  {
   "cell_type": "code",
   "execution_count": 255,
   "metadata": {},
   "outputs": [
    {
     "data": {
      "text/plain": [
       "[<matplotlib.lines.Line2D at 0x15d2a227c10>]"
      ]
     },
     "execution_count": 255,
     "metadata": {},
     "output_type": "execute_result"
    },
    {
     "data": {
      "image/png": "[encoded data removed]",
      "text/plain": [
       "<Figure size 432x288 with 1 Axes>"
      ]
     },
     "metadata": {
      "needs_background": "light"
     },
     "output_type": "display_data"
    }
   ],
   "source": [
    "plt.plot(soc[10200:12900])"
   ]
  },
  {
   "cell_type": "code",
   "execution_count": 248,
   "metadata": {},
   "outputs": [],
   "source": [
    "# Normalize Generators\n",
    "dg0n = (dg0-dg0.min()) / (2100 - dg0.min())\n",
    "dg1n = (dg1-dg1.min()) / (2100 - dg1.min())\n",
    "dg2n = (dg2-dg2.min()) / (2100 - dg2.min())\n",
    "dg3n = (dg3-dg3.min()) / (2100 - dg3.min())"
   ]
  },
  {
   "cell_type": "code",
   "execution_count": 249,
   "metadata": {},
   "outputs": [],
   "source": [
    "fc_dg0 = np.zeros(120960)\n",
    "fc_dg1 = np.zeros(120960)\n",
    "fc_dg2 = np.zeros(120960)\n",
    "fc_dg3 = np.zeros(120960)\n",
    "\n",
    "for i in range(len(dg0)):\n",
    "    if dg0[i] == 0:\n",
    "        fc_dg0[i] = 0\n",
    "    else:\n",
    "        fc_dg0[i] = (445*dg0n[i] + 47)/720\n",
    "        \n",
    "for i in range(len(dg1)):\n",
    "    if dg1[i] == 0:\n",
    "        fc_dg1[i] = 0\n",
    "    else:\n",
    "        fc_dg1[i] = (445*dg1n[i] + 47)/720\n",
    "        \n",
    "for i in range(len(dg2)):\n",
    "    if dg2[i] == 0:\n",
    "        fc_dg2[i] = 0\n",
    "    else:\n",
    "        fc_dg2[i] = (445*dg2n[i] + 47)/720\n",
    "        \n",
    "for i in range(len(dg3)):\n",
    "    if dg3[i] == 0:\n",
    "        fc_dg3[i] = 0\n",
    "    else:\n",
    "        fc_dg3[i] = (445*dg3n[i] + 47)/720"
   ]
  },
  {
   "cell_type": "code",
   "execution_count": 250,
   "metadata": {},
   "outputs": [
    {
     "name": "stdout",
     "output_type": "stream",
     "text": [
      "Total fuel consumption of CASE 1 batteri 20% batteri start og gønn battery 100 er:  41439.11756017082 liter\n"
     ]
    }
   ],
   "source": [
    "fc = sum(fc_dg0) + sum(fc_dg1) + sum(fc_dg2) + sum(fc_dg3)\n",
    "print('Total fuel consumption of CASE 1 batteri 20% batteri start og gønn battery 100 er: ', fc, 'liter')"
   ]
  },
  {
   "cell_type": "code",
   "execution_count": null,
   "metadata": {},
   "outputs": [],
   "source": []
  }
 ],
 "metadata": {
  "kernelspec": {
   "display_name": "Python 3",
   "language": "python",
   "name": "python3"
  },
  "language_info": {
   "codemirror_mode": {
    "name": "ipython",
    "version": 3
   },
   "file_extension": ".py",
   "mimetype": "text/x-python",
   "name": "python",
   "nbconvert_exporter": "python",
   "pygments_lexer": "ipython3",
   "version": "3.8.5"
  }
 },
 "nbformat": 4,
 "nbformat_minor": 4
}
