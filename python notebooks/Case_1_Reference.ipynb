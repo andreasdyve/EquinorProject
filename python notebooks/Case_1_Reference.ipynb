{
 "cells": [
  {
   "cell_type": "code",
   "execution_count": 1,
   "metadata": {},
   "outputs": [],
   "source": [
    "import pandas as pd\n",
    "import numpy as np\n",
    "import matplotlib.pyplot as plt"
   ]
  },
  {
   "cell_type": "code",
   "execution_count": 2,
   "metadata": {},
   "outputs": [],
   "source": [
    "df = pd.read_excel('data_full_5sekres.xlsx')"
   ]
  },
  {
   "cell_type": "code",
   "execution_count": 3,
   "metadata": {},
   "outputs": [],
   "source": [
    "df1 = df.copy()"
   ]
  },
  {
   "cell_type": "code",
   "execution_count": 4,
   "metadata": {},
   "outputs": [
    {
     "data": {
      "text/html": [
       "<div>\n",
       "<style scoped>\n",
       "    .dataframe tbody tr th:only-of-type {\n",
       "        vertical-align: middle;\n",
       "    }\n",
       "\n",
       "    .dataframe tbody tr th {\n",
       "        vertical-align: top;\n",
       "    }\n",
       "\n",
       "    .dataframe thead th {\n",
       "        text-align: right;\n",
       "    }\n",
       "</style>\n",
       "<table border=\"1\" class=\"dataframe\">\n",
       "  <thead>\n",
       "    <tr style=\"text-align: right;\">\n",
       "      <th></th>\n",
       "      <th>datetime</th>\n",
       "      <th>Load</th>\n",
       "      <th>engMdoPower_0_</th>\n",
       "      <th>engMdoPower_1_</th>\n",
       "      <th>engMdoPower_2_</th>\n",
       "      <th>engMdoPower_3_</th>\n",
       "      <th>operationId</th>\n",
       "      <th>BaseLoad</th>\n",
       "      <th>Battery</th>\n",
       "      <th>SOC</th>\n",
       "    </tr>\n",
       "  </thead>\n",
       "  <tbody>\n",
       "    <tr>\n",
       "      <th>0</th>\n",
       "      <td>2020-01-30 00:00:00</td>\n",
       "      <td>0.0</td>\n",
       "      <td>0.0</td>\n",
       "      <td>0.0</td>\n",
       "      <td>0</td>\n",
       "      <td>0.0</td>\n",
       "      <td>6.0</td>\n",
       "      <td>0</td>\n",
       "      <td>0</td>\n",
       "      <td>0</td>\n",
       "    </tr>\n",
       "    <tr>\n",
       "      <th>1</th>\n",
       "      <td>2020-01-30 00:00:05</td>\n",
       "      <td>0.0</td>\n",
       "      <td>0.0</td>\n",
       "      <td>0.0</td>\n",
       "      <td>0</td>\n",
       "      <td>0.0</td>\n",
       "      <td>6.0</td>\n",
       "      <td>0</td>\n",
       "      <td>0</td>\n",
       "      <td>0</td>\n",
       "    </tr>\n",
       "    <tr>\n",
       "      <th>2</th>\n",
       "      <td>2020-01-30 00:00:10</td>\n",
       "      <td>0.0</td>\n",
       "      <td>0.0</td>\n",
       "      <td>0.0</td>\n",
       "      <td>0</td>\n",
       "      <td>0.0</td>\n",
       "      <td>6.0</td>\n",
       "      <td>0</td>\n",
       "      <td>0</td>\n",
       "      <td>0</td>\n",
       "    </tr>\n",
       "    <tr>\n",
       "      <th>3</th>\n",
       "      <td>2020-01-30 00:00:15</td>\n",
       "      <td>0.0</td>\n",
       "      <td>0.0</td>\n",
       "      <td>0.0</td>\n",
       "      <td>0</td>\n",
       "      <td>0.0</td>\n",
       "      <td>6.0</td>\n",
       "      <td>0</td>\n",
       "      <td>0</td>\n",
       "      <td>0</td>\n",
       "    </tr>\n",
       "    <tr>\n",
       "      <th>4</th>\n",
       "      <td>2020-01-30 00:00:20</td>\n",
       "      <td>0.0</td>\n",
       "      <td>0.0</td>\n",
       "      <td>0.0</td>\n",
       "      <td>0</td>\n",
       "      <td>0.0</td>\n",
       "      <td>6.0</td>\n",
       "      <td>0</td>\n",
       "      <td>0</td>\n",
       "      <td>0</td>\n",
       "    </tr>\n",
       "    <tr>\n",
       "      <th>...</th>\n",
       "      <td>...</td>\n",
       "      <td>...</td>\n",
       "      <td>...</td>\n",
       "      <td>...</td>\n",
       "      <td>...</td>\n",
       "      <td>...</td>\n",
       "      <td>...</td>\n",
       "      <td>...</td>\n",
       "      <td>...</td>\n",
       "      <td>...</td>\n",
       "    </tr>\n",
       "    <tr>\n",
       "      <th>120955</th>\n",
       "      <td>2020-02-05 23:59:35</td>\n",
       "      <td>1796.0</td>\n",
       "      <td>0.0</td>\n",
       "      <td>0.0</td>\n",
       "      <td>0</td>\n",
       "      <td>0.0</td>\n",
       "      <td>3.0</td>\n",
       "      <td>300</td>\n",
       "      <td>0</td>\n",
       "      <td>0</td>\n",
       "    </tr>\n",
       "    <tr>\n",
       "      <th>120956</th>\n",
       "      <td>2020-02-05 23:59:40</td>\n",
       "      <td>1743.2</td>\n",
       "      <td>0.0</td>\n",
       "      <td>0.0</td>\n",
       "      <td>0</td>\n",
       "      <td>0.0</td>\n",
       "      <td>3.0</td>\n",
       "      <td>300</td>\n",
       "      <td>0</td>\n",
       "      <td>0</td>\n",
       "    </tr>\n",
       "    <tr>\n",
       "      <th>120957</th>\n",
       "      <td>2020-02-05 23:59:45</td>\n",
       "      <td>1725.6</td>\n",
       "      <td>0.0</td>\n",
       "      <td>0.0</td>\n",
       "      <td>0</td>\n",
       "      <td>0.0</td>\n",
       "      <td>3.0</td>\n",
       "      <td>300</td>\n",
       "      <td>0</td>\n",
       "      <td>0</td>\n",
       "    </tr>\n",
       "    <tr>\n",
       "      <th>120958</th>\n",
       "      <td>2020-02-05 23:59:50</td>\n",
       "      <td>1760.8</td>\n",
       "      <td>0.0</td>\n",
       "      <td>0.0</td>\n",
       "      <td>0</td>\n",
       "      <td>0.0</td>\n",
       "      <td>3.0</td>\n",
       "      <td>300</td>\n",
       "      <td>0</td>\n",
       "      <td>0</td>\n",
       "    </tr>\n",
       "    <tr>\n",
       "      <th>120959</th>\n",
       "      <td>2020-02-05 23:59:55</td>\n",
       "      <td>1708.0</td>\n",
       "      <td>0.0</td>\n",
       "      <td>0.0</td>\n",
       "      <td>0</td>\n",
       "      <td>0.0</td>\n",
       "      <td>3.0</td>\n",
       "      <td>300</td>\n",
       "      <td>0</td>\n",
       "      <td>0</td>\n",
       "    </tr>\n",
       "  </tbody>\n",
       "</table>\n",
       "<p>120960 rows × 10 columns</p>\n",
       "</div>"
      ],
      "text/plain": [
       "                  datetime    Load  engMdoPower_0_  engMdoPower_1_  \\\n",
       "0      2020-01-30 00:00:00     0.0             0.0             0.0   \n",
       "1      2020-01-30 00:00:05     0.0             0.0             0.0   \n",
       "2      2020-01-30 00:00:10     0.0             0.0             0.0   \n",
       "3      2020-01-30 00:00:15     0.0             0.0             0.0   \n",
       "4      2020-01-30 00:00:20     0.0             0.0             0.0   \n",
       "...                    ...     ...             ...             ...   \n",
       "120955 2020-02-05 23:59:35  1796.0             0.0             0.0   \n",
       "120956 2020-02-05 23:59:40  1743.2             0.0             0.0   \n",
       "120957 2020-02-05 23:59:45  1725.6             0.0             0.0   \n",
       "120958 2020-02-05 23:59:50  1760.8             0.0             0.0   \n",
       "120959 2020-02-05 23:59:55  1708.0             0.0             0.0   \n",
       "\n",
       "        engMdoPower_2_  engMdoPower_3_  operationId  BaseLoad  Battery  SOC  \n",
       "0                    0             0.0          6.0         0        0    0  \n",
       "1                    0             0.0          6.0         0        0    0  \n",
       "2                    0             0.0          6.0         0        0    0  \n",
       "3                    0             0.0          6.0         0        0    0  \n",
       "4                    0             0.0          6.0         0        0    0  \n",
       "...                ...             ...          ...       ...      ...  ...  \n",
       "120955               0             0.0          3.0       300        0    0  \n",
       "120956               0             0.0          3.0       300        0    0  \n",
       "120957               0             0.0          3.0       300        0    0  \n",
       "120958               0             0.0          3.0       300        0    0  \n",
       "120959               0             0.0          3.0       300        0    0  \n",
       "\n",
       "[120960 rows x 10 columns]"
      ]
     },
     "metadata": {},
     "output_type": "display_data"
    }
   ],
   "source": [
    "#Create a column of load profile\n",
    "df1['Load'] = df1['thrusterAndPropulsion']\n",
    "df1['BaseLoad'] = 300\n",
    "df1.loc[df1['operationId'] == 6, 'BaseLoad'] = 0\n",
    "df1.loc[df1['operationId'] == 1, 'BaseLoad'] = 0\n",
    "df1['Load'] = df1['thrusterAndPropulsion'] + df1['BaseLoad']\n",
    "\n",
    "df1['Battery'] = 0\n",
    "df1['SOC'] = 0\n",
    "#Create dataset with only relevant columns\n",
    "df3 = df1[['datetime', 'Load', 'engMdoPower_0_','engMdoPower_1_','engMdoPower_2_', 'engMdoPower_3_', 'operationId', 'BaseLoad', 'Battery', 'SOC']]\n",
    "\n",
    "#Set engine powers to zero\n",
    "num = df3['engMdoPower_0_']._get_numeric_data()\n",
    "num[num != 0] = 0\n",
    "\n",
    "num = df3['engMdoPower_1_']._get_numeric_data()\n",
    "num[num != 0] = 0\n",
    "\n",
    "num = df3['engMdoPower_2_']._get_numeric_data()\n",
    "num[num != 0] = 0\n",
    "\n",
    "num = df3['engMdoPower_3_']._get_numeric_data()\n",
    "num[num != 0] = 0\n",
    "\n",
    "\n",
    "display(df3)"
   ]
  },
  {
   "cell_type": "code",
   "execution_count": 24,
   "metadata": {},
   "outputs": [],
   "source": [
    "df2 = df3.copy()\n",
    "\n",
    "load = df2['Load'].values\n",
    "dg0 = df2['engMdoPower_0_'].values\n",
    "dg1 = df2['engMdoPower_1_'].values\n",
    "dg2 = df2['engMdoPower_2_'].values\n",
    "dg3 = df2['engMdoPower_3_'].values\n",
    "bat = df2['Battery'].values\n",
    "soc = [0]*120960\n",
    "soc[0] = 124 #124 empty (20%)\n",
    "opid = df2['operationId'].values\n",
    "\n",
    "for i in range(len(load)):\n",
    "    if i == 120959:\n",
    "        pass\n",
    "    elif opid[i] == 6 and soc[i] <= 496:\n",
    "        bat[i] = - 20\n",
    "        soc[i+1] = soc[i] - bat[i]/720\n",
    "    elif load[i] <= 2100 and load[i+1] <= 2100:\n",
    "        if load[i] > 1900:\n",
    "            if soc[i] > 124:\n",
    "                bat[i] = 2100 - load[i]\n",
    "                soc[i+1] = soc[i] - (bat[i]/720)\n",
    "                dg0[i] = load[i]-bat[i]\n",
    "            else:\n",
    "                dg0[i] = load[i]\n",
    "                soc[i+1] = soc[i]\n",
    "        else:\n",
    "            dg0[i] = load[i]\n",
    "            soc[i+1] = soc[i]\n",
    "    elif load[i] >= 2100 and load[i+1] < 2100:\n",
    "        dg0[i] = dg1[i] = load[i]/2\n",
    "        soc[i+1] = soc[i]\n",
    "    elif load[i] <= 2100 and load[i+1] > 2100:\n",
    "        dg0[i] = dg1[i] = load[i]/2\n",
    "        soc[i+1] = soc[i]\n",
    "    elif load[i] <= 4200:\n",
    "        if load[i] > 3800:\n",
    "            if soc[i] > 124:\n",
    "                bat[i] = 4200 - load[i]\n",
    "                soc[i+1] = soc[i] - (bat[i]/720)\n",
    "                dg0[i] = dg1[i] = (load[i]-bat[i])/2\n",
    "            else:\n",
    "                dg0[i] = dg1[i] = load[i]/2\n",
    "                soc[i+1] = soc[i]\n",
    "        else:\n",
    "            dg0[i] = dg1[i] = load[i]/2\n",
    "            soc[i+1] = soc[i]\n",
    "    else:\n",
    "        soc[i+1] = soc[i] \n",
    "        "
   ]
  },
  {
   "cell_type": "code",
   "execution_count": 25,
   "metadata": {},
   "outputs": [
    {
     "data": {
      "text/plain": [
       "[<matplotlib.lines.Line2D at 0x200137a7790>]"
      ]
     },
     "execution_count": 25,
     "metadata": {},
     "output_type": "execute_result"
    },
    {
     "data": {
      "image/png": "[encoded data removed]",
      "text/plain": [
       "<Figure size 432x288 with 1 Axes>"
      ]
     },
     "metadata": {
      "needs_background": "light"
     },
     "output_type": "display_data"
    }
   ],
   "source": [
    "plt.plot(soc)"
   ]
  },
  {
   "cell_type": "code",
   "execution_count": 27,
   "metadata": {},
   "outputs": [
    {
     "data": {
      "text/plain": [
       "[<matplotlib.lines.Line2D at 0x200112c00d0>]"
      ]
     },
     "execution_count": 27,
     "metadata": {},
     "output_type": "execute_result"
    },
    {
     "data": {
      "image/png": "[encoded data removed]",
      "text/plain": [
       "<Figure size 432x288 with 1 Axes>"
      ]
     },
     "metadata": {
      "needs_background": "light"
     },
     "output_type": "display_data"
    }
   ],
   "source": [
    "plt.plot(bat[20600:21000])\n",
    "#plt.plot(load[18500:19000])\n",
    "#plt.plot(dg0[18500:19000])"
   ]
  },
  {
   "cell_type": "code",
   "execution_count": 46,
   "metadata": {},
   "outputs": [],
   "source": [
    "df4 = df3.copy()\n",
    "\n",
    "load = df4['Load'].values\n",
    "dg0 = df4['engMdoPower_0_'].values\n",
    "dg1 = df4['engMdoPower_1_'].values\n",
    "dg2 = df4['engMdoPower_2_'].values\n",
    "dg3 = df4['engMdoPower_3_'].values\n",
    "bat = df4['Battery'].values\n",
    "soc = [0]*120960\n",
    "soc[0] = 124 #124 empty (20%)\n",
    "opid = df4['operationId'].values\n",
    "\n",
    "for i in range(len(load)):\n",
    "    if i == 120959:\n",
    "        pass\n",
    "    elif opid[i] == 6 and soc[i] <= 496:\n",
    "        bat[i] = - 100\n",
    "        soc[i+1] = soc[i] - bat[i]/720\n",
    "    elif load[i] <= 600 and load[i+1] <= 600:\n",
    "        if soc[i] > 124:\n",
    "            bat[i] = load[i]\n",
    "            soc[i+1] = soc[i] - (bat[i]/720)\n",
    "        else:\n",
    "            dg0[i] = load[i]\n",
    "            soc[i+1] = soc[i]\n",
    "    elif load[i] <= 2600 and load[i+1] <= 2600:\n",
    "        if load[i] > 2000:\n",
    "            if soc[i] > 124:\n",
    "                bat[i] = 2600 - load[i]\n",
    "                soc[i+1] = soc[i] - (bat[i]/720)\n",
    "                dg0[i] = load[i]-bat[i]\n",
    "            elif soc[i] <= 124:\n",
    "                dg0[i] = dg1[i] = load[i]/2\n",
    "                soc[i+1] = soc[i]\n",
    "        else:\n",
    "            dg0[i] = load[i]\n",
    "            soc[i+1] = soc[i]\n",
    "   # elif load[i] >= 2600 and load[i+1] < 2600:\n",
    "   #     dg0[i] = dg1[i] = load[i]/2\n",
    "   #     soc[i+1] = soc[i]\n",
    "   # elif load[i] <= 2600 and load[i+1] > 2600:\n",
    "   #     dg0[i] = dg1[i] = load[i]/2\n",
    "   #     soc[i+1] = soc[i]\n",
    "    elif load[i] <= 4200:\n",
    "        if load[i] > 3800:\n",
    "            if soc[i] > 124:\n",
    "                bat[i] = 4200 - load[i]\n",
    "                soc[i+1] = soc[i] - (bat[i]/720)\n",
    "                dg0[i] = dg1[i] = (load[i]-bat[i])/2\n",
    "            else:\n",
    "                dg0[i] = dg1[i] = load[i]/2\n",
    "                soc[i+1] = soc[i]\n",
    "        else:\n",
    "            dg0[i] = dg1[i] = load[i]/2\n",
    "            soc[i+1] = soc[i]\n",
    "    else:\n",
    "        soc[i+1] = soc[i] "
   ]
  },
  {
   "cell_type": "code",
   "execution_count": 47,
   "metadata": {},
   "outputs": [
    {
     "data": {
      "text/plain": [
       "[<matplotlib.lines.Line2D at 0x200133451c0>]"
      ]
     },
     "execution_count": 47,
     "metadata": {},
     "output_type": "execute_result"
    },
    {
     "data": {
      "image/png": "[encoded data removed]",
      "text/plain": [
       "<Figure size 432x288 with 1 Axes>"
      ]
     },
     "metadata": {
      "needs_background": "light"
     },
     "output_type": "display_data"
    }
   ],
   "source": [
    "plt.plot(soc)"
   ]
  },
  {
   "cell_type": "code",
   "execution_count": 48,
   "metadata": {},
   "outputs": [
    {
     "data": {
      "text/plain": [
       "[<matplotlib.lines.Line2D at 0x200134d17f0>]"
      ]
     },
     "execution_count": 48,
     "metadata": {},
     "output_type": "execute_result"
    },
    {
     "data": {
      "image/png": "[encoded data removed]",
      "text/plain": [
       "<Figure size 432x288 with 1 Axes>"
      ]
     },
     "metadata": {
      "needs_background": "light"
     },
     "output_type": "display_data"
    }
   ],
   "source": [
    "plt.plot(load)\n",
    "plt.plot(bat)\n",
    "plt.plot(dg0)\n",
    "#plt.plot(dg1)"
   ]
  },
  {
   "cell_type": "code",
   "execution_count": 49,
   "metadata": {},
   "outputs": [
    {
     "data": {
      "text/plain": [
       "-173475"
      ]
     },
     "execution_count": 49,
     "metadata": {},
     "output_type": "execute_result"
    }
   ],
   "source": [
    "sum(bat)"
   ]
  },
  {
   "cell_type": "code",
   "execution_count": 53,
   "metadata": {},
   "outputs": [
    {
     "data": {
      "text/plain": [
       "904425"
      ]
     },
     "execution_count": 53,
     "metadata": {},
     "output_type": "execute_result"
    }
   ],
   "source": [
    "sumbat = 0\n",
    "\n",
    "for a in range(len(bat)):\n",
    "    if bat[a] > 0:\n",
    "        sumbat += bat[a]\n",
    "\n",
    "sumbat"
   ]
  },
  {
   "cell_type": "markdown",
   "metadata": {},
   "source": [
    "# Fuel consumption"
   ]
  },
  {
   "cell_type": "code",
   "execution_count": 54,
   "metadata": {},
   "outputs": [
    {
     "data": {
      "text/plain": [
       "32037.17628659455"
      ]
     },
     "execution_count": 54,
     "metadata": {},
     "output_type": "execute_result"
    }
   ],
   "source": [
    "# 0.238 is stigningsgraden for fuel consumption\n",
    "fc = (0.238*dg0)/720 + (0.238*dg1)/720\n",
    "sum_fc = sum(fc)\n",
    "sum_fc"
   ]
  },
  {
   "cell_type": "code",
   "execution_count": null,
   "metadata": {},
   "outputs": [],
   "source": []
  }
 ],
 "metadata": {
  "kernelspec": {
   "display_name": "Python 3",
   "language": "python",
   "name": "python3"
  },
  "language_info": {
   "codemirror_mode": {
    "name": "ipython",
    "version": 3
   },
   "file_extension": ".py",
   "mimetype": "text/x-python",
   "name": "python",
   "nbconvert_exporter": "python",
   "pygments_lexer": "ipython3",
   "version": "3.8.5"
  }
 },
 "nbformat": 4,
 "nbformat_minor": 4
}
