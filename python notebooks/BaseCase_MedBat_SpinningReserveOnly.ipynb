{
 "cells": [
  {
   "cell_type": "code",
   "execution_count": 1,
   "metadata": {},
   "outputs": [],
   "source": [
    "import pandas as pd\n",
    "import numpy as np\n",
    "import matplotlib.pyplot as plt\n",
    "df = pd.read_excel('data_full_5sekres.xlsx')"
   ]
  },
  {
   "cell_type": "code",
   "execution_count": 31,
   "metadata": {},
   "outputs": [],
   "source": [
    "df1 = df.copy()"
   ]
  },
  {
   "cell_type": "code",
   "execution_count": 49,
   "metadata": {},
   "outputs": [],
   "source": [
    "#Create a column of load profile\n",
    "df1['BaseLoad'] = 300\n",
    "df1.loc[df1['operationId'] == 100, 'BaseLoad'] = 500\n",
    "df1.loc[df1['operationId'] == 3, 'BaseLoad'] = 550\n",
    "df1.loc[df1['operationId'] == 5, 'BaseLoad'] = 510\n",
    "df1.loc[df1['operationId'] == 6, 'BaseLoad'] = 250\n",
    "df1.loc[df1['operationId'] == 1, 'BaseLoad'] = 250\n",
    "df1.loc[df1['operationId'] == 7, 'BaseLoad'] = 380\n",
    "df1['Load'] = df1['thrusterAndPropulsion'] + df1['BaseLoad']\n",
    "\n",
    "df1['Battery'] = 0\n",
    "df1['SOC'] = 0\n",
    "#Create dataset with only relevant columns\n",
    "df3 = df1[['datetime', 'Load', 'engMdoPower_0_','engMdoPower_1_','engMdoPower_2_', 'engMdoPower_3_', 'operationId', 'BaseLoad', 'Battery', 'SOC']]\n",
    "\n",
    "#Set engine powers to zero\n",
    "num = df3['engMdoPower_0_']._get_numeric_data()\n",
    "num[num != 0] = 0\n",
    "\n",
    "num = df3['engMdoPower_1_']._get_numeric_data()\n",
    "num[num != 0] = 0\n",
    "\n",
    "num = df3['engMdoPower_2_']._get_numeric_data()\n",
    "num[num != 0] = 0\n",
    "\n",
    "num = df3['engMdoPower_3_']._get_numeric_data()\n",
    "num[num != 0] = 0\n"
   ]
  },
  {
   "cell_type": "markdown",
   "metadata": {},
   "source": [
    "# Shore connection covers hotel load at port\n",
    "\n",
    "Bytt soc[0] på linje 10 for å bytte start soc"
   ]
  },
  {
   "cell_type": "code",
   "execution_count": 60,
   "metadata": {},
   "outputs": [],
   "source": [
    "df7 = df3.copy()\n",
    "\n",
    "load = df7['Load'].values\n",
    "dg0 = df7['engMdoPower_0_'].values\n",
    "dg1 = df7['engMdoPower_1_'].values\n",
    "dg2 = df7['engMdoPower_2_'].values\n",
    "dg3 = df7['engMdoPower_3_'].values\n",
    "bat = df7['Battery'].values\n",
    "soc = [0]*120960\n",
    "soc[0] = 496 #124 empty (20%)\n",
    "opid = df7['operationId'].values\n",
    "shore = [0]*120960\n",
    "\n",
    "for i in range(len(load)):\n",
    "    if i == 120959:\n",
    "        pass\n",
    "    elif load[i] <= 2100 and opid[i] != 6: \n",
    "        dg0[i] = load[i]\n",
    "        soc[i+1] = soc[i]\n",
    "    elif load[i] <= 2100 and opid[i] == 6 and soc[i] < 496:\n",
    "        bat[i] = -100\n",
    "        dg0[i] = - bat[i]*1.08 #92 % efficiency\n",
    "        shore[i] = load[i]\n",
    "        soc[i+1] = soc[i] - bat[i]/720\n",
    "    elif load[i] <= 2100 and opid[i] == 6 and soc[i] >= 496:\n",
    "        #dg0[i] = load[i]\n",
    "        shore[i] = load[i]\n",
    "        soc[i+1] = soc[i]\n",
    "    elif load[i] > 2100:\n",
    "        dg0[i] = dg1[i] = load[i]/2\n",
    "        soc[i+1] = soc[i]\n",
    "    else:\n",
    "        soc[i+1] = soc[i]"
   ]
  },
  {
   "cell_type": "code",
   "execution_count": 61,
   "metadata": {},
   "outputs": [
    {
     "data": {
      "text/plain": [
       "[<matplotlib.lines.Line2D at 0x2df9a4313d0>]"
      ]
     },
     "execution_count": 61,
     "metadata": {},
     "output_type": "execute_result"
    },
    {
     "data": {
      "image/png": "[encoded data removed]",
      "text/plain": [
       "<Figure size 432x288 with 1 Axes>"
      ]
     },
     "metadata": {
      "needs_background": "light"
     },
     "output_type": "display_data"
    }
   ],
   "source": [
    "plt.plot(dg0)"
   ]
  },
  {
   "cell_type": "code",
   "execution_count": 62,
   "metadata": {},
   "outputs": [],
   "source": [
    "# Normalize Generators\n",
    "dg0n = (dg0-dg0.min()) / (2100 - dg0.min())\n",
    "dg1n = (dg1-dg1.min()) / (2100 - dg1.min())\n",
    "dg2n = (dg2-dg2.min()) / (2100 - dg2.min())\n",
    "dg3n = (dg3-dg3.min()) / (2100 - dg3.min())\n"
   ]
  },
  {
   "cell_type": "code",
   "execution_count": 63,
   "metadata": {},
   "outputs": [],
   "source": [
    "fc_dg0 = np.zeros(120960)\n",
    "fc_dg1 = np.zeros(120960)\n",
    "fc_dg2 = np.zeros(120960)\n",
    "fc_dg3 = np.zeros(120960)\n",
    "\n",
    "for i in range(len(dg0)):\n",
    "    if dg0[i] == 0:\n",
    "        fc_dg0[i] = 0\n",
    "    else:\n",
    "        fc_dg0[i] = (445*dg0n[i] + 47)/720\n",
    "        \n",
    "for i in range(len(dg1)):\n",
    "    if dg1[i] == 0:\n",
    "        fc_dg1[i] = 0\n",
    "    else:\n",
    "        fc_dg1[i] = (445*dg1n[i] + 47)/720\n",
    "        \n",
    "for i in range(len(dg2)):\n",
    "    if dg2[i] == 0:\n",
    "        fc_dg2[i] = 0\n",
    "    else:\n",
    "        fc_dg2[i] = (445*dg2n[i] + 47)/720\n",
    "        \n",
    "for i in range(len(dg3)):\n",
    "    if dg3[i] == 0:\n",
    "        fc_dg3[i] = 0\n",
    "    else:\n",
    "        fc_dg3[i] = (445*dg3n[i] + 47)/720"
   ]
  },
  {
   "cell_type": "code",
   "execution_count": 64,
   "metadata": {},
   "outputs": [
    {
     "name": "stdout",
     "output_type": "stream",
     "text": [
      "Total fuel consumption of BASECASE med batteri kun til spinning reserve og 20% batteri start shore connection er:  39926.279663346635 liter\n"
     ]
    }
   ],
   "source": [
    "fc = sum(fc_dg0) + sum(fc_dg1) + sum(fc_dg2) + sum(fc_dg3)\n",
    "print('Total fuel consumption of BASECASE med batteri kun til spinning reserve og 20% batteri start shore connection er: ', fc, 'liter')"
   ]
  },
  {
   "cell_type": "markdown",
   "metadata": {},
   "source": [
    "# Emissions"
   ]
  },
  {
   "cell_type": "code",
   "execution_count": 65,
   "metadata": {},
   "outputs": [
    {
     "name": "stdout",
     "output_type": "stream",
     "text": [
      "CO2-utslipp med batteri på 20% fra start:  107698.48000000001  kg\n",
      "CO2-utslipp med batteri på 50% fra start:  107350.08  kg\n",
      "CO2-utslipp med batteri på 80% fra start:  107001.68000000001  kg\n"
     ]
    }
   ],
   "source": [
    "bat20 = 2.68 * 40186 # (kg/l)*l\n",
    "bat50 = 2.68 * 40056\n",
    "bat80 = 2.68 * 39926\n",
    "\n",
    "print('CO2-utslipp med batteri på 20% fra start: ',bat20,' kg')\n",
    "print('CO2-utslipp med batteri på 50% fra start: ',bat50,' kg')\n",
    "print('CO2-utslipp med batteri på 80% fra start: ',bat80,' kg')"
   ]
  },
  {
   "cell_type": "code",
   "execution_count": null,
   "metadata": {},
   "outputs": [],
   "source": []
  }
 ],
 "metadata": {
  "kernelspec": {
   "display_name": "Python 3",
   "language": "python",
   "name": "python3"
  },
  "language_info": {
   "codemirror_mode": {
    "name": "ipython",
    "version": 3
   },
   "file_extension": ".py",
   "mimetype": "text/x-python",
   "name": "python",
   "nbconvert_exporter": "python",
   "pygments_lexer": "ipython3",
   "version": "3.8.5"
  }
 },
 "nbformat": 4,
 "nbformat_minor": 4
}
