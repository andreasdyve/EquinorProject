{
 "cells": [
  {
   "cell_type": "code",
   "execution_count": 2,
   "metadata": {},
   "outputs": [],
   "source": [
    "import pandas as pd\n",
    "import numpy as np\n",
    "import matplotlib.pyplot as plt\n",
    "df = pd.read_excel('data_full_5sekres.xlsx')"
   ]
  },
  {
   "cell_type": "code",
   "execution_count": 3,
   "metadata": {},
   "outputs": [],
   "source": [
    "df1 = df.copy()"
   ]
  },
  {
   "cell_type": "code",
   "execution_count": 4,
   "metadata": {},
   "outputs": [
    {
     "data": {
      "text/html": [
       "<div>\n",
       "<style scoped>\n",
       "    .dataframe tbody tr th:only-of-type {\n",
       "        vertical-align: middle;\n",
       "    }\n",
       "\n",
       "    .dataframe tbody tr th {\n",
       "        vertical-align: top;\n",
       "    }\n",
       "\n",
       "    .dataframe thead th {\n",
       "        text-align: right;\n",
       "    }\n",
       "</style>\n",
       "<table border=\"1\" class=\"dataframe\">\n",
       "  <thead>\n",
       "    <tr style=\"text-align: right;\">\n",
       "      <th></th>\n",
       "      <th>datetime</th>\n",
       "      <th>Load</th>\n",
       "      <th>engMdoPower_0_</th>\n",
       "      <th>engMdoPower_1_</th>\n",
       "      <th>engMdoPower_2_</th>\n",
       "      <th>engMdoPower_3_</th>\n",
       "      <th>operationId</th>\n",
       "      <th>BaseLoad</th>\n",
       "      <th>Battery</th>\n",
       "      <th>SOC</th>\n",
       "    </tr>\n",
       "  </thead>\n",
       "  <tbody>\n",
       "    <tr>\n",
       "      <th>0</th>\n",
       "      <td>2020-01-30 00:00:00</td>\n",
       "      <td>250.0</td>\n",
       "      <td>0.0</td>\n",
       "      <td>0.0</td>\n",
       "      <td>0</td>\n",
       "      <td>0.0</td>\n",
       "      <td>6.0</td>\n",
       "      <td>250.0</td>\n",
       "      <td>0</td>\n",
       "      <td>0</td>\n",
       "    </tr>\n",
       "    <tr>\n",
       "      <th>1</th>\n",
       "      <td>2020-01-30 00:00:05</td>\n",
       "      <td>250.0</td>\n",
       "      <td>0.0</td>\n",
       "      <td>0.0</td>\n",
       "      <td>0</td>\n",
       "      <td>0.0</td>\n",
       "      <td>6.0</td>\n",
       "      <td>250.0</td>\n",
       "      <td>0</td>\n",
       "      <td>0</td>\n",
       "    </tr>\n",
       "    <tr>\n",
       "      <th>2</th>\n",
       "      <td>2020-01-30 00:00:10</td>\n",
       "      <td>250.0</td>\n",
       "      <td>0.0</td>\n",
       "      <td>0.0</td>\n",
       "      <td>0</td>\n",
       "      <td>0.0</td>\n",
       "      <td>6.0</td>\n",
       "      <td>250.0</td>\n",
       "      <td>0</td>\n",
       "      <td>0</td>\n",
       "    </tr>\n",
       "    <tr>\n",
       "      <th>3</th>\n",
       "      <td>2020-01-30 00:00:15</td>\n",
       "      <td>250.0</td>\n",
       "      <td>0.0</td>\n",
       "      <td>0.0</td>\n",
       "      <td>0</td>\n",
       "      <td>0.0</td>\n",
       "      <td>6.0</td>\n",
       "      <td>250.0</td>\n",
       "      <td>0</td>\n",
       "      <td>0</td>\n",
       "    </tr>\n",
       "    <tr>\n",
       "      <th>4</th>\n",
       "      <td>2020-01-30 00:00:20</td>\n",
       "      <td>250.0</td>\n",
       "      <td>0.0</td>\n",
       "      <td>0.0</td>\n",
       "      <td>0</td>\n",
       "      <td>0.0</td>\n",
       "      <td>6.0</td>\n",
       "      <td>250.0</td>\n",
       "      <td>0</td>\n",
       "      <td>0</td>\n",
       "    </tr>\n",
       "    <tr>\n",
       "      <th>...</th>\n",
       "      <td>...</td>\n",
       "      <td>...</td>\n",
       "      <td>...</td>\n",
       "      <td>...</td>\n",
       "      <td>...</td>\n",
       "      <td>...</td>\n",
       "      <td>...</td>\n",
       "      <td>...</td>\n",
       "      <td>...</td>\n",
       "      <td>...</td>\n",
       "    </tr>\n",
       "    <tr>\n",
       "      <th>120955</th>\n",
       "      <td>2020-02-05 23:59:35</td>\n",
       "      <td>2046.0</td>\n",
       "      <td>0.0</td>\n",
       "      <td>0.0</td>\n",
       "      <td>0</td>\n",
       "      <td>0.0</td>\n",
       "      <td>3.0</td>\n",
       "      <td>550.0</td>\n",
       "      <td>0</td>\n",
       "      <td>0</td>\n",
       "    </tr>\n",
       "    <tr>\n",
       "      <th>120956</th>\n",
       "      <td>2020-02-05 23:59:40</td>\n",
       "      <td>1993.2</td>\n",
       "      <td>0.0</td>\n",
       "      <td>0.0</td>\n",
       "      <td>0</td>\n",
       "      <td>0.0</td>\n",
       "      <td>3.0</td>\n",
       "      <td>550.0</td>\n",
       "      <td>0</td>\n",
       "      <td>0</td>\n",
       "    </tr>\n",
       "    <tr>\n",
       "      <th>120957</th>\n",
       "      <td>2020-02-05 23:59:45</td>\n",
       "      <td>1975.6</td>\n",
       "      <td>0.0</td>\n",
       "      <td>0.0</td>\n",
       "      <td>0</td>\n",
       "      <td>0.0</td>\n",
       "      <td>3.0</td>\n",
       "      <td>550.0</td>\n",
       "      <td>0</td>\n",
       "      <td>0</td>\n",
       "    </tr>\n",
       "    <tr>\n",
       "      <th>120958</th>\n",
       "      <td>2020-02-05 23:59:50</td>\n",
       "      <td>2010.8</td>\n",
       "      <td>0.0</td>\n",
       "      <td>0.0</td>\n",
       "      <td>0</td>\n",
       "      <td>0.0</td>\n",
       "      <td>3.0</td>\n",
       "      <td>550.0</td>\n",
       "      <td>0</td>\n",
       "      <td>0</td>\n",
       "    </tr>\n",
       "    <tr>\n",
       "      <th>120959</th>\n",
       "      <td>2020-02-05 23:59:55</td>\n",
       "      <td>1958.0</td>\n",
       "      <td>0.0</td>\n",
       "      <td>0.0</td>\n",
       "      <td>0</td>\n",
       "      <td>0.0</td>\n",
       "      <td>3.0</td>\n",
       "      <td>550.0</td>\n",
       "      <td>0</td>\n",
       "      <td>0</td>\n",
       "    </tr>\n",
       "  </tbody>\n",
       "</table>\n",
       "<p>120960 rows × 10 columns</p>\n",
       "</div>"
      ],
      "text/plain": [
       "                  datetime    Load  engMdoPower_0_  engMdoPower_1_  \\\n",
       "0      2020-01-30 00:00:00   250.0             0.0             0.0   \n",
       "1      2020-01-30 00:00:05   250.0             0.0             0.0   \n",
       "2      2020-01-30 00:00:10   250.0             0.0             0.0   \n",
       "3      2020-01-30 00:00:15   250.0             0.0             0.0   \n",
       "4      2020-01-30 00:00:20   250.0             0.0             0.0   \n",
       "...                    ...     ...             ...             ...   \n",
       "120955 2020-02-05 23:59:35  2046.0             0.0             0.0   \n",
       "120956 2020-02-05 23:59:40  1993.2             0.0             0.0   \n",
       "120957 2020-02-05 23:59:45  1975.6             0.0             0.0   \n",
       "120958 2020-02-05 23:59:50  2010.8             0.0             0.0   \n",
       "120959 2020-02-05 23:59:55  1958.0             0.0             0.0   \n",
       "\n",
       "        engMdoPower_2_  engMdoPower_3_  operationId  BaseLoad  Battery  SOC  \n",
       "0                    0             0.0          6.0     250.0        0    0  \n",
       "1                    0             0.0          6.0     250.0        0    0  \n",
       "2                    0             0.0          6.0     250.0        0    0  \n",
       "3                    0             0.0          6.0     250.0        0    0  \n",
       "4                    0             0.0          6.0     250.0        0    0  \n",
       "...                ...             ...          ...       ...      ...  ...  \n",
       "120955               0             0.0          3.0     550.0        0    0  \n",
       "120956               0             0.0          3.0     550.0        0    0  \n",
       "120957               0             0.0          3.0     550.0        0    0  \n",
       "120958               0             0.0          3.0     550.0        0    0  \n",
       "120959               0             0.0          3.0     550.0        0    0  \n",
       "\n",
       "[120960 rows x 10 columns]"
      ]
     },
     "metadata": {},
     "output_type": "display_data"
    }
   ],
   "source": [
    "#Create a column of load profile\n",
    "df1['Load'] = df1['thrusterAndPropulsion']\n",
    "df1.loc[df1['operationId'] == 100, 'BaseLoad'] = 500\n",
    "df1.loc[df1['operationId'] == 3, 'BaseLoad'] = 550\n",
    "df1.loc[df1['operationId'] == 5, 'BaseLoad'] = 510\n",
    "df1.loc[df1['operationId'] == 6, 'BaseLoad'] = 250\n",
    "df1.loc[df1['operationId'] == 1, 'BaseLoad'] = 250\n",
    "df1.loc[df1['operationId'] == 7, 'BaseLoad'] = 380\n",
    "df1['Load'] = df1['thrusterAndPropulsion'] + df1['BaseLoad']\n",
    "\n",
    "df1['Battery'] = 0\n",
    "df1['SOC'] = 0\n",
    "#Create dataset with only relevant columns\n",
    "df3 = df1[['datetime', 'Load', 'engMdoPower_0_','engMdoPower_1_','engMdoPower_2_', 'engMdoPower_3_', 'operationId', 'BaseLoad', 'Battery', 'SOC']]\n",
    "\n",
    "#Set engine powers to zero\n",
    "num = df3['engMdoPower_0_']._get_numeric_data()\n",
    "num[num != 0] = 0\n",
    "\n",
    "num = df3['engMdoPower_1_']._get_numeric_data()\n",
    "num[num != 0] = 0\n",
    "\n",
    "num = df3['engMdoPower_2_']._get_numeric_data()\n",
    "num[num != 0] = 0\n",
    "\n",
    "num = df3['engMdoPower_3_']._get_numeric_data()\n",
    "num[num != 0] = 0\n",
    "\n",
    "\n",
    "display(df3)"
   ]
  },
  {
   "cell_type": "markdown",
   "metadata": {},
   "source": [
    "# No shore connection, 20% battery at start"
   ]
  },
  {
   "cell_type": "code",
   "execution_count": 22,
   "metadata": {},
   "outputs": [],
   "source": [
    "df5 = df3.copy()\n",
    "\n",
    "load = df5['Load'].values\n",
    "dg0 = df5['engMdoPower_0_'].values\n",
    "dg1 = df5['engMdoPower_1_'].values\n",
    "dg2 = df5['engMdoPower_2_'].values\n",
    "dg3 = df5['engMdoPower_3_'].values\n",
    "bat = df5['Battery'].values\n",
    "soc = [0]*120960\n",
    "soc[0] = 124 #124 empty (20%)\n",
    "opid = df5['operationId'].values\n",
    "\n",
    "for i in range(len(load)):\n",
    "    if i == 120959:\n",
    "        pass\n",
    "    elif load[i] <= 2100 and opid[i] != 6: \n",
    "        dg0[i] = load[i]\n",
    "        soc[i+1] = soc[i]\n",
    "    elif load[i] <= 2100 and opid[i] == 6 and soc[i] < 496:\n",
    "        bat[i] = -100\n",
    "        dg0[i] = load[i] - bat[i]*1.08\n",
    "        soc[i+1] = soc[i] - bat[i]/720\n",
    "    elif load[i] <= 2100 and opid[i] == 6 and soc[i] >= 496:\n",
    "        dg0[i] = load[i]\n",
    "        soc[i+1] = soc[i]\n",
    "    elif load[i] > 2100:\n",
    "        dg0[i] = dg1[i] = load[i]/2\n",
    "        soc[i+1] = soc[i]\n",
    "    else:\n",
    "        soc[i+1] = soc[i]"
   ]
  },
  {
   "cell_type": "code",
   "execution_count": 23,
   "metadata": {},
   "outputs": [
    {
     "data": {
      "text/plain": [
       "[<matplotlib.lines.Line2D at 0x1885b0001c0>]"
      ]
     },
     "execution_count": 23,
     "metadata": {},
     "output_type": "execute_result"
    },
    {
     "data": {
      "image/png": "[encoded data removed]",
      "text/plain": [
       "<Figure size 432x288 with 1 Axes>"
      ]
     },
     "metadata": {
      "needs_background": "light"
     },
     "output_type": "display_data"
    }
   ],
   "source": [
    "plt.plot(soc)"
   ]
  },
  {
   "cell_type": "code",
   "execution_count": 24,
   "metadata": {},
   "outputs": [
    {
     "data": {
      "text/plain": [
       "numpy.ndarray"
      ]
     },
     "execution_count": 24,
     "metadata": {},
     "output_type": "execute_result"
    }
   ],
   "source": [
    "# Normalize Generators\n",
    "dg0n = (dg0-dg0.min()) / (2100 - dg0.min())\n",
    "dg1n = (dg1-dg1.min()) / (2100 - dg1.min())\n",
    "dg2n = (dg2-dg2.min()) / (2100 - dg2.min())\n",
    "dg3n = (dg3-dg3.min()) / (2100 - dg3.min())\n",
    "\n",
    "len(dg0)\n",
    "type(dg0)"
   ]
  },
  {
   "cell_type": "code",
   "execution_count": 25,
   "metadata": {},
   "outputs": [],
   "source": [
    "fc_dg0 = np.zeros(120960)\n",
    "fc_dg1 = np.zeros(120960)\n",
    "fc_dg2 = np.zeros(120960)\n",
    "fc_dg3 = np.zeros(120960)\n",
    "\n",
    "for i in range(len(dg0)):\n",
    "    if dg0[i] == 0:\n",
    "        fc_dg0[i] = 0\n",
    "    else:\n",
    "        fc_dg0[i] = (445*dg0n[i] + 47)/720\n",
    "        \n",
    "for i in range(len(dg1)):\n",
    "    if dg1[i] == 0:\n",
    "        fc_dg1[i] = 0\n",
    "    else:\n",
    "        fc_dg1[i] = (445*dg1n[i] + 47)/720\n",
    "        \n",
    "for i in range(len(dg2)):\n",
    "    if dg2[i] == 0:\n",
    "        fc_dg2[i] = 0\n",
    "    else:\n",
    "        fc_dg2[i] = (445*dg2n[i] + 47)/720\n",
    "        \n",
    "for i in range(len(dg3)):\n",
    "    if dg3[i] == 0:\n",
    "        fc_dg3[i] = 0\n",
    "    else:\n",
    "        fc_dg3[i] = (445*dg3n[i] + 47)/720"
   ]
  },
  {
   "cell_type": "code",
   "execution_count": 26,
   "metadata": {},
   "outputs": [
    {
     "name": "stdout",
     "output_type": "stream",
     "text": [
      "Total fuel consumption of BASECASE med batteri kun til spinning reserve og 20% batteri start er:  44593.20843008009 liter\n"
     ]
    }
   ],
   "source": [
    "fc = sum(fc_dg0) + sum(fc_dg1) + sum(fc_dg2) + sum(fc_dg3)\n",
    "print('Total fuel consumption of BASECASE med batteri kun til spinning reserve og 20% batteri start er: ', fc, 'liter')"
   ]
  },
  {
   "cell_type": "markdown",
   "metadata": {},
   "source": [
    "# No shore connection, 80% battery at start"
   ]
  },
  {
   "cell_type": "code",
   "execution_count": 27,
   "metadata": {},
   "outputs": [],
   "source": [
    "df6 = df3.copy()\n",
    "\n",
    "load = df6['Load'].values\n",
    "dg0 = df6['engMdoPower_0_'].values\n",
    "dg1 = df6['engMdoPower_1_'].values\n",
    "dg2 = df6['engMdoPower_2_'].values\n",
    "dg3 = df6['engMdoPower_3_'].values\n",
    "bat = df6['Battery'].values\n",
    "soc = [0]*120960\n",
    "soc[0] = 496 #124 empty (20%)\n",
    "opid = df6['operationId'].values\n",
    "\n",
    "for i in range(len(load)):\n",
    "    if i == 120959:\n",
    "        pass\n",
    "    elif load[i] <= 2100 and opid[i] != 6: \n",
    "        dg0[i] = load[i]\n",
    "        soc[i+1] = soc[i]\n",
    "    elif load[i] <= 2100 and opid[i] == 6 and soc[i] < 496:\n",
    "        bat[i] = -100\n",
    "        dg0[i] = load[i] - bat[i]*1.08\n",
    "        soc[i+1] = soc[i] - bat[i]/720\n",
    "    elif load[i] <= 2100 and opid[i] == 6 and soc[i] >= 496:\n",
    "        dg0[i] = load[i]\n",
    "        soc[i+1] = soc[i]\n",
    "    elif load[i] > 2100:\n",
    "        dg0[i] = dg1[i] = load[i]/2\n",
    "        soc[i+1] = soc[i]\n",
    "    else:\n",
    "        soc[i+1] = soc[i]"
   ]
  },
  {
   "cell_type": "code",
   "execution_count": 28,
   "metadata": {},
   "outputs": [
    {
     "data": {
      "text/plain": [
       "[<matplotlib.lines.Line2D at 0x1885638ddc0>]"
      ]
     },
     "execution_count": 28,
     "metadata": {},
     "output_type": "execute_result"
    },
    {
     "data": {
      "image/png": "[encoded data removed]",
      "text/plain": [
       "<Figure size 432x288 with 1 Axes>"
      ]
     },
     "metadata": {
      "needs_background": "light"
     },
     "output_type": "display_data"
    }
   ],
   "source": [
    "plt.plot(soc)"
   ]
  },
  {
   "cell_type": "code",
   "execution_count": 29,
   "metadata": {},
   "outputs": [
    {
     "data": {
      "text/plain": [
       "numpy.ndarray"
      ]
     },
     "execution_count": 29,
     "metadata": {},
     "output_type": "execute_result"
    }
   ],
   "source": [
    "# Normalize Generators\n",
    "dg0n = (dg0-dg0.min()) / (2100 - dg0.min())\n",
    "dg1n = (dg1-dg1.min()) / (2100 - dg1.min())\n",
    "dg2n = (dg2-dg2.min()) / (2100 - dg2.min())\n",
    "dg3n = (dg3-dg3.min()) / (2100 - dg3.min())\n",
    "\n",
    "len(dg0)\n",
    "type(dg0)"
   ]
  },
  {
   "cell_type": "code",
   "execution_count": 30,
   "metadata": {},
   "outputs": [],
   "source": [
    "fc_dg0 = np.zeros(120960)\n",
    "fc_dg1 = np.zeros(120960)\n",
    "fc_dg2 = np.zeros(120960)\n",
    "fc_dg3 = np.zeros(120960)\n",
    "\n",
    "for i in range(len(dg0)):\n",
    "    if dg0[i] == 0:\n",
    "        fc_dg0[i] = 0\n",
    "    else:\n",
    "        fc_dg0[i] = (445*dg0n[i] + 47)/720\n",
    "        \n",
    "for i in range(len(dg1)):\n",
    "    if dg1[i] == 0:\n",
    "        fc_dg1[i] = 0\n",
    "    else:\n",
    "        fc_dg1[i] = (445*dg1n[i] + 47)/720\n",
    "        \n",
    "for i in range(len(dg2)):\n",
    "    if dg2[i] == 0:\n",
    "        fc_dg2[i] = 0\n",
    "    else:\n",
    "        fc_dg2[i] = (445*dg2n[i] + 47)/720\n",
    "        \n",
    "for i in range(len(dg3)):\n",
    "    if dg3[i] == 0:\n",
    "        fc_dg3[i] = 0\n",
    "    else:\n",
    "        fc_dg3[i] = (445*dg3n[i] + 47)/720"
   ]
  },
  {
   "cell_type": "code",
   "execution_count": 31,
   "metadata": {},
   "outputs": [
    {
     "name": "stdout",
     "output_type": "stream",
     "text": [
      "Total fuel consumption of BASECASE med batteri kun til spinning reserve og 80% batteri start er:  44508.05450150872 liter\n"
     ]
    }
   ],
   "source": [
    "fc = sum(fc_dg0) + sum(fc_dg1) + sum(fc_dg2) + sum(fc_dg3)\n",
    "print('Total fuel consumption of BASECASE med batteri kun til spinning reserve og 80% batteri start er: ', fc, 'liter')"
   ]
  },
  {
   "cell_type": "markdown",
   "metadata": {},
   "source": [
    "# Shore connection covers hotel load at port"
   ]
  },
  {
   "cell_type": "code",
   "execution_count": 42,
   "metadata": {},
   "outputs": [],
   "source": [
    "df7 = df3.copy()\n",
    "\n",
    "load = df7['Load'].values\n",
    "dg0 = df7['engMdoPower_0_'].values\n",
    "dg1 = df7['engMdoPower_1_'].values\n",
    "dg2 = df7['engMdoPower_2_'].values\n",
    "dg3 = df7['engMdoPower_3_'].values\n",
    "bat = df7['Battery'].values\n",
    "soc = [0]*120960\n",
    "soc[0] = 124 #124 empty (20%)\n",
    "opid = df7['operationId'].values\n",
    "shore = [0]*120960\n",
    "\n",
    "for i in range(len(load)):\n",
    "    if i == 120959:\n",
    "        pass\n",
    "    elif load[i] <= 2100 and opid[i] != 6: \n",
    "        dg0[i] = load[i]\n",
    "        soc[i+1] = soc[i]\n",
    "    elif load[i] <= 2100 and opid[i] == 6 and soc[i] < 496:\n",
    "        bat[i] = -100\n",
    "        dg0[i] = - bat[i]*1.08\n",
    "        shore[i] = load[i]\n",
    "        soc[i+1] = soc[i] - bat[i]/720\n",
    "    elif load[i] <= 2100 and opid[i] == 6 and soc[i] >= 496:\n",
    "        #dg0[i] = load[i]\n",
    "        shore[i] = load[i]\n",
    "        soc[i+1] = soc[i]\n",
    "    elif load[i] > 2100:\n",
    "        dg0[i] = dg1[i] = load[i]/2\n",
    "        soc[i+1] = soc[i]\n",
    "    else:\n",
    "        soc[i+1] = soc[i]"
   ]
  },
  {
   "cell_type": "code",
   "execution_count": 43,
   "metadata": {},
   "outputs": [
    {
     "data": {
      "text/plain": [
       "[<matplotlib.lines.Line2D at 0x18856499910>]"
      ]
     },
     "execution_count": 43,
     "metadata": {},
     "output_type": "execute_result"
    },
    {
     "data": {
      "image/png": "[encoded data removed]",
      "text/plain": [
       "<Figure size 432x288 with 1 Axes>"
      ]
     },
     "metadata": {
      "needs_background": "light"
     },
     "output_type": "display_data"
    }
   ],
   "source": [
    "plt.plot(soc)"
   ]
  },
  {
   "cell_type": "code",
   "execution_count": 44,
   "metadata": {},
   "outputs": [
    {
     "data": {
      "text/plain": [
       "numpy.ndarray"
      ]
     },
     "execution_count": 44,
     "metadata": {},
     "output_type": "execute_result"
    }
   ],
   "source": [
    "# Normalize Generators\n",
    "dg0n = (dg0-dg0.min()) / (2100 - dg0.min())\n",
    "dg1n = (dg1-dg1.min()) / (2100 - dg1.min())\n",
    "dg2n = (dg2-dg2.min()) / (2100 - dg2.min())\n",
    "dg3n = (dg3-dg3.min()) / (2100 - dg3.min())\n",
    "\n",
    "len(dg0)\n",
    "type(dg0)"
   ]
  },
  {
   "cell_type": "code",
   "execution_count": 45,
   "metadata": {},
   "outputs": [],
   "source": [
    "fc_dg0 = np.zeros(120960)\n",
    "fc_dg1 = np.zeros(120960)\n",
    "fc_dg2 = np.zeros(120960)\n",
    "fc_dg3 = np.zeros(120960)\n",
    "\n",
    "for i in range(len(dg0)):\n",
    "    if dg0[i] == 0:\n",
    "        fc_dg0[i] = 0\n",
    "    else:\n",
    "        fc_dg0[i] = (445*dg0n[i] + 47)/720\n",
    "        \n",
    "for i in range(len(dg1)):\n",
    "    if dg1[i] == 0:\n",
    "        fc_dg1[i] = 0\n",
    "    else:\n",
    "        fc_dg1[i] = (445*dg1n[i] + 47)/720\n",
    "        \n",
    "for i in range(len(dg2)):\n",
    "    if dg2[i] == 0:\n",
    "        fc_dg2[i] = 0\n",
    "    else:\n",
    "        fc_dg2[i] = (445*dg2n[i] + 47)/720\n",
    "        \n",
    "for i in range(len(dg3)):\n",
    "    if dg3[i] == 0:\n",
    "        fc_dg3[i] = 0\n",
    "    else:\n",
    "        fc_dg3[i] = (445*dg3n[i] + 47)/720"
   ]
  },
  {
   "cell_type": "code",
   "execution_count": 46,
   "metadata": {},
   "outputs": [
    {
     "name": "stdout",
     "output_type": "stream",
     "text": [
      "Total fuel consumption of BASECASE med batteri kun til spinning reserve og 20% batteri start shore connection er:  40089.64959020127 liter\n"
     ]
    }
   ],
   "source": [
    "fc = sum(fc_dg0) + sum(fc_dg1) + sum(fc_dg2) + sum(fc_dg3)\n",
    "print('Total fuel consumption of BASECASE med batteri kun til spinning reserve og 20% batteri start shore connection er: ', fc, 'liter')"
   ]
  },
  {
   "cell_type": "code",
   "execution_count": null,
   "metadata": {},
   "outputs": [],
   "source": []
  }
 ],
 "metadata": {
  "kernelspec": {
   "display_name": "Python 3",
   "language": "python",
   "name": "python3"
  },
  "language_info": {
   "codemirror_mode": {
    "name": "ipython",
    "version": 3
   },
   "file_extension": ".py",
   "mimetype": "text/x-python",
   "name": "python",
   "nbconvert_exporter": "python",
   "pygments_lexer": "ipython3",
   "version": "3.8.5"
  }
 },
 "nbformat": 4,
 "nbformat_minor": 4
}
