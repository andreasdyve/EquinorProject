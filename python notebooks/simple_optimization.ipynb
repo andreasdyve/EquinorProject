{
 "cells": [
  {
   "cell_type": "code",
   "execution_count": 3,
   "metadata": {},
   "outputs": [],
   "source": [
    "import pandas as pd\n",
    "df = pd.read_excel('/Users/Andreas/EquinorProject/excel/op5.xlsx')"
   ]
  },
  {
   "cell_type": "code",
   "execution_count": null,
   "metadata": {},
   "outputs": [],
   "source": [
    "df"
   ]
  },
  {
   "cell_type": "code",
   "execution_count": null,
   "metadata": {},
   "outputs": [],
   "source": [
    "import numpy as np\n",
    "from  docplex.mp.model  import Model\n",
    "\n",
    "m = Model()\n",
    "n = 100\n",
    "\n",
    "load = df['thrusterAndPropulsion'].iloc[0:100].values\n",
    "n1 = np.zeros(n)\n",
    "n2 = np.zeros(n)\n",
    "\n",
    "p1 = m.continuous_var_list(n)\n",
    "p2 = m.continuous_var_list(n)\n",
    "\n",
    "for i in range(n):\n",
    "    #constraints\n",
    "    m.add_constraint(p1[i] + p2[i] == load[i]) #kW, supply=demand \n",
    "    m.add_constraint(p1[i] <= 2100) #kW, rated cap\n",
    "    m.add_constraint(p2[i] <= 2100) #kW, rated cap\n",
    "    \n",
    "    #efficiency calculations\n",
    "    n1 = 0.4*p1[i]+0.21\n",
    "    n2 = 0.4*p2[i]+0.21\n",
    "\n",
    "n = n1 + n2\n",
    "\n",
    "m.maximize(n)\n",
    "sol = m.solve()\n",
    "\n"
   ]
  },
  {
   "cell_type": "code",
   "execution_count": null,
   "metadata": {},
   "outputs": [],
   "source": []
  }
 ],
 "metadata": {
  "kernelspec": {
   "display_name": "Python 3",
   "language": "python",
   "name": "python3"
  },
  "language_info": {
   "codemirror_mode": {
    "name": "ipython",
    "version": 3
   },
   "file_extension": ".py",
   "mimetype": "text/x-python",
   "name": "python",
   "nbconvert_exporter": "python",
   "pygments_lexer": "ipython3",
   "version": "3.8.5"
  }
 },
 "nbformat": 4,
 "nbformat_minor": 4
}
