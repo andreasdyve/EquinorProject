{
 "cells": [
  {
   "cell_type": "code",
   "execution_count": 1,
   "metadata": {},
   "outputs": [],
   "source": [
    "import pandas as pd\n",
    "import numpy as np\n",
    "import matplotlib.pyplot as plt"
   ]
  },
  {
   "cell_type": "code",
   "execution_count": 2,
   "metadata": {},
   "outputs": [],
   "source": [
    "df = pd.read_excel('data_full_5sekres.xlsx')"
   ]
  },
  {
   "cell_type": "code",
   "execution_count": 53,
   "metadata": {},
   "outputs": [],
   "source": [
    "df1 = df.copy()"
   ]
  },
  {
   "cell_type": "code",
   "execution_count": 54,
   "metadata": {},
   "outputs": [
    {
     "data": {
      "text/html": [
       "<div>\n",
       "<style scoped>\n",
       "    .dataframe tbody tr th:only-of-type {\n",
       "        vertical-align: middle;\n",
       "    }\n",
       "\n",
       "    .dataframe tbody tr th {\n",
       "        vertical-align: top;\n",
       "    }\n",
       "\n",
       "    .dataframe thead th {\n",
       "        text-align: right;\n",
       "    }\n",
       "</style>\n",
       "<table border=\"1\" class=\"dataframe\">\n",
       "  <thead>\n",
       "    <tr style=\"text-align: right;\">\n",
       "      <th></th>\n",
       "      <th>datetime</th>\n",
       "      <th>Load</th>\n",
       "      <th>engMdoPower_0_</th>\n",
       "      <th>engMdoPower_1_</th>\n",
       "      <th>engMdoPower_2_</th>\n",
       "      <th>engMdoPower_3_</th>\n",
       "      <th>operationId</th>\n",
       "      <th>dpMode</th>\n",
       "      <th>BaseLoad</th>\n",
       "      <th>Battery</th>\n",
       "      <th>SOC</th>\n",
       "    </tr>\n",
       "  </thead>\n",
       "  <tbody>\n",
       "    <tr>\n",
       "      <th>0</th>\n",
       "      <td>2020-01-30 00:00:00</td>\n",
       "      <td>0.0</td>\n",
       "      <td>0.0</td>\n",
       "      <td>0.0</td>\n",
       "      <td>0</td>\n",
       "      <td>0.0</td>\n",
       "      <td>6.0</td>\n",
       "      <td>0.0</td>\n",
       "      <td>0</td>\n",
       "      <td>0</td>\n",
       "      <td>0</td>\n",
       "    </tr>\n",
       "    <tr>\n",
       "      <th>1</th>\n",
       "      <td>2020-01-30 00:00:05</td>\n",
       "      <td>0.0</td>\n",
       "      <td>0.0</td>\n",
       "      <td>0.0</td>\n",
       "      <td>0</td>\n",
       "      <td>0.0</td>\n",
       "      <td>6.0</td>\n",
       "      <td>0.0</td>\n",
       "      <td>0</td>\n",
       "      <td>0</td>\n",
       "      <td>0</td>\n",
       "    </tr>\n",
       "    <tr>\n",
       "      <th>2</th>\n",
       "      <td>2020-01-30 00:00:10</td>\n",
       "      <td>0.0</td>\n",
       "      <td>0.0</td>\n",
       "      <td>0.0</td>\n",
       "      <td>0</td>\n",
       "      <td>0.0</td>\n",
       "      <td>6.0</td>\n",
       "      <td>0.0</td>\n",
       "      <td>0</td>\n",
       "      <td>0</td>\n",
       "      <td>0</td>\n",
       "    </tr>\n",
       "    <tr>\n",
       "      <th>3</th>\n",
       "      <td>2020-01-30 00:00:15</td>\n",
       "      <td>0.0</td>\n",
       "      <td>0.0</td>\n",
       "      <td>0.0</td>\n",
       "      <td>0</td>\n",
       "      <td>0.0</td>\n",
       "      <td>6.0</td>\n",
       "      <td>0.0</td>\n",
       "      <td>0</td>\n",
       "      <td>0</td>\n",
       "      <td>0</td>\n",
       "    </tr>\n",
       "    <tr>\n",
       "      <th>4</th>\n",
       "      <td>2020-01-30 00:00:20</td>\n",
       "      <td>0.0</td>\n",
       "      <td>0.0</td>\n",
       "      <td>0.0</td>\n",
       "      <td>0</td>\n",
       "      <td>0.0</td>\n",
       "      <td>6.0</td>\n",
       "      <td>0.0</td>\n",
       "      <td>0</td>\n",
       "      <td>0</td>\n",
       "      <td>0</td>\n",
       "    </tr>\n",
       "    <tr>\n",
       "      <th>...</th>\n",
       "      <td>...</td>\n",
       "      <td>...</td>\n",
       "      <td>...</td>\n",
       "      <td>...</td>\n",
       "      <td>...</td>\n",
       "      <td>...</td>\n",
       "      <td>...</td>\n",
       "      <td>...</td>\n",
       "      <td>...</td>\n",
       "      <td>...</td>\n",
       "      <td>...</td>\n",
       "    </tr>\n",
       "    <tr>\n",
       "      <th>120955</th>\n",
       "      <td>2020-02-05 23:59:35</td>\n",
       "      <td>1796.0</td>\n",
       "      <td>0.0</td>\n",
       "      <td>0.0</td>\n",
       "      <td>0</td>\n",
       "      <td>0.0</td>\n",
       "      <td>3.0</td>\n",
       "      <td>0.0</td>\n",
       "      <td>300</td>\n",
       "      <td>0</td>\n",
       "      <td>0</td>\n",
       "    </tr>\n",
       "    <tr>\n",
       "      <th>120956</th>\n",
       "      <td>2020-02-05 23:59:40</td>\n",
       "      <td>1743.2</td>\n",
       "      <td>0.0</td>\n",
       "      <td>0.0</td>\n",
       "      <td>0</td>\n",
       "      <td>0.0</td>\n",
       "      <td>3.0</td>\n",
       "      <td>0.0</td>\n",
       "      <td>300</td>\n",
       "      <td>0</td>\n",
       "      <td>0</td>\n",
       "    </tr>\n",
       "    <tr>\n",
       "      <th>120957</th>\n",
       "      <td>2020-02-05 23:59:45</td>\n",
       "      <td>1725.6</td>\n",
       "      <td>0.0</td>\n",
       "      <td>0.0</td>\n",
       "      <td>0</td>\n",
       "      <td>0.0</td>\n",
       "      <td>3.0</td>\n",
       "      <td>0.0</td>\n",
       "      <td>300</td>\n",
       "      <td>0</td>\n",
       "      <td>0</td>\n",
       "    </tr>\n",
       "    <tr>\n",
       "      <th>120958</th>\n",
       "      <td>2020-02-05 23:59:50</td>\n",
       "      <td>1760.8</td>\n",
       "      <td>0.0</td>\n",
       "      <td>0.0</td>\n",
       "      <td>0</td>\n",
       "      <td>0.0</td>\n",
       "      <td>3.0</td>\n",
       "      <td>0.0</td>\n",
       "      <td>300</td>\n",
       "      <td>0</td>\n",
       "      <td>0</td>\n",
       "    </tr>\n",
       "    <tr>\n",
       "      <th>120959</th>\n",
       "      <td>2020-02-05 23:59:55</td>\n",
       "      <td>1708.0</td>\n",
       "      <td>0.0</td>\n",
       "      <td>0.0</td>\n",
       "      <td>0</td>\n",
       "      <td>0.0</td>\n",
       "      <td>3.0</td>\n",
       "      <td>0.0</td>\n",
       "      <td>300</td>\n",
       "      <td>0</td>\n",
       "      <td>0</td>\n",
       "    </tr>\n",
       "  </tbody>\n",
       "</table>\n",
       "<p>120960 rows × 11 columns</p>\n",
       "</div>"
      ],
      "text/plain": [
       "                  datetime    Load  engMdoPower_0_  engMdoPower_1_  \\\n",
       "0      2020-01-30 00:00:00     0.0             0.0             0.0   \n",
       "1      2020-01-30 00:00:05     0.0             0.0             0.0   \n",
       "2      2020-01-30 00:00:10     0.0             0.0             0.0   \n",
       "3      2020-01-30 00:00:15     0.0             0.0             0.0   \n",
       "4      2020-01-30 00:00:20     0.0             0.0             0.0   \n",
       "...                    ...     ...             ...             ...   \n",
       "120955 2020-02-05 23:59:35  1796.0             0.0             0.0   \n",
       "120956 2020-02-05 23:59:40  1743.2             0.0             0.0   \n",
       "120957 2020-02-05 23:59:45  1725.6             0.0             0.0   \n",
       "120958 2020-02-05 23:59:50  1760.8             0.0             0.0   \n",
       "120959 2020-02-05 23:59:55  1708.0             0.0             0.0   \n",
       "\n",
       "        engMdoPower_2_  engMdoPower_3_  operationId  dpMode  BaseLoad  \\\n",
       "0                    0             0.0          6.0     0.0         0   \n",
       "1                    0             0.0          6.0     0.0         0   \n",
       "2                    0             0.0          6.0     0.0         0   \n",
       "3                    0             0.0          6.0     0.0         0   \n",
       "4                    0             0.0          6.0     0.0         0   \n",
       "...                ...             ...          ...     ...       ...   \n",
       "120955               0             0.0          3.0     0.0       300   \n",
       "120956               0             0.0          3.0     0.0       300   \n",
       "120957               0             0.0          3.0     0.0       300   \n",
       "120958               0             0.0          3.0     0.0       300   \n",
       "120959               0             0.0          3.0     0.0       300   \n",
       "\n",
       "        Battery  SOC  \n",
       "0             0    0  \n",
       "1             0    0  \n",
       "2             0    0  \n",
       "3             0    0  \n",
       "4             0    0  \n",
       "...         ...  ...  \n",
       "120955        0    0  \n",
       "120956        0    0  \n",
       "120957        0    0  \n",
       "120958        0    0  \n",
       "120959        0    0  \n",
       "\n",
       "[120960 rows x 11 columns]"
      ]
     },
     "metadata": {},
     "output_type": "display_data"
    }
   ],
   "source": [
    "#Create a column of load profile\n",
    "df1['Load'] = df1['thrusterAndPropulsion']\n",
    "df1['BaseLoad'] = 300\n",
    "df1.loc[df1['operationId'] == 6, 'BaseLoad'] = 0\n",
    "df1.loc[df1['operationId'] == 1, 'BaseLoad'] = 0\n",
    "df1['Load'] = df1['thrusterAndPropulsion'] + df1['BaseLoad']\n",
    "\n",
    "df1['Battery'] = 0\n",
    "df1['SOC'] = 0\n",
    "#Create dataset with only relevant columns\n",
    "df3 = df1[['datetime', 'Load', 'engMdoPower_0_','engMdoPower_1_','engMdoPower_2_', 'engMdoPower_3_', 'operationId', 'dpMode', 'BaseLoad', 'Battery', 'SOC']]\n",
    "\n",
    "#Set engine powers to zero\n",
    "num = df3['engMdoPower_0_']._get_numeric_data()\n",
    "num[num != 0] = 0\n",
    "\n",
    "num = df3['engMdoPower_1_']._get_numeric_data()\n",
    "num[num != 0] = 0\n",
    "\n",
    "num = df3['engMdoPower_2_']._get_numeric_data()\n",
    "num[num != 0] = 0\n",
    "\n",
    "num = df3['engMdoPower_3_']._get_numeric_data()\n",
    "num[num != 0] = 0\n",
    "\n",
    "\n",
    "display(df3)"
   ]
  },
  {
   "cell_type": "markdown",
   "metadata": {},
   "source": [
    "# Find where offshore charging points are"
   ]
  },
  {
   "cell_type": "code",
   "execution_count": 55,
   "metadata": {},
   "outputs": [
    {
     "data": {
      "text/plain": [
       "[<matplotlib.lines.Line2D at 0x1d79f616dc0>]"
      ]
     },
     "execution_count": 55,
     "metadata": {},
     "output_type": "execute_result"
    },
    {
     "data": {
      "image/png": "[encoded data removed]",
      "text/plain": [
       "<Figure size 432x288 with 1 Axes>"
      ]
     },
     "metadata": {
      "needs_background": "light"
     },
     "output_type": "display_data"
    }
   ],
   "source": [
    "x = df.index\n",
    "y = df['speedOverGround']\n",
    "y1 = df['operationId']\n",
    "plt.plot(x,y)\n",
    "#plt.plot(x,y1)"
   ]
  },
  {
   "cell_type": "code",
   "execution_count": 56,
   "metadata": {},
   "outputs": [
    {
     "data": {
      "text/plain": [
       "[<matplotlib.lines.Line2D at 0x1d79f675e80>]"
      ]
     },
     "execution_count": 56,
     "metadata": {},
     "output_type": "execute_result"
    },
    {
     "data": {
      "image/png": "[encoded data removed]",
      "text/plain": [
       "<Figure size 432x288 with 1 Axes>"
      ]
     },
     "metadata": {
      "needs_background": "light"
     },
     "output_type": "display_data"
    }
   ],
   "source": [
    "x = df.index\n",
    "y = df['speedOverGround']\n",
    "y1 = df['operationId']\n",
    "y2 = df['dpMode']\n",
    "\n",
    "x = x[14400:18000]\n",
    "y = y[14400:18000]\n",
    "y1 = y1[14400:18000]\n",
    "y2 = y2[14400:18000]\n",
    "plt.plot(x,y)\n",
    "plt.plot(x,y1)"
   ]
  },
  {
   "cell_type": "code",
   "execution_count": 57,
   "metadata": {},
   "outputs": [
    {
     "data": {
      "text/plain": [
       "[<matplotlib.lines.Line2D at 0x1d7a09ea370>]"
      ]
     },
     "execution_count": 57,
     "metadata": {},
     "output_type": "execute_result"
    },
    {
     "data": {
      "image/png": "[encoded data removed]",
      "text/plain": [
       "<Figure size 432x288 with 1 Axes>"
      ]
     },
     "metadata": {
      "needs_background": "light"
     },
     "output_type": "display_data"
    }
   ],
   "source": [
    "x = df.index\n",
    "y = df['speedOverGround']\n",
    "y1 = df['operationId']\n",
    "y2 = df['dpMode']\n",
    "\n",
    "x = x[21700:24500]\n",
    "y = y[21700:24500]\n",
    "y1 = y1[21700:24500]\n",
    "y2 = y2[21700:24500]\n",
    "plt.plot(x,y)\n",
    "plt.plot(x,y1)"
   ]
  },
  {
   "cell_type": "code",
   "execution_count": 58,
   "metadata": {
    "scrolled": true
   },
   "outputs": [
    {
     "data": {
      "text/plain": [
       "[<matplotlib.lines.Line2D at 0x1d79d8b9040>]"
      ]
     },
     "execution_count": 58,
     "metadata": {},
     "output_type": "execute_result"
    },
    {
     "data": {
      "image/png": "[encoded data removed]",
      "text/plain": [
       "<Figure size 432x288 with 1 Axes>"
      ]
     },
     "metadata": {
      "needs_background": "light"
     },
     "output_type": "display_data"
    }
   ],
   "source": [
    "x = df.index\n",
    "y = df['speedOverGround']\n",
    "y1 = df['operationId']\n",
    "y2 = df['dpMode']\n",
    "\n",
    "x = x[56500:57800]\n",
    "y = y[56500:57800]\n",
    "y1 = y1[56500:57800]\n",
    "y2 = y2[56500:57800]\n",
    "plt.plot(x,y)\n",
    "plt.plot(x,y1)"
   ]
  },
  {
   "cell_type": "code",
   "execution_count": 59,
   "metadata": {},
   "outputs": [
    {
     "data": {
      "text/plain": [
       "[<matplotlib.lines.Line2D at 0x1d7a00cdb50>]"
      ]
     },
     "execution_count": 59,
     "metadata": {},
     "output_type": "execute_result"
    },
    {
     "data": {
      "image/png": "[encoded data removed]",
      "text/plain": [
       "<Figure size 432x288 with 1 Axes>"
      ]
     },
     "metadata": {
      "needs_background": "light"
     },
     "output_type": "display_data"
    }
   ],
   "source": [
    "x = df.index\n",
    "y = df['speedOverGround']\n",
    "y1 = df['operationId']\n",
    "y2 = df['dpMode']\n",
    "\n",
    "x = x[59700:60700]\n",
    "y = y[59700:60700]\n",
    "y1 = y1[59700:60700]\n",
    "y2 = y2[59700:60700]\n",
    "plt.plot(x,y)\n",
    "#plt.plot(x,y1)"
   ]
  },
  {
   "cell_type": "markdown",
   "metadata": {},
   "source": [
    "# Peakshaving i overgang fra 1 til 2 generatorer\n",
    "\n",
    "Offshore dock"
   ]
  },
  {
   "cell_type": "code",
   "execution_count": 60,
   "metadata": {},
   "outputs": [],
   "source": [
    "df5 = df3.copy()\n",
    "\n",
    "load = df5['Load'].values\n",
    "dg0 = df5['engMdoPower_0_'].values\n",
    "dg1 = df5['engMdoPower_1_'].values\n",
    "dg2 = df5['engMdoPower_2_'].values\n",
    "dg3 = df5['engMdoPower_3_'].values\n",
    "bat = df5['Battery'].values\n",
    "soc = [0]*120960\n",
    "soc[0] = 124 #124 empty (20%)\n",
    "opid = df5['operationId'].values\n",
    "shore = [0]*120960\n",
    "opid[15400:17500] = 6\n",
    "opid[21700:24500] = 6\n",
    "opid[56500:57800] = 6\n",
    "opid[59700:60700] = 6\n",
    "\n",
    "\n",
    "# DP mode, battery is used for spinning reserve \n",
    "for i in range(len(load)):\n",
    "    if i == 120959:\n",
    "        pass \n",
    "    \n",
    "    elif opid[i] == 100:\n",
    "        \n",
    "        if load[i] <= 2100 and soc[i] >= 310:\n",
    "            dg0[i] = load[i]\n",
    "            soc[i+1] = soc[i]\n",
    "        elif load[i] <= 2100 and soc[i] < 310:\n",
    "            dg0[i] = dg1[i] = load[i]/2\n",
    "            soc[i+1] = soc[i]\n",
    "            \n",
    "        elif load[i] > 2100 and soc[i] >= 310:\n",
    "            dg0[i] = dg1[i] = load[i]/2\n",
    "            soc[i+1] = soc[i]\n",
    "        elif load[i] > 2100 and soc[i] < 310:\n",
    "            dg0[i] = dg1[i] = dg3[i] = load[i]/3\n",
    "            soc[i+1] = soc[i]         \n",
    "\n",
    "        else:\n",
    "            soc[i+1] = soc[i]\n",
    "\n",
    "#Transit mode\n",
    "    elif opid[i] == 3 or opid[i] == 5:\n",
    "        if load[i] < 500 and soc[i] > 124:\n",
    "            bat[i] = load[i]\n",
    "            soc[i+1] = soc[i] - bat[i]/720 \n",
    "        elif load[i] <= 2100 and load[i] > 500:\n",
    "            dg0[i] = load[i]\n",
    "            soc[i+1] = soc[i]\n",
    "        elif load[i] > 2100 and load[i] <= 3000 and soc[i] > 124: # if the load is over 2100 for less than 5 seconds battery covers\n",
    "            dg0[i] = 2100\n",
    "            bat[i] = load[i] - dg0[i]\n",
    "            soc[i+1] = soc[i] - bat[i]/720\n",
    "        elif load[i] > 2100 and load[i] <= 3000 and soc[i] <= 124: # if the load is over 2100 for less than 5 seconds battery covers\n",
    "            dg0[i] = dg1[i] = load[i]/2\n",
    "            soc[i+1] = soc[i]\n",
    "        elif load[i] > 3000: # if the load is over 2100 for less than 5 seconds battery covers\n",
    "            dg0[i] = dg1[i] = load[i]/2\n",
    "            soc[i+1] = soc[i]\n",
    "        else:\n",
    "            soc[i+1] = soc[i]\n",
    "        \n",
    "#Standby mode\n",
    "    elif opid[i] == 7:\n",
    "        if load[i] < 500 and soc[i] > 124:\n",
    "            bat[i] = load[i]\n",
    "            soc[i+1] = soc[i] - bat[i]/720 \n",
    "        elif load[i] <= 2100:\n",
    "            dg0[i] = load[i]\n",
    "            soc[i+1] = soc[i]\n",
    "        elif load[i] > 2100 and load[i] <= 3000 and soc[i] > 124: # if the load is over 2100 for less than 5 seconds battery covers\n",
    "            dg0[i] = 2100\n",
    "            bat[i] = load[i] - dg0[i]\n",
    "            soc[i+1] = soc[i] - bat[i]/720\n",
    "        elif load[i] > 2100 and load[i] <= 3000 and soc[i] <= 124: # if the load is over 2100 for less than 5 seconds battery covers\n",
    "            dg0[i] = dg1[i] = load[i]/2\n",
    "            soc[i+1] = soc[i]\n",
    "        elif load[i] > 3000: # if the load is over 2100 for less than 5 seconds battery covers\n",
    "            dg0[i] = dg1[i] = load[i]/2\n",
    "            soc[i+1] = soc[i]\n",
    "        else:\n",
    "            soc[i+1] = soc[i]\n",
    "            \n",
    "# port\n",
    "    elif opid[i] == 1 and soc[i] < 496:\n",
    "        dg0[i] = load[i]# - bat[i]*1.08\n",
    "        soc[i+1] = soc[i]# - bat[i]/720\n",
    "    elif opid[i] == 1 and soc[i] >= 496:\n",
    "        dg0[i] = load[i]\n",
    "        soc[i+1] = soc[i]    \n",
    "    elif opid[i] == 6 and soc[i] < 496:\n",
    "        bat[i] = -50\n",
    "        shore[i] = load[i] - bat[i]*1.08\n",
    "        soc[i+1] = soc[i] - bat[i]/720\n",
    "    elif opid[i] == 6 and soc[i] >= 496:\n",
    "        shore[i] = load[i]\n",
    "        soc[i+1] = soc[i] \n",
    "    else:\n",
    "        soc[i+1] = soc[i]\n",
    "        dg0[i] = load[i]\n"
   ]
  },
  {
   "cell_type": "code",
   "execution_count": 51,
   "metadata": {},
   "outputs": [
    {
     "name": "stdout",
     "output_type": "stream",
     "text": [
      "Total fuel consumption of CASE 2 batteri mellom 1-2 gen:  31963.50604122282 liter\n"
     ]
    }
   ],
   "source": [
    "# Normalize Generators\n",
    "dg0n = (dg0-dg0.min()) / (2100 - dg0.min())\n",
    "dg1n = (dg1-dg1.min()) / (2100 - dg1.min())\n",
    "dg2n = (dg2-dg2.min()) / (2100 - dg2.min())\n",
    "dg3n = (dg3-dg3.min()) / (2100 - dg3.min())\n",
    "\n",
    "fc_dg0 = np.zeros(120960)\n",
    "fc_dg1 = np.zeros(120960)\n",
    "fc_dg2 = np.zeros(120960)\n",
    "fc_dg3 = np.zeros(120960)\n",
    "\n",
    "for i in range(len(dg0)):\n",
    "    if dg0[i] == 0:\n",
    "        fc_dg0[i] = 0\n",
    "    else:\n",
    "        fc_dg0[i] = (445*dg0n[i] + 47)/720\n",
    "        \n",
    "for i in range(len(dg1)):\n",
    "    if dg1[i] == 0:\n",
    "        fc_dg1[i] = 0\n",
    "    else:\n",
    "        fc_dg1[i] = (445*dg1n[i] + 47)/720\n",
    "        \n",
    "for i in range(len(dg2)):\n",
    "    if dg2[i] == 0:\n",
    "        fc_dg2[i] = 0\n",
    "    else:\n",
    "        fc_dg2[i] = (445*dg2n[i] + 47)/720\n",
    "        \n",
    "for i in range(len(dg3)):\n",
    "    if dg3[i] == 0:\n",
    "        fc_dg3[i] = 0\n",
    "    else:\n",
    "        fc_dg3[i] = (445*dg3n[i] + 47)/720\n",
    "        \n",
    "fc = sum(fc_dg0) + sum(fc_dg1) + sum(fc_dg2) + sum(fc_dg3)\n",
    "print('Total fuel consumption of CASE 2 batteri mellom 1-2 gen: ', fc, 'liter')"
   ]
  },
  {
   "cell_type": "code",
   "execution_count": 52,
   "metadata": {},
   "outputs": [
    {
     "data": {
      "text/plain": [
       "[<matplotlib.lines.Line2D at 0x1d79d85c280>]"
      ]
     },
     "execution_count": 52,
     "metadata": {},
     "output_type": "execute_result"
    },
    {
     "data": {
      "image/png": "[encoded data removed]",
      "text/plain": [
       "<Figure size 432x288 with 1 Axes>"
      ]
     },
     "metadata": {
      "needs_background": "light"
     },
     "output_type": "display_data"
    }
   ],
   "source": [
    "plt.plot(soc)"
   ]
  },
  {
   "cell_type": "code",
   "execution_count": 49,
   "metadata": {},
   "outputs": [
    {
     "data": {
      "text/plain": [
       "[<matplotlib.lines.Line2D at 0x1d79d788af0>]"
      ]
     },
     "execution_count": 49,
     "metadata": {},
     "output_type": "execute_result"
    },
    {
     "data": {
      "image/png": "[encoded data removed]",
      "text/plain": [
       "<Figure size 432x288 with 1 Axes>"
      ]
     },
     "metadata": {
      "needs_background": "light"
     },
     "output_type": "display_data"
    }
   ],
   "source": [
    "plt.plot(bat)"
   ]
  },
  {
   "cell_type": "markdown",
   "metadata": {},
   "source": [
    "# GØNNNE BATTERI SOM FAEN!"
   ]
  },
  {
   "cell_type": "code",
   "execution_count": 73,
   "metadata": {},
   "outputs": [],
   "source": [
    "df6 = df3.copy()\n",
    "\n",
    "load = df6['Load'].values\n",
    "dg0 = df6['engMdoPower_0_'].values\n",
    "dg1 = df6['engMdoPower_1_'].values\n",
    "dg2 = df6['engMdoPower_2_'].values\n",
    "dg3 = df6['engMdoPower_3_'].values\n",
    "bat = df6['Battery'].values\n",
    "soc = [0]*120960\n",
    "soc[0] = 124 #124 empty (20%)\n",
    "opid = df6['operationId'].values\n",
    "shore = [0]*120960\n",
    "opid[15400:17500] = 6\n",
    "opid[21700:24500] = 6\n",
    "opid[56500:57800] = 6\n",
    "opid[59700:60700] = 6\n",
    "\n",
    "# DP mode, battery is used for spinning reserve \n",
    "for i in range(len(load)):\n",
    "    if i == 120959:\n",
    "        pass\n",
    "    \n",
    "    # DP-mode\n",
    "    elif opid[i] == 100:\n",
    "        \n",
    "        if load[i] <= 2100 and soc[i] >= 200:\n",
    "            dg0[i] = load[i]\n",
    "            soc[i+1] = soc[i]\n",
    "        elif load[i] <= 2100 and soc[i] < 200:\n",
    "            dg0[i] = dg1[i] = load[i]/2\n",
    "            soc[i+1] = soc[i]\n",
    "            \n",
    "        elif load[i] > 2100 and soc[i] >= 200:\n",
    "            dg0[i] = dg1[i] = load[i]/2\n",
    "            soc[i+1] = soc[i]\n",
    "        elif load[i] > 2100 and soc[i] < 200:\n",
    "            dg0[i] = dg1[i] = dg3[i] = load[i]/3\n",
    "            soc[i+1] = soc[i]         \n",
    "\n",
    "        else:\n",
    "            soc[i+1] = soc[i]\n",
    "        \n",
    "#Transit mode\n",
    "    elif opid[i] == 3 or opid[i] == 5:\n",
    "        if soc[i] > 124 and load[i] <= 1000:\n",
    "            bat[i] = load[i]\n",
    "            soc[i+1] = soc[i] - bat[i]/720\n",
    "        elif soc[i] > 124 and load[i] > 1000 and load[i] <= 3100:\n",
    "            bat[i] = 1000\n",
    "            dg0[i] = load[i] - bat[i]\n",
    "            soc[i+1] = soc[i] - bat[i]/720\n",
    "        elif soc[i] > 124 and load[i] > 3100:\n",
    "            bat[i] = 1000\n",
    "            dg0[i] = dg1[i] = (load[i]-bat[i])/2\n",
    "        elif soc[i] <= 124 and load[i] <= 2100:\n",
    "            dg0[i] = load[i]\n",
    "            soc[i+1] = soc[i]\n",
    "        elif soc[i] <= 124 and load[i] > 2100:\n",
    "            dg0[i] = dg1[i] = load[i]/2\n",
    "            soc[i+1] = soc[i]\n",
    "        else:\n",
    "            soc[i+1] = soc[i]\n",
    "        \n",
    "# Standby mode\n",
    "    elif opid[i] == 7:\n",
    "        if soc[i] > 124 and load[i] <= 1000:\n",
    "            bat[i] = load[i]\n",
    "            soc[i+1] = soc[i] - bat[i]/720\n",
    "        elif soc[i] > 124 and load[i] > 1000 and load[i] <= 3100:\n",
    "            bat[i] = 1000\n",
    "            dg0[i] = load[i] - bat[i]\n",
    "            soc[i+1] = soc[i] - bat[i]/720\n",
    "        elif soc[i] > 124 and load[i] > 3100:\n",
    "            bat[i] = 1000\n",
    "            dg0[i] = dg1[i] = (load[i]-bat[i])/2\n",
    "        elif soc[i] <= 124 and load[i] <= 2100:\n",
    "            dg0[i] = load[i]\n",
    "            soc[i+1] = soc[i]\n",
    "        elif soc[i] <= 124 and load[i] > 2100:\n",
    "            dg0[i] = dg1[i] = load[i]/2\n",
    "            soc[i+1] = soc[i]\n",
    "        else:\n",
    "            soc[i+1] = soc[i]\n",
    "            \n",
    "#Port\n",
    "    elif opid[i] == 1:\n",
    "        if soc[i] > 124 and load[i] <= 1000:\n",
    "            bat[i] = load[i]\n",
    "            soc[i+1] = soc[i] - bat[i]/720\n",
    "        elif soc[i] > 124 and load[i] > 1000 and load[i] <= 3100:\n",
    "            bat[i] = 1000\n",
    "            dg0[i] = load[i] - bat[i]\n",
    "            soc[i+1] = soc[i] - bat[i]/720\n",
    "        elif soc[i] > 124 and load[i] > 3100:\n",
    "            bat[i] = 1000\n",
    "            dg0[i] = dg1[i] = (load[i]-bat[i])/2\n",
    "        elif soc[i] <= 124 and load[i] <= 2100:\n",
    "            dg0[i] = load[i]\n",
    "            soc[i+1] = soc[i]\n",
    "        elif soc[i] <= 124 and load[i] > 2100:\n",
    "            dg0[i] = dg1[i] = load[i]/2\n",
    "            soc[i+1] = soc[i]\n",
    "        else:\n",
    "            soc[i+1] = soc[i]\n",
    "    elif opid[i] == 6:\n",
    "        if soc[i] < 496:\n",
    "            bat[i] = -100\n",
    "            soc[i+1] = soc[i] - bat[i]/720\n",
    "            shore[i] = load[i] - bat[i]\n",
    "        elif soc[i] >= 496:\n",
    "            shore[i] = load[i]\n",
    "            soc[i+1] = soc[i]\n",
    "        else:\n",
    "            soc[i+1] = soc[i]\n",
    "    else:\n",
    "        soc[i+1] = soc[i]\n",
    "        dg0[i] = load[i]"
   ]
  },
  {
   "cell_type": "code",
   "execution_count": 74,
   "metadata": {},
   "outputs": [
    {
     "name": "stdout",
     "output_type": "stream",
     "text": [
      "Total fuel consumption of CASE 2 batteri Gønne batteri 1000:  32243.212567790797 liter\n"
     ]
    }
   ],
   "source": [
    "# Normalize Generators\n",
    "dg0n = (dg0-dg0.min()) / (2100 - dg0.min())\n",
    "dg1n = (dg1-dg1.min()) / (2100 - dg1.min())\n",
    "dg2n = (dg2-dg2.min()) / (2100 - dg2.min())\n",
    "dg3n = (dg3-dg3.min()) / (2100 - dg3.min())\n",
    "\n",
    "fc_dg0 = np.zeros(120960)\n",
    "fc_dg1 = np.zeros(120960)\n",
    "fc_dg2 = np.zeros(120960)\n",
    "fc_dg3 = np.zeros(120960)\n",
    "\n",
    "for i in range(len(dg0)):\n",
    "    if dg0[i] == 0:\n",
    "        fc_dg0[i] = 0\n",
    "    else:\n",
    "        fc_dg0[i] = (445*dg0n[i] + 47)/720\n",
    "        \n",
    "for i in range(len(dg1)):\n",
    "    if dg1[i] == 0:\n",
    "        fc_dg1[i] = 0\n",
    "    else:\n",
    "        fc_dg1[i] = (445*dg1n[i] + 47)/720\n",
    "        \n",
    "for i in range(len(dg2)):\n",
    "    if dg2[i] == 0:\n",
    "        fc_dg2[i] = 0\n",
    "    else:\n",
    "        fc_dg2[i] = (445*dg2n[i] + 47)/720\n",
    "        \n",
    "for i in range(len(dg3)):\n",
    "    if dg3[i] == 0:\n",
    "        fc_dg3[i] = 0\n",
    "    else:\n",
    "        fc_dg3[i] = (445*dg3n[i] + 47)/720\n",
    "        \n",
    "fc = sum(fc_dg0) + sum(fc_dg1) + sum(fc_dg2) + sum(fc_dg3)\n",
    "print('Total fuel consumption of CASE 2 batteri Gønne batteri 1000: ', fc, 'liter')"
   ]
  },
  {
   "cell_type": "code",
   "execution_count": 75,
   "metadata": {},
   "outputs": [
    {
     "data": {
      "text/plain": [
       "[<matplotlib.lines.Line2D at 0x1d7a0ccebb0>]"
      ]
     },
     "execution_count": 75,
     "metadata": {},
     "output_type": "execute_result"
    },
    {
     "data": {
      "image/png": "[encoded data removed]",
      "text/plain": [
       "<Figure size 432x288 with 1 Axes>"
      ]
     },
     "metadata": {
      "needs_background": "light"
     },
     "output_type": "display_data"
    }
   ],
   "source": [
    "plt.plot(bat)"
   ]
  },
  {
   "cell_type": "markdown",
   "metadata": {},
   "source": [
    "# Gønner batteri 100 kw"
   ]
  },
  {
   "cell_type": "code",
   "execution_count": 67,
   "metadata": {},
   "outputs": [],
   "source": [
    "df7 = df3.copy()\n",
    "\n",
    "load = df7['Load'].values\n",
    "dg0 = df7['engMdoPower_0_'].values\n",
    "dg1 = df7['engMdoPower_1_'].values\n",
    "dg2 = df7['engMdoPower_2_'].values\n",
    "dg3 = df7['engMdoPower_3_'].values\n",
    "bat = df7['Battery'].values\n",
    "soc = [0]*120960\n",
    "soc[0] = 124 #124 empty (20%)\n",
    "opid = df7['operationId'].values\n",
    "shore = [0]*120960\n",
    "opid[15400:17500] = 6\n",
    "opid[21700:24500] = 6\n",
    "opid[56500:57800] = 6\n",
    "opid[59700:60700] = 6\n",
    "\n",
    "# DP mode, battery is used for spinning reserve \n",
    "for i in range(len(load)):\n",
    "    if i == 120959:\n",
    "        pass\n",
    "    \n",
    "    # DP-mode\n",
    "    elif opid[i] == 100:\n",
    "        \n",
    "        if load[i] <= 2100 and soc[i] >= 200:\n",
    "            dg0[i] = load[i]\n",
    "            soc[i+1] = soc[i]\n",
    "        elif load[i] <= 2100 and soc[i] < 200:\n",
    "            dg0[i] = dg1[i] = load[i]/2\n",
    "            soc[i+1] = soc[i]\n",
    "            \n",
    "        elif load[i] > 2100 and soc[i] >= 200:\n",
    "            dg0[i] = dg1[i] = load[i]/2\n",
    "            soc[i+1] = soc[i]\n",
    "        elif load[i] > 2100 and soc[i] < 200:\n",
    "            dg0[i] = dg1[i] = dg3[i] = load[i]/3\n",
    "            soc[i+1] = soc[i]         \n",
    "\n",
    "        else:\n",
    "            soc[i+1] = soc[i]\n",
    "        \n",
    "#Transit mode\n",
    "    elif opid[i] == 3 or opid[i] == 5:\n",
    "        if soc[i] > 124 and load[i] <= 2200:\n",
    "            bat[i] = 100\n",
    "            dg0[i] = load[i] - bat[i]\n",
    "            soc[i+1] = soc[i] - bat[i]/720\n",
    "        elif soc[i] > 124 and load[i] > 2200 and load[i] < 4300:\n",
    "            bat[i] = 100\n",
    "            dg0[i] = dg1[i] = (load[i]-bat[i])/2\n",
    "            soc[i+1] = soc[i]\n",
    "        elif soc[i] <= 124 and load[i] <= 2100:\n",
    "            dg0[i] = load[i]\n",
    "            soc[i+1] = soc[i]\n",
    "        elif soc[i] <= 124 and load[i] > 2100:\n",
    "            dg0[i] = dg1[i] = load[i]/2\n",
    "            soc[i+1] = soc[i]\n",
    "        else:\n",
    "            soc[i+1] = soc[i]\n",
    "        \n",
    "# Standby mode\n",
    "    elif opid[i] == 7:\n",
    "        if soc[i] > 124 and load[i] <= 2200:\n",
    "            bat[i] = 100\n",
    "            dg0[i] = load[i] - bat[i]\n",
    "            soc[i+1] = soc[i] - bat[i]/720\n",
    "        elif soc[i] > 124 and load[i] > 2200 and load[i] < 4300:\n",
    "            bat[i] = 100\n",
    "            dg0[i] = dg1[i] = (load[i]-bat[i])/2\n",
    "            soc[i+1] = soc[i]\n",
    "        elif soc[i] <= 124 and load[i] <= 2100:\n",
    "            dg0[i] = load[i]\n",
    "            soc[i+1] = soc[i]\n",
    "        elif soc[i] <= 124 and load[i] > 2100:\n",
    "            dg0[i] = dg1[i] = load[i]/2\n",
    "            soc[i+1] = soc[i]\n",
    "        else:\n",
    "            soc[i+1] = soc[i]\n",
    "#Port\n",
    "    elif opid[i] == 1:\n",
    "        if soc[i] > 124 and load[i] <= 2200:\n",
    "            bat[i] = 100\n",
    "            dg0[i] = load[i] - bat[i]\n",
    "            soc[i+1] = soc[i] - bat[i]/720\n",
    "        elif soc[i] > 124 and load[i] > 2200 and load[i] < 4300:\n",
    "            bat[i] = 100\n",
    "            dg0[i] = dg1[i] = (load[i]-bat[i])/2\n",
    "            soc[i+1] = soc[i]\n",
    "        elif soc[i] <= 124 and load[i] <= 2100:\n",
    "            dg0[i] = load[i]\n",
    "            soc[i+1] = soc[i]\n",
    "        elif soc[i] <= 124 and load[i] > 2100:\n",
    "            dg0[i] = dg1[i] = load[i]/2\n",
    "            soc[i+1] = soc[i]\n",
    "        else:\n",
    "            soc[i+1] = soc[i]\n",
    "    elif opid[i] == 6:\n",
    "        if soc[i] < 496:\n",
    "            bat[i] = -100\n",
    "            soc[i+1] = soc[i] - bat[i]/720\n",
    "            shore[i] = load[i] - bat[i]\n",
    "        elif soc[i] >= 496:\n",
    "            shore[i] = load[i]\n",
    "            soc[i+1] = soc[i]\n",
    "        else:\n",
    "            soc[i+1] = soc[i]\n",
    "    else:\n",
    "        soc[i+1] = soc[i]\n",
    "        dg0[i] = load[i]"
   ]
  },
  {
   "cell_type": "code",
   "execution_count": 68,
   "metadata": {},
   "outputs": [
    {
     "name": "stdout",
     "output_type": "stream",
     "text": [
      "Total fuel consumption of CASE 2 batteri Gønne batteri 100:  33421.777785728686 liter\n"
     ]
    }
   ],
   "source": [
    "# Normalize Generators\n",
    "dg0n = (dg0-dg0.min()) / (2100 - dg0.min())\n",
    "dg1n = (dg1-dg1.min()) / (2100 - dg1.min())\n",
    "dg2n = (dg2-dg2.min()) / (2100 - dg2.min())\n",
    "dg3n = (dg3-dg3.min()) / (2100 - dg3.min())\n",
    "\n",
    "fc_dg0 = np.zeros(120960)\n",
    "fc_dg1 = np.zeros(120960)\n",
    "fc_dg2 = np.zeros(120960)\n",
    "fc_dg3 = np.zeros(120960)\n",
    "\n",
    "for i in range(len(dg0)):\n",
    "    if dg0[i] == 0:\n",
    "        fc_dg0[i] = 0\n",
    "    else:\n",
    "        fc_dg0[i] = (445*dg0n[i] + 47)/720\n",
    "        \n",
    "for i in range(len(dg1)):\n",
    "    if dg1[i] == 0:\n",
    "        fc_dg1[i] = 0\n",
    "    else:\n",
    "        fc_dg1[i] = (445*dg1n[i] + 47)/720\n",
    "        \n",
    "for i in range(len(dg2)):\n",
    "    if dg2[i] == 0:\n",
    "        fc_dg2[i] = 0\n",
    "    else:\n",
    "        fc_dg2[i] = (445*dg2n[i] + 47)/720\n",
    "        \n",
    "for i in range(len(dg3)):\n",
    "    if dg3[i] == 0:\n",
    "        fc_dg3[i] = 0\n",
    "    else:\n",
    "        fc_dg3[i] = (445*dg3n[i] + 47)/720\n",
    "        \n",
    "fc = sum(fc_dg0) + sum(fc_dg1) + sum(fc_dg2) + sum(fc_dg3)\n",
    "print('Total fuel consumption of CASE 2 batteri Gønne batteri 100: ', fc, 'liter')"
   ]
  },
  {
   "cell_type": "code",
   "execution_count": 69,
   "metadata": {},
   "outputs": [
    {
     "data": {
      "text/plain": [
       "[<matplotlib.lines.Line2D at 0x1d7a0469d60>]"
      ]
     },
     "execution_count": 69,
     "metadata": {},
     "output_type": "execute_result"
    },
    {
     "data": {
      "image/png": "[encoded data removed]",
      "text/plain": [
       "<Figure size 432x288 with 1 Axes>"
      ]
     },
     "metadata": {
      "needs_background": "light"
     },
     "output_type": "display_data"
    }
   ],
   "source": [
    "plt.plot(bat)"
   ]
  },
  {
   "cell_type": "code",
   "execution_count": null,
   "metadata": {},
   "outputs": [],
   "source": []
  }
 ],
 "metadata": {
  "kernelspec": {
   "display_name": "Python 3",
   "language": "python",
   "name": "python3"
  },
  "language_info": {
   "codemirror_mode": {
    "name": "ipython",
    "version": 3
   },
   "file_extension": ".py",
   "mimetype": "text/x-python",
   "name": "python",
   "nbconvert_exporter": "python",
   "pygments_lexer": "ipython3",
   "version": "3.8.5"
  }
 },
 "nbformat": 4,
 "nbformat_minor": 4
}
