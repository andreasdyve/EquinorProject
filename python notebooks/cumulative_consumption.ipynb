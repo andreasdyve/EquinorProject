{
 "cells": [
  {
   "cell_type": "code",
   "execution_count": null,
   "metadata": {},
   "outputs": [],
   "source": [
    "import pandas as pd\n",
    "import numpy as np\n",
    "import matplotlib.pyplot as plt"
   ]
  },
  {
   "cell_type": "code",
   "execution_count": null,
   "metadata": {},
   "outputs": [],
   "source": [
    "df = pd.read_excel('data_full_sekres.xlsx')"
   ]
  },
  {
   "cell_type": "code",
   "execution_count": null,
   "metadata": {},
   "outputs": [],
   "source": [
    "df"
   ]
  },
  {
   "cell_type": "markdown",
   "metadata": {},
   "source": [
    "# plotter akkumulerte utslipp"
   ]
  },
  {
   "cell_type": "code",
   "execution_count": null,
   "metadata": {},
   "outputs": [],
   "source": [
    "df['engMdoConsumption_0_cum_'] = df['engMdoConsumption_0_'].divide(3600).cumsum()\n",
    "df['engMdoConsumption_1_cum_'] = df['engMdoConsumption_1_'].divide(3600).cumsum()\n",
    "df['engMdoConsumption_2_cum_'] = df['engMdoConsumption_2_'].divide(3600).cumsum()\n",
    "df['engMdoConsumption_3_cum_'] = df['engMdoConsumption_3_'].divide(3600).cumsum()\n",
    "\n",
    "df['engMdoConsumption_all_cum_'] = df['engMdoConsumption_0_cum_'] + df['engMdoConsumption_1_cum_'] +  \\\n",
    "df['engMdoConsumption_2_cum_'] + df['engMdoConsumption_3_cum_']\n",
    "\n",
    "df.plot(x='datetime', y=['engMdoConsumption_0_cum_', 'engMdoConsumption_1_cum_', \\\n",
    "                         'engMdoConsumption_2_cum_', 'engMdoConsumption_3_cum_'], \\\n",
    "                            label=['DG 1', 'DG 2', 'DG 3', 'DG 4'], \\\n",
    "                            title='Cumulative diesel consumption per diesel generator')\n",
    "plt.xlabel('time')\n",
    "plt.ylabel('liters')\n",
    "plt.savefig('diesel_consumption_per')\n",
    "\n",
    "df.plot(x='datetime', y='engMdoConsumption_all_cum_', title='Cumulative diesel consumption all diesel generators')\n",
    "plt.xlabel('time')\n",
    "plt.ylabel('liters')\n",
    "plt.savefig('diesel_consumption_all')"
   ]
  },
  {
   "cell_type": "markdown",
   "metadata": {},
   "source": [
    "# Printer summen av forbruk"
   ]
  },
  {
   "cell_type": "code",
   "execution_count": null,
   "metadata": {},
   "outputs": [],
   "source": [
    "print(df['engMdoConsumption_0_cum_'].iloc[-1])\n",
    "print(df['engMdoConsumption_1_cum_'].iloc[-1])\n",
    "print(df['engMdoConsumption_2_cum_'].iloc[-1])\n",
    "print(df['engMdoConsumption_3_cum_'].iloc[-1])\n",
    "\n",
    "print(df['engMdoConsumption_all_cum_'].iloc[-1])"
   ]
  },
  {
   "cell_type": "markdown",
   "metadata": {},
   "source": [
    "# For å regne ut summen for en gitt OPID"
   ]
  },
  {
   "cell_type": "code",
   "execution_count": null,
   "metadata": {},
   "outputs": [],
   "source": [
    "df_transitEco = df.loc[df['operationId'] == 3]\n",
    "df_transitFast = df.loc[df['operationId'] == 5]\n",
    "\n",
    "df_transitEco['engMdoConsumption_0_cum_'] = df_transitEco['engMdoConsumption_0_'].divide(3600).cumsum()\n",
    "df_transitEco['engMdoConsumption_1_cum_'] = df_transitEco['engMdoConsumption_1_'].divide(3600).cumsum()\n",
    "df_transitEco['engMdoConsumption_2_cum_'] = df_transitEco['engMdoConsumption_2_'].divide(3600).cumsum()\n",
    "df_transitEco['engMdoConsumption_3_cum_'] = df_transitEco['engMdoConsumption_3_'].divide(3600).cumsum()\n",
    "\n",
    "df_transitEco['engMdoConsumption_all_cum_'] = df_transitEco['engMdoConsumption_0_cum_'] + \\\n",
    "df_transitEco['engMdoConsumption_1_cum_'] + df_transitEco['engMdoConsumption_2_cum_'] + \\\n",
    "df_transitEco['engMdoConsumption_3_cum_']\n",
    "\n",
    "print(df_transitEco['engMdoConsumption_all_cum_'].iloc[-1])"
   ]
  },
  {
   "cell_type": "markdown",
   "metadata": {},
   "source": [
    "# Gjennomsnittsforbruk (l/h) og total (l)"
   ]
  },
  {
   "cell_type": "code",
   "execution_count": null,
   "metadata": {},
   "outputs": [],
   "source": [
    "mean = df['engMdoConsumption_0_'].mean() + df['engMdoConsumption_1_'].mean() + df['engMdoConsumption_2_'].mean()\\\n",
    "+ df['engMdoConsumption_3_'].mean()\n",
    "print(mean)\n",
    "\n",
    "tot = mean*(604800/3600)\n",
    "print(tot)"
   ]
  },
  {
   "cell_type": "markdown",
   "metadata": {},
   "source": [
    "# Gjennomsnittsforbruk og total tid i hver OPID"
   ]
  },
  {
   "cell_type": "code",
   "execution_count": null,
   "metadata": {},
   "outputs": [],
   "source": [
    "df_1 = df.loc[df['operationId']==1]\n",
    "df_3 = df.loc[df['operationId']==3]\n",
    "df_5 = df.loc[df['operationId']==5]\n",
    "df_6 = df.loc[df['operationId']==6]\n",
    "df_7 = df.loc[df['operationId']==7]\n",
    "df_100 = df.loc[df['operationId']==100]\n",
    "\n",
    "mean1 = df_1['engMdoConsumption_0_'].mean() + df_1['engMdoConsumption_1_'].mean() + df_1['engMdoConsumption_2_'].mean()\\\n",
    "+ df_1['engMdoConsumption_3_'].mean()\n",
    "\n",
    "mean3 = df_3['engMdoConsumption_0_'].mean() + df_3['engMdoConsumption_1_'].mean() + df_3['engMdoConsumption_2_'].mean()\\\n",
    "+ df_3['engMdoConsumption_3_'].mean()\n",
    "\n",
    "mean5 = df_5['engMdoConsumption_0_'].mean() + df_5['engMdoConsumption_1_'].mean() + df_5['engMdoConsumption_2_'].mean()\\\n",
    "+ df_5['engMdoConsumption_3_'].mean()\n",
    "\n",
    "mean6 = df_6['engMdoConsumption_0_'].mean() + df_6['engMdoConsumption_1_'].mean() + df_6['engMdoConsumption_2_'].mean()\\\n",
    "+ df_6['engMdoConsumption_3_'].mean()\n",
    "\n",
    "mean7 = df_7['engMdoConsumption_0_'].mean() + df_7['engMdoConsumption_1_'].mean() + df_7['engMdoConsumption_2_'].mean()\\\n",
    "+ df_7['engMdoConsumption_3_'].mean()\n",
    "\n",
    "mean100 = df_100['engMdoConsumption_0_'].mean() + df_100['engMdoConsumption_1_'].mean() + df_100['engMdoConsumption_2_'].mean()\\\n",
    "+ df_100['engMdoConsumption_3_'].mean()\n",
    "\n",
    "print(mean1)\n",
    "print(len(df_1))\n",
    "print(mean3)\n",
    "print(len(df_3))\n",
    "print(mean5)\n",
    "print(len(df_5))\n",
    "print(mean6)\n",
    "print(len(df_6))\n",
    "print(mean7)\n",
    "print(len(df_7))\n",
    "print(mean100)\n",
    "print(len(df_100))"
   ]
  }
 ],
 "metadata": {
  "kernelspec": {
   "display_name": "Python 3",
   "language": "python",
   "name": "python3"
  },
  "language_info": {
   "codemirror_mode": {
    "name": "ipython",
    "version": 3
   },
   "file_extension": ".py",
   "mimetype": "text/x-python",
   "name": "python",
   "nbconvert_exporter": "python",
   "pygments_lexer": "ipython3",
   "version": "3.8.5"
  }
 },
 "nbformat": 4,
 "nbformat_minor": 4
}
